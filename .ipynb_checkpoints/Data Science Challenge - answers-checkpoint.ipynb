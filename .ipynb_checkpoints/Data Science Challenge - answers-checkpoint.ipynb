{
 "cells": [
  {
   "cell_type": "markdown",
   "metadata": {},
   "source": [
    "# Part 1: Experiment design"
   ]
  },
  {
   "cell_type": "markdown",
   "metadata": {},
   "source": [
    "In order to perform a test that shows if professional photograpy is a factor that actually has an impact on the conversion rate of the properties, we should compare these rates among properties that show professional images and properties who don't. However, the conversion rate of each property is unique and may be influenced by many other factors.\n",
    "\n",
    "Therefore, the way to proceed will be performing an A/B test where the same properties were presented both with professional and non-professional images to a user sample, and then compating the conversion results between the two groups. For the test I will both consider a main KPI (conversion rate as property booking) and two secondary KPI (conversion rate as click on the property from a listing, conversion rate as saving the property as favorite / personal lists).\n",
    "\n",
    "In order to avoid getting biased results we should consider the following:\n",
    "\n",
    "- Randomisation bias: we should try to ensure that both groups of the test, control and test, are equally distributed. That does not only apply to demographical profiles but also to behaviour factors (i.e.: returning rate or ratio, usage of the service) or to arrival factors (i.e.: users arriving from ads or newsletters vs users arriving from organic search in our platform)\n",
    "- Selection bias: we should ran the test considering factors like country of the user or type and price of the property, to avoid getting results that may be partially significant but not applicable to the whole business. For instance, high quality photography may be more significant when the price of the property is higher and less significant for lower prices, therefore, we should ensure both types of property are included in our test.\n",
    "- Sample size: in order to ensure test significance we would need to previously calculate the minimal sample size required for the test, based on the original conversion rate of the properties prior to the A/B test.\n",
    "- Test duration and seasonality: consider the duration of the test in order to perceive significant effects. Also consider the period when the test is running. As bookings in vacational properties are very highly influenced by holiday periods, we should ensure that we include in our test both a high season period and also a valley period (i.e.: normal week outside holidays) to reinforce the validity of the results. Periods should be separated to compare the results. Periods of more than one week should be considered in order to avoind fluctuations of the business cycle.\n",
    "- Promotions: price promotions due to any factors should be avoided in order to ensure conversion is not affected (i.e.: price reduction for longer periods of time)\n",
    "- User experience: ensure that the implementation of the A/B test does not create any difficult user experience for the user (i.e: more loading time needed for one tipe or images than other) as that may affect the conversion rate.\n",
    "- Control period: track a period previous to introducing the changes on the A/B test to ensure that control and test group behaviours are actually similar before the changes, so we can relate any significant changes to the difference in the property images and not to other factors.\n",
    "- Standardization of the results: make sure to standardize the results in order to be able to make significant comparisons between the control and the test group.\n"
   ]
  },
  {
   "cell_type": "markdown",
   "metadata": {},
   "source": [
    "# Part 2: Result analysis"
   ]
  },
  {
   "cell_type": "code",
   "execution_count": 1,
   "metadata": {},
   "outputs": [],
   "source": [
    "# import libraries\n",
    "import pandas as pd\n",
    "import numpy as np\n",
    "import re\n",
    "import datetime\n",
    "import matplotlib.pyplot as plt\n",
    "import matplotlib.dates as mdates\n",
    "import seaborn as sns\n",
    "from scipy import stats"
   ]
  },
  {
   "cell_type": "markdown",
   "metadata": {},
   "source": [
    "## EDA"
   ]
  },
  {
   "cell_type": "code",
   "execution_count": 2,
   "metadata": {
    "scrolled": true
   },
   "outputs": [],
   "source": [
    "## Load Json file\n",
    "data = pd.read_json('data/intervals_challenge.json', lines = True)"
   ]
  },
  {
   "cell_type": "code",
   "execution_count": 3,
   "metadata": {
    "scrolled": false
   },
   "outputs": [
    {
     "data": {
      "text/html": [
       "<div>\n",
       "<style scoped>\n",
       "    .dataframe tbody tr th:only-of-type {\n",
       "        vertical-align: middle;\n",
       "    }\n",
       "\n",
       "    .dataframe tbody tr th {\n",
       "        vertical-align: top;\n",
       "    }\n",
       "\n",
       "    .dataframe thead th {\n",
       "        text-align: right;\n",
       "    }\n",
       "</style>\n",
       "<table border=\"1\" class=\"dataframe\">\n",
       "  <thead>\n",
       "    <tr style=\"text-align: right;\">\n",
       "      <th></th>\n",
       "      <th>duration</th>\n",
       "      <th>distance</th>\n",
       "      <th>started_at</th>\n",
       "      <th>trip_id</th>\n",
       "      <th>vehicle_id</th>\n",
       "      <th>city_id</th>\n",
       "      <th>type</th>\n",
       "    </tr>\n",
       "  </thead>\n",
       "  <tbody>\n",
       "    <tr>\n",
       "      <td>0</td>\n",
       "      <td>857</td>\n",
       "      <td>5384</td>\n",
       "      <td>2016-10-03 13:00:00.286999941</td>\n",
       "      <td>c00cee6963e0dc66e50e271239426914</td>\n",
       "      <td>52d38cf1a3240d5cbdcf730f2d9a47d6</td>\n",
       "      <td>pentos</td>\n",
       "      <td>driving_to_destination</td>\n",
       "    </tr>\n",
       "    <tr>\n",
       "      <td>1</td>\n",
       "      <td>245</td>\n",
       "      <td>1248</td>\n",
       "      <td>2016-10-03 13:00:00.852999926</td>\n",
       "      <td>427425e1f4318ca2461168bdd6e4fcbd</td>\n",
       "      <td>8336b28f24c3e7a1e3d582073b164895</td>\n",
       "      <td>volantis</td>\n",
       "      <td>going_to_pickup</td>\n",
       "    </tr>\n",
       "    <tr>\n",
       "      <td>2</td>\n",
       "      <td>1249</td>\n",
       "      <td>5847</td>\n",
       "      <td>2016-10-03 13:00:01.670000076</td>\n",
       "      <td>757867f6d7c00ef92a65bfaa3895943f</td>\n",
       "      <td>8885c59374cc539163e83f01ed59fd16</td>\n",
       "      <td>pentos</td>\n",
       "      <td>driving_to_destination</td>\n",
       "    </tr>\n",
       "    <tr>\n",
       "      <td>3</td>\n",
       "      <td>471</td>\n",
       "      <td>2585</td>\n",
       "      <td>2016-10-03 13:00:01.841000080</td>\n",
       "      <td>d09d1301d361f7359d0d936557d10f89</td>\n",
       "      <td>81b63920454f70b6755a494e3b28b3a7</td>\n",
       "      <td>bravos</td>\n",
       "      <td>going_to_pickup</td>\n",
       "    </tr>\n",
       "    <tr>\n",
       "      <td>4</td>\n",
       "      <td>182</td>\n",
       "      <td>743</td>\n",
       "      <td>2016-10-03 13:00:01.970000029</td>\n",
       "      <td>00f20a701f0ec2519353ef3ffaf75068</td>\n",
       "      <td>b73030977cbad61c9db55418909864fa</td>\n",
       "      <td>pentos</td>\n",
       "      <td>going_to_pickup</td>\n",
       "    </tr>\n",
       "  </tbody>\n",
       "</table>\n",
       "</div>"
      ],
      "text/plain": [
       "  duration distance                    started_at  \\\n",
       "0      857     5384 2016-10-03 13:00:00.286999941   \n",
       "1      245     1248 2016-10-03 13:00:00.852999926   \n",
       "2     1249     5847 2016-10-03 13:00:01.670000076   \n",
       "3      471     2585 2016-10-03 13:00:01.841000080   \n",
       "4      182      743 2016-10-03 13:00:01.970000029   \n",
       "\n",
       "                            trip_id                        vehicle_id  \\\n",
       "0  c00cee6963e0dc66e50e271239426914  52d38cf1a3240d5cbdcf730f2d9a47d6   \n",
       "1  427425e1f4318ca2461168bdd6e4fcbd  8336b28f24c3e7a1e3d582073b164895   \n",
       "2  757867f6d7c00ef92a65bfaa3895943f  8885c59374cc539163e83f01ed59fd16   \n",
       "3  d09d1301d361f7359d0d936557d10f89  81b63920454f70b6755a494e3b28b3a7   \n",
       "4  00f20a701f0ec2519353ef3ffaf75068  b73030977cbad61c9db55418909864fa   \n",
       "\n",
       "    city_id                    type  \n",
       "0    pentos  driving_to_destination  \n",
       "1  volantis         going_to_pickup  \n",
       "2    pentos  driving_to_destination  \n",
       "3    bravos         going_to_pickup  \n",
       "4    pentos         going_to_pickup  "
      ]
     },
     "execution_count": 3,
     "metadata": {},
     "output_type": "execute_result"
    }
   ],
   "source": [
    "## Explore Json content\n",
    "data.head()"
   ]
  },
  {
   "cell_type": "code",
   "execution_count": 4,
   "metadata": {},
   "outputs": [
    {
     "name": "stdout",
     "output_type": "stream",
     "text": [
      "<class 'pandas.core.frame.DataFrame'>\n",
      "RangeIndex: 165170 entries, 0 to 165169\n",
      "Data columns (total 7 columns):\n",
      "duration      165170 non-null object\n",
      "distance      165170 non-null object\n",
      "started_at    165170 non-null datetime64[ns]\n",
      "trip_id       165170 non-null object\n",
      "vehicle_id    165170 non-null object\n",
      "city_id       165170 non-null object\n",
      "type          165170 non-null object\n",
      "dtypes: datetime64[ns](1), object(6)\n",
      "memory usage: 8.8+ MB\n"
     ]
    }
   ],
   "source": [
    "## Check data types\n",
    "data.info()"
   ]
  },
  {
   "cell_type": "markdown",
   "metadata": {},
   "source": [
    "### First thoughts:\n"
   ]
  },
  {
   "cell_type": "markdown",
   "metadata": {},
   "source": [
    "\n",
    "\n",
    "Each row (vehicle_interval) contains the following attributes:\n",
    "\n",
    "- Duration: how long the interval last, in seconds.\n",
    "- Distance: how far the vehicle moved in this interval, in meters.\n",
    "- Started_at: when the interval started, UTC Time.\n",
    "- Trip_id: uniquely identifies the trip. trip_id starts with digits 0-8 when assigned using road distance, and starts with digits 9-f when assigned using linear distance.\n",
    "- Vehicle_id: uniquely identifies the vehicle.\n",
    "- City_id: either bravos, pentos and volantis.\n",
    "- Type: can be going_to_pickup, waiting_for_rider or driving_to_destination.\n",
    "\n",
    "Rider_id, an attribute also specified in the challenge, is not present in the given dataset.\n",
    "\n",
    "The dataset seems complete, as it has no missing values. Howewer, we will have to evaluate each single case, as some of the series types are not consistent with the expected content (i.e.: duration and distance should contain numerical values, but the content is labelled as object, therefore there may be other type of values included in the column). Let's explore each column and perform the needed changes on each one of them."
   ]
  },
  {
   "cell_type": "markdown",
   "metadata": {},
   "source": [
    "### Trip ID: "
   ]
  },
  {
   "cell_type": "code",
   "execution_count": 5,
   "metadata": {},
   "outputs": [
    {
     "name": "stdout",
     "output_type": "stream",
     "text": [
      "The number of rows registered in the dataset is 165170\n",
      "The number of unique trip_id in the dataset is 58686\n"
     ]
    }
   ],
   "source": [
    "## Is each trip ID unique, or does each one include three intervals (going_to_pickup, waiting_for_rider, \n",
    "## driving_to_destination)?\n",
    "\n",
    "print('The number of rows registered in the dataset is', data.shape[0])\n",
    "print('The number of unique trip_id in the dataset is', len(data.trip_id.unique()))\n"
   ]
  },
  {
   "cell_type": "code",
   "execution_count": 6,
   "metadata": {},
   "outputs": [
    {
     "name": "stdout",
     "output_type": "stream",
     "text": [
      "False\n"
     ]
    }
   ],
   "source": [
    "## It seems obvious that trip_ids are repeated thorughout the dataset. However, seing the numbers it is not probable that each\n",
    "## trip ID relates to three intervals:\n",
    "print(len(data.trip_id.unique())*3 == data.shape[0])"
   ]
  },
  {
   "cell_type": "code",
   "execution_count": 7,
   "metadata": {},
   "outputs": [
    {
     "data": {
      "text/plain": [
       "afacd04e18402f482e950ecc17c9f998    10\n",
       "b7e65508b9cf020062b8870ae5617cb6     6\n",
       "1e651a80714591696a7977f5c49b9e33     5\n",
       "50756ed6622945b0c79147be698c05c3     5\n",
       "37a15ede717ff8c94bcb5c2f0b93678c     4\n",
       "                                    ..\n",
       "ce55575f325711591b26bb18320d2271     1\n",
       "dffb3484a7a9e372ee24f3c0486ac45b     1\n",
       "422546500f1189a7b5b9b6bfc51432b6     1\n",
       "1b4e64c7c625d4117ce449289cd337a3     1\n",
       "cff00032bc6492d586a78eb50c656590     1\n",
       "Name: trip_id, Length: 58686, dtype: int64"
      ]
     },
     "execution_count": 7,
     "metadata": {},
     "output_type": "execute_result"
    }
   ],
   "source": [
    "## Some extra checks to undersand the trip_id field:\n",
    "data.trip_id.value_counts() "
   ]
  },
  {
   "cell_type": "code",
   "execution_count": 8,
   "metadata": {},
   "outputs": [
    {
     "data": {
      "text/html": [
       "<div>\n",
       "<style scoped>\n",
       "    .dataframe tbody tr th:only-of-type {\n",
       "        vertical-align: middle;\n",
       "    }\n",
       "\n",
       "    .dataframe tbody tr th {\n",
       "        vertical-align: top;\n",
       "    }\n",
       "\n",
       "    .dataframe thead th {\n",
       "        text-align: right;\n",
       "    }\n",
       "</style>\n",
       "<table border=\"1\" class=\"dataframe\">\n",
       "  <thead>\n",
       "    <tr style=\"text-align: right;\">\n",
       "      <th></th>\n",
       "      <th>duration</th>\n",
       "      <th>distance</th>\n",
       "      <th>started_at</th>\n",
       "      <th>trip_id</th>\n",
       "      <th>vehicle_id</th>\n",
       "      <th>city_id</th>\n",
       "      <th>type</th>\n",
       "    </tr>\n",
       "  </thead>\n",
       "  <tbody>\n",
       "    <tr>\n",
       "      <td>41788</td>\n",
       "      <td>292</td>\n",
       "      <td>164</td>\n",
       "      <td>2016-10-03 19:35:07.676000118</td>\n",
       "      <td>afacd04e18402f482e950ecc17c9f998</td>\n",
       "      <td>9ba0b39afdcc6010ae3a1bb6c50f7e5f</td>\n",
       "      <td>volantis</td>\n",
       "      <td>going_to_pickup</td>\n",
       "    </tr>\n",
       "    <tr>\n",
       "      <td>42381</td>\n",
       "      <td>6</td>\n",
       "      <td>1</td>\n",
       "      <td>2016-10-03 19:40:04.326999903</td>\n",
       "      <td>afacd04e18402f482e950ecc17c9f998</td>\n",
       "      <td>7f301b5d817d377c2d9c5da7cd97f7af</td>\n",
       "      <td>volantis</td>\n",
       "      <td>going_to_pickup</td>\n",
       "    </tr>\n",
       "    <tr>\n",
       "      <td>42436</td>\n",
       "      <td>298</td>\n",
       "      <td>898</td>\n",
       "      <td>2016-10-03 19:40:28.078999996</td>\n",
       "      <td>afacd04e18402f482e950ecc17c9f998</td>\n",
       "      <td>e4fc541b0dc9afa953b939d4298e574f</td>\n",
       "      <td>volantis</td>\n",
       "      <td>going_to_pickup</td>\n",
       "    </tr>\n",
       "    <tr>\n",
       "      <td>43022</td>\n",
       "      <td>387</td>\n",
       "      <td>9</td>\n",
       "      <td>2016-10-03 19:45:32.052999973</td>\n",
       "      <td>afacd04e18402f482e950ecc17c9f998</td>\n",
       "      <td>434c375d4695459846f7ec72889cfd6d</td>\n",
       "      <td>volantis</td>\n",
       "      <td>going_to_pickup</td>\n",
       "    </tr>\n",
       "    <tr>\n",
       "      <td>43805</td>\n",
       "      <td>114</td>\n",
       "      <td>318</td>\n",
       "      <td>2016-10-03 19:52:13.058000088</td>\n",
       "      <td>afacd04e18402f482e950ecc17c9f998</td>\n",
       "      <td>7f708e239bf82367a38fdde52f4e3850</td>\n",
       "      <td>volantis</td>\n",
       "      <td>going_to_pickup</td>\n",
       "    </tr>\n",
       "    <tr>\n",
       "      <td>44083</td>\n",
       "      <td>45</td>\n",
       "      <td>213</td>\n",
       "      <td>2016-10-03 19:54:15.230999947</td>\n",
       "      <td>afacd04e18402f482e950ecc17c9f998</td>\n",
       "      <td>59baf0054cbafa5a2dd697e091986113</td>\n",
       "      <td>volantis</td>\n",
       "      <td>going_to_pickup</td>\n",
       "    </tr>\n",
       "    <tr>\n",
       "      <td>44204</td>\n",
       "      <td>140</td>\n",
       "      <td>34</td>\n",
       "      <td>2016-10-03 19:55:09.642999887</td>\n",
       "      <td>afacd04e18402f482e950ecc17c9f998</td>\n",
       "      <td>bd4452df7540396186496a6ec00f3349</td>\n",
       "      <td>volantis</td>\n",
       "      <td>going_to_pickup</td>\n",
       "    </tr>\n",
       "    <tr>\n",
       "      <td>44525</td>\n",
       "      <td>149</td>\n",
       "      <td>274</td>\n",
       "      <td>2016-10-03 19:57:33.884999990</td>\n",
       "      <td>afacd04e18402f482e950ecc17c9f998</td>\n",
       "      <td>95ba655b5b8af4f5dd7a49667484fda2</td>\n",
       "      <td>volantis</td>\n",
       "      <td>going_to_pickup</td>\n",
       "    </tr>\n",
       "    <tr>\n",
       "      <td>44818</td>\n",
       "      <td>1422</td>\n",
       "      <td>6156</td>\n",
       "      <td>2016-10-03 20:00:12.289000034</td>\n",
       "      <td>afacd04e18402f482e950ecc17c9f998</td>\n",
       "      <td>802ccd5cd4b8e16877c96f44ecb0094e</td>\n",
       "      <td>volantis</td>\n",
       "      <td>going_to_pickup</td>\n",
       "    </tr>\n",
       "    <tr>\n",
       "      <td>47617</td>\n",
       "      <td>839</td>\n",
       "      <td>76</td>\n",
       "      <td>2016-10-03 20:23:54.740000010</td>\n",
       "      <td>afacd04e18402f482e950ecc17c9f998</td>\n",
       "      <td>802ccd5cd4b8e16877c96f44ecb0094e</td>\n",
       "      <td>volantis</td>\n",
       "      <td>waiting_for_rider</td>\n",
       "    </tr>\n",
       "  </tbody>\n",
       "</table>\n",
       "</div>"
      ],
      "text/plain": [
       "      duration distance                    started_at  \\\n",
       "41788      292      164 2016-10-03 19:35:07.676000118   \n",
       "42381        6        1 2016-10-03 19:40:04.326999903   \n",
       "42436      298      898 2016-10-03 19:40:28.078999996   \n",
       "43022      387        9 2016-10-03 19:45:32.052999973   \n",
       "43805      114      318 2016-10-03 19:52:13.058000088   \n",
       "44083       45      213 2016-10-03 19:54:15.230999947   \n",
       "44204      140       34 2016-10-03 19:55:09.642999887   \n",
       "44525      149      274 2016-10-03 19:57:33.884999990   \n",
       "44818     1422     6156 2016-10-03 20:00:12.289000034   \n",
       "47617      839       76 2016-10-03 20:23:54.740000010   \n",
       "\n",
       "                                trip_id                        vehicle_id  \\\n",
       "41788  afacd04e18402f482e950ecc17c9f998  9ba0b39afdcc6010ae3a1bb6c50f7e5f   \n",
       "42381  afacd04e18402f482e950ecc17c9f998  7f301b5d817d377c2d9c5da7cd97f7af   \n",
       "42436  afacd04e18402f482e950ecc17c9f998  e4fc541b0dc9afa953b939d4298e574f   \n",
       "43022  afacd04e18402f482e950ecc17c9f998  434c375d4695459846f7ec72889cfd6d   \n",
       "43805  afacd04e18402f482e950ecc17c9f998  7f708e239bf82367a38fdde52f4e3850   \n",
       "44083  afacd04e18402f482e950ecc17c9f998  59baf0054cbafa5a2dd697e091986113   \n",
       "44204  afacd04e18402f482e950ecc17c9f998  bd4452df7540396186496a6ec00f3349   \n",
       "44525  afacd04e18402f482e950ecc17c9f998  95ba655b5b8af4f5dd7a49667484fda2   \n",
       "44818  afacd04e18402f482e950ecc17c9f998  802ccd5cd4b8e16877c96f44ecb0094e   \n",
       "47617  afacd04e18402f482e950ecc17c9f998  802ccd5cd4b8e16877c96f44ecb0094e   \n",
       "\n",
       "        city_id               type  \n",
       "41788  volantis    going_to_pickup  \n",
       "42381  volantis    going_to_pickup  \n",
       "42436  volantis    going_to_pickup  \n",
       "43022  volantis    going_to_pickup  \n",
       "43805  volantis    going_to_pickup  \n",
       "44083  volantis    going_to_pickup  \n",
       "44204  volantis    going_to_pickup  \n",
       "44525  volantis    going_to_pickup  \n",
       "44818  volantis    going_to_pickup  \n",
       "47617  volantis  waiting_for_rider  "
      ]
     },
     "execution_count": 8,
     "metadata": {},
     "output_type": "execute_result"
    }
   ],
   "source": [
    "##Print some examples\n",
    "data[data.trip_id == 'afacd04e18402f482e950ecc17c9f998']"
   ]
  },
  {
   "cell_type": "code",
   "execution_count": 9,
   "metadata": {},
   "outputs": [
    {
     "data": {
      "text/html": [
       "<div>\n",
       "<style scoped>\n",
       "    .dataframe tbody tr th:only-of-type {\n",
       "        vertical-align: middle;\n",
       "    }\n",
       "\n",
       "    .dataframe tbody tr th {\n",
       "        vertical-align: top;\n",
       "    }\n",
       "\n",
       "    .dataframe thead th {\n",
       "        text-align: right;\n",
       "    }\n",
       "</style>\n",
       "<table border=\"1\" class=\"dataframe\">\n",
       "  <thead>\n",
       "    <tr style=\"text-align: right;\">\n",
       "      <th></th>\n",
       "      <th>duration</th>\n",
       "      <th>distance</th>\n",
       "      <th>started_at</th>\n",
       "      <th>trip_id</th>\n",
       "      <th>vehicle_id</th>\n",
       "      <th>city_id</th>\n",
       "      <th>type</th>\n",
       "    </tr>\n",
       "  </thead>\n",
       "  <tbody>\n",
       "    <tr>\n",
       "      <td>6800</td>\n",
       "      <td>457</td>\n",
       "      <td>1479</td>\n",
       "      <td>2016-10-03 14:07:16.717000008</td>\n",
       "      <td>5e755ed965c1a596270def80afedf0ba</td>\n",
       "      <td>802ccd5cd4b8e16877c96f44ecb0094e</td>\n",
       "      <td>volantis</td>\n",
       "      <td>going_to_pickup</td>\n",
       "    </tr>\n",
       "    <tr>\n",
       "      <td>7538</td>\n",
       "      <td>514</td>\n",
       "      <td>335</td>\n",
       "      <td>2016-10-03 14:14:54.081000090</td>\n",
       "      <td>5e755ed965c1a596270def80afedf0ba</td>\n",
       "      <td>802ccd5cd4b8e16877c96f44ecb0094e</td>\n",
       "      <td>volantis</td>\n",
       "      <td>waiting_for_rider</td>\n",
       "    </tr>\n",
       "    <tr>\n",
       "      <td>9245</td>\n",
       "      <td>277</td>\n",
       "      <td>895</td>\n",
       "      <td>2016-10-03 14:33:00.815000057</td>\n",
       "      <td>f448eddc866898034ae5aff14a042a01</td>\n",
       "      <td>802ccd5cd4b8e16877c96f44ecb0094e</td>\n",
       "      <td>volantis</td>\n",
       "      <td>going_to_pickup</td>\n",
       "    </tr>\n",
       "    <tr>\n",
       "      <td>9657</td>\n",
       "      <td>289</td>\n",
       "      <td>15</td>\n",
       "      <td>2016-10-03 14:37:37.492000103</td>\n",
       "      <td>f448eddc866898034ae5aff14a042a01</td>\n",
       "      <td>802ccd5cd4b8e16877c96f44ecb0094e</td>\n",
       "      <td>volantis</td>\n",
       "      <td>waiting_for_rider</td>\n",
       "    </tr>\n",
       "    <tr>\n",
       "      <td>10170</td>\n",
       "      <td>1735</td>\n",
       "      <td>9768</td>\n",
       "      <td>2016-10-03 14:42:26.999000072</td>\n",
       "      <td>f448eddc866898034ae5aff14a042a01</td>\n",
       "      <td>802ccd5cd4b8e16877c96f44ecb0094e</td>\n",
       "      <td>volantis</td>\n",
       "      <td>driving_to_destination</td>\n",
       "    </tr>\n",
       "    <tr>\n",
       "      <td>17587</td>\n",
       "      <td>290</td>\n",
       "      <td>1106</td>\n",
       "      <td>2016-10-03 15:52:45.255000114</td>\n",
       "      <td>d27586136a0ab722599223571b8ccb16</td>\n",
       "      <td>802ccd5cd4b8e16877c96f44ecb0094e</td>\n",
       "      <td>volantis</td>\n",
       "      <td>going_to_pickup</td>\n",
       "    </tr>\n",
       "    <tr>\n",
       "      <td>18122</td>\n",
       "      <td>4</td>\n",
       "      <td>0</td>\n",
       "      <td>2016-10-03 15:57:35.188999891</td>\n",
       "      <td>d27586136a0ab722599223571b8ccb16</td>\n",
       "      <td>802ccd5cd4b8e16877c96f44ecb0094e</td>\n",
       "      <td>volantis</td>\n",
       "      <td>waiting_for_rider</td>\n",
       "    </tr>\n",
       "    <tr>\n",
       "      <td>18128</td>\n",
       "      <td>2317</td>\n",
       "      <td>10552</td>\n",
       "      <td>2016-10-03 15:57:39.334000111</td>\n",
       "      <td>d27586136a0ab722599223571b8ccb16</td>\n",
       "      <td>802ccd5cd4b8e16877c96f44ecb0094e</td>\n",
       "      <td>volantis</td>\n",
       "      <td>driving_to_destination</td>\n",
       "    </tr>\n",
       "    <tr>\n",
       "      <td>29701</td>\n",
       "      <td>154</td>\n",
       "      <td>293</td>\n",
       "      <td>2016-10-03 17:43:58.328999996</td>\n",
       "      <td>f24ecb2b2a56692634f20783878ed337</td>\n",
       "      <td>802ccd5cd4b8e16877c96f44ecb0094e</td>\n",
       "      <td>volantis</td>\n",
       "      <td>going_to_pickup</td>\n",
       "    </tr>\n",
       "    <tr>\n",
       "      <td>34782</td>\n",
       "      <td>266</td>\n",
       "      <td>483</td>\n",
       "      <td>2016-10-03 18:32:55.543999910</td>\n",
       "      <td>2002ec19eb125ee990a882f462c02ea8</td>\n",
       "      <td>802ccd5cd4b8e16877c96f44ecb0094e</td>\n",
       "      <td>volantis</td>\n",
       "      <td>going_to_pickup</td>\n",
       "    </tr>\n",
       "    <tr>\n",
       "      <td>35224</td>\n",
       "      <td>8</td>\n",
       "      <td>44</td>\n",
       "      <td>2016-10-03 18:37:21.223000050</td>\n",
       "      <td>2002ec19eb125ee990a882f462c02ea8</td>\n",
       "      <td>802ccd5cd4b8e16877c96f44ecb0094e</td>\n",
       "      <td>volantis</td>\n",
       "      <td>waiting_for_rider</td>\n",
       "    </tr>\n",
       "    <tr>\n",
       "      <td>35233</td>\n",
       "      <td>1322</td>\n",
       "      <td>4644</td>\n",
       "      <td>2016-10-03 18:37:29.604000092</td>\n",
       "      <td>2002ec19eb125ee990a882f462c02ea8</td>\n",
       "      <td>802ccd5cd4b8e16877c96f44ecb0094e</td>\n",
       "      <td>volantis</td>\n",
       "      <td>driving_to_destination</td>\n",
       "    </tr>\n",
       "    <tr>\n",
       "      <td>37799</td>\n",
       "      <td>59</td>\n",
       "      <td>64</td>\n",
       "      <td>2016-10-03 19:01:23.901000023</td>\n",
       "      <td>fb729c120c42162c9131e8eeaa683904</td>\n",
       "      <td>802ccd5cd4b8e16877c96f44ecb0094e</td>\n",
       "      <td>volantis</td>\n",
       "      <td>going_to_pickup</td>\n",
       "    </tr>\n",
       "    <tr>\n",
       "      <td>37909</td>\n",
       "      <td>5</td>\n",
       "      <td>18</td>\n",
       "      <td>2016-10-03 19:02:22.766000032</td>\n",
       "      <td>fb729c120c42162c9131e8eeaa683904</td>\n",
       "      <td>802ccd5cd4b8e16877c96f44ecb0094e</td>\n",
       "      <td>volantis</td>\n",
       "      <td>waiting_for_rider</td>\n",
       "    </tr>\n",
       "    <tr>\n",
       "      <td>37915</td>\n",
       "      <td>629</td>\n",
       "      <td>3007</td>\n",
       "      <td>2016-10-03 19:02:27.576999903</td>\n",
       "      <td>fb729c120c42162c9131e8eeaa683904</td>\n",
       "      <td>802ccd5cd4b8e16877c96f44ecb0094e</td>\n",
       "      <td>volantis</td>\n",
       "      <td>driving_to_destination</td>\n",
       "    </tr>\n",
       "    <tr>\n",
       "      <td>39322</td>\n",
       "      <td>218</td>\n",
       "      <td>447</td>\n",
       "      <td>2016-10-03 19:14:39.283999920</td>\n",
       "      <td>a3aad2ea93115875197a80624919568f</td>\n",
       "      <td>802ccd5cd4b8e16877c96f44ecb0094e</td>\n",
       "      <td>volantis</td>\n",
       "      <td>going_to_pickup</td>\n",
       "    </tr>\n",
       "    <tr>\n",
       "      <td>39756</td>\n",
       "      <td>3</td>\n",
       "      <td>0</td>\n",
       "      <td>2016-10-03 19:18:17.275000095</td>\n",
       "      <td>a3aad2ea93115875197a80624919568f</td>\n",
       "      <td>802ccd5cd4b8e16877c96f44ecb0094e</td>\n",
       "      <td>volantis</td>\n",
       "      <td>waiting_for_rider</td>\n",
       "    </tr>\n",
       "    <tr>\n",
       "      <td>39761</td>\n",
       "      <td>640</td>\n",
       "      <td>2852</td>\n",
       "      <td>2016-10-03 19:18:19.907999992</td>\n",
       "      <td>a3aad2ea93115875197a80624919568f</td>\n",
       "      <td>802ccd5cd4b8e16877c96f44ecb0094e</td>\n",
       "      <td>volantis</td>\n",
       "      <td>driving_to_destination</td>\n",
       "    </tr>\n",
       "    <tr>\n",
       "      <td>41138</td>\n",
       "      <td>164</td>\n",
       "      <td>220</td>\n",
       "      <td>2016-10-03 19:29:48.217999935</td>\n",
       "      <td>c34a745b37dd1a2befbc1340dddfd0f3</td>\n",
       "      <td>802ccd5cd4b8e16877c96f44ecb0094e</td>\n",
       "      <td>volantis</td>\n",
       "      <td>going_to_pickup</td>\n",
       "    </tr>\n",
       "    <tr>\n",
       "      <td>41447</td>\n",
       "      <td>257</td>\n",
       "      <td>28</td>\n",
       "      <td>2016-10-03 19:32:32.440999985</td>\n",
       "      <td>c34a745b37dd1a2befbc1340dddfd0f3</td>\n",
       "      <td>802ccd5cd4b8e16877c96f44ecb0094e</td>\n",
       "      <td>volantis</td>\n",
       "      <td>waiting_for_rider</td>\n",
       "    </tr>\n",
       "    <tr>\n",
       "      <td>41966</td>\n",
       "      <td>1387</td>\n",
       "      <td>6770</td>\n",
       "      <td>2016-10-03 19:36:49.299999952</td>\n",
       "      <td>c34a745b37dd1a2befbc1340dddfd0f3</td>\n",
       "      <td>802ccd5cd4b8e16877c96f44ecb0094e</td>\n",
       "      <td>volantis</td>\n",
       "      <td>driving_to_destination</td>\n",
       "    </tr>\n",
       "    <tr>\n",
       "      <td>44818</td>\n",
       "      <td>1422</td>\n",
       "      <td>6156</td>\n",
       "      <td>2016-10-03 20:00:12.289000034</td>\n",
       "      <td>afacd04e18402f482e950ecc17c9f998</td>\n",
       "      <td>802ccd5cd4b8e16877c96f44ecb0094e</td>\n",
       "      <td>volantis</td>\n",
       "      <td>going_to_pickup</td>\n",
       "    </tr>\n",
       "    <tr>\n",
       "      <td>47617</td>\n",
       "      <td>839</td>\n",
       "      <td>76</td>\n",
       "      <td>2016-10-03 20:23:54.740000010</td>\n",
       "      <td>afacd04e18402f482e950ecc17c9f998</td>\n",
       "      <td>802ccd5cd4b8e16877c96f44ecb0094e</td>\n",
       "      <td>volantis</td>\n",
       "      <td>waiting_for_rider</td>\n",
       "    </tr>\n",
       "    <tr>\n",
       "      <td>49652</td>\n",
       "      <td>442</td>\n",
       "      <td>1155</td>\n",
       "      <td>2016-10-03 20:41:20.967999935</td>\n",
       "      <td>a7af357006876096b310d8ea901b6f02</td>\n",
       "      <td>802ccd5cd4b8e16877c96f44ecb0094e</td>\n",
       "      <td>volantis</td>\n",
       "      <td>going_to_pickup</td>\n",
       "    </tr>\n",
       "    <tr>\n",
       "      <td>50522</td>\n",
       "      <td>3</td>\n",
       "      <td>0</td>\n",
       "      <td>2016-10-03 20:48:43.344000101</td>\n",
       "      <td>a7af357006876096b310d8ea901b6f02</td>\n",
       "      <td>802ccd5cd4b8e16877c96f44ecb0094e</td>\n",
       "      <td>volantis</td>\n",
       "      <td>waiting_for_rider</td>\n",
       "    </tr>\n",
       "    <tr>\n",
       "      <td>50526</td>\n",
       "      <td>651</td>\n",
       "      <td>2496</td>\n",
       "      <td>2016-10-03 20:48:46.382999897</td>\n",
       "      <td>a7af357006876096b310d8ea901b6f02</td>\n",
       "      <td>802ccd5cd4b8e16877c96f44ecb0094e</td>\n",
       "      <td>volantis</td>\n",
       "      <td>driving_to_destination</td>\n",
       "    </tr>\n",
       "    <tr>\n",
       "      <td>52707</td>\n",
       "      <td>721</td>\n",
       "      <td>2019</td>\n",
       "      <td>2016-10-03 21:07:46.769999981</td>\n",
       "      <td>e97ee74f9db009dcc8fdd90169f56fe4</td>\n",
       "      <td>802ccd5cd4b8e16877c96f44ecb0094e</td>\n",
       "      <td>volantis</td>\n",
       "      <td>going_to_pickup</td>\n",
       "    </tr>\n",
       "    <tr>\n",
       "      <td>54091</td>\n",
       "      <td>3</td>\n",
       "      <td>0</td>\n",
       "      <td>2016-10-03 21:19:48.144999981</td>\n",
       "      <td>e97ee74f9db009dcc8fdd90169f56fe4</td>\n",
       "      <td>802ccd5cd4b8e16877c96f44ecb0094e</td>\n",
       "      <td>volantis</td>\n",
       "      <td>waiting_for_rider</td>\n",
       "    </tr>\n",
       "    <tr>\n",
       "      <td>54098</td>\n",
       "      <td>6</td>\n",
       "      <td>0</td>\n",
       "      <td>2016-10-03 21:19:51.125000000</td>\n",
       "      <td>e97ee74f9db009dcc8fdd90169f56fe4</td>\n",
       "      <td>802ccd5cd4b8e16877c96f44ecb0094e</td>\n",
       "      <td>volantis</td>\n",
       "      <td>driving_to_destination</td>\n",
       "    </tr>\n",
       "    <tr>\n",
       "      <td>56205</td>\n",
       "      <td>334</td>\n",
       "      <td>541</td>\n",
       "      <td>2016-10-03 21:38:46.178999901</td>\n",
       "      <td>4e9e1dc2f52d18c7ccd46e6baf02c6c4</td>\n",
       "      <td>802ccd5cd4b8e16877c96f44ecb0094e</td>\n",
       "      <td>volantis</td>\n",
       "      <td>going_to_pickup</td>\n",
       "    </tr>\n",
       "    <tr>\n",
       "      <td>56794</td>\n",
       "      <td>3</td>\n",
       "      <td>0</td>\n",
       "      <td>2016-10-03 21:44:20.566999912</td>\n",
       "      <td>4e9e1dc2f52d18c7ccd46e6baf02c6c4</td>\n",
       "      <td>802ccd5cd4b8e16877c96f44ecb0094e</td>\n",
       "      <td>volantis</td>\n",
       "      <td>waiting_for_rider</td>\n",
       "    </tr>\n",
       "    <tr>\n",
       "      <td>56801</td>\n",
       "      <td>2047</td>\n",
       "      <td>6553</td>\n",
       "      <td>2016-10-03 21:44:23.690000057</td>\n",
       "      <td>4e9e1dc2f52d18c7ccd46e6baf02c6c4</td>\n",
       "      <td>802ccd5cd4b8e16877c96f44ecb0094e</td>\n",
       "      <td>volantis</td>\n",
       "      <td>driving_to_destination</td>\n",
       "    </tr>\n",
       "    <tr>\n",
       "      <td>65137</td>\n",
       "      <td>101</td>\n",
       "      <td>108</td>\n",
       "      <td>2016-10-03 22:46:47.056999922</td>\n",
       "      <td>075c485977e0ee13927b02070a79075e</td>\n",
       "      <td>802ccd5cd4b8e16877c96f44ecb0094e</td>\n",
       "      <td>volantis</td>\n",
       "      <td>going_to_pickup</td>\n",
       "    </tr>\n",
       "    <tr>\n",
       "      <td>98752</td>\n",
       "      <td>496</td>\n",
       "      <td>953</td>\n",
       "      <td>2016-10-04 11:29:37.483000040</td>\n",
       "      <td>c7551bacbbf6843cb6560c32f98d76fd</td>\n",
       "      <td>802ccd5cd4b8e16877c96f44ecb0094e</td>\n",
       "      <td>volantis</td>\n",
       "      <td>going_to_pickup</td>\n",
       "    </tr>\n",
       "    <tr>\n",
       "      <td>99418</td>\n",
       "      <td>4</td>\n",
       "      <td>13</td>\n",
       "      <td>2016-10-04 11:37:53.020999908</td>\n",
       "      <td>c7551bacbbf6843cb6560c32f98d76fd</td>\n",
       "      <td>802ccd5cd4b8e16877c96f44ecb0094e</td>\n",
       "      <td>volantis</td>\n",
       "      <td>waiting_for_rider</td>\n",
       "    </tr>\n",
       "    <tr>\n",
       "      <td>99424</td>\n",
       "      <td>2480</td>\n",
       "      <td>13387</td>\n",
       "      <td>2016-10-04 11:37:57.250999927</td>\n",
       "      <td>c7551bacbbf6843cb6560c32f98d76fd</td>\n",
       "      <td>802ccd5cd4b8e16877c96f44ecb0094e</td>\n",
       "      <td>volantis</td>\n",
       "      <td>driving_to_destination</td>\n",
       "    </tr>\n",
       "    <tr>\n",
       "      <td>106225</td>\n",
       "      <td>301</td>\n",
       "      <td>1185</td>\n",
       "      <td>2016-10-04 12:44:13.184000015</td>\n",
       "      <td>c4db86b0482d10a85c91778a11f8af90</td>\n",
       "      <td>802ccd5cd4b8e16877c96f44ecb0094e</td>\n",
       "      <td>volantis</td>\n",
       "      <td>going_to_pickup</td>\n",
       "    </tr>\n",
       "    <tr>\n",
       "      <td>106799</td>\n",
       "      <td>41</td>\n",
       "      <td>0</td>\n",
       "      <td>2016-10-04 12:49:14.026000023</td>\n",
       "      <td>c4db86b0482d10a85c91778a11f8af90</td>\n",
       "      <td>802ccd5cd4b8e16877c96f44ecb0094e</td>\n",
       "      <td>volantis</td>\n",
       "      <td>waiting_for_rider</td>\n",
       "    </tr>\n",
       "    <tr>\n",
       "      <td>106890</td>\n",
       "      <td>2698</td>\n",
       "      <td>13040</td>\n",
       "      <td>2016-10-04 12:49:55.441999912</td>\n",
       "      <td>c4db86b0482d10a85c91778a11f8af90</td>\n",
       "      <td>802ccd5cd4b8e16877c96f44ecb0094e</td>\n",
       "      <td>volantis</td>\n",
       "      <td>driving_to_destination</td>\n",
       "    </tr>\n",
       "    <tr>\n",
       "      <td>112805</td>\n",
       "      <td>96</td>\n",
       "      <td>220</td>\n",
       "      <td>2016-10-04 13:39:12.332000017</td>\n",
       "      <td>2dbac902c8a140e6416f0b01809976e2</td>\n",
       "      <td>802ccd5cd4b8e16877c96f44ecb0094e</td>\n",
       "      <td>volantis</td>\n",
       "      <td>going_to_pickup</td>\n",
       "    </tr>\n",
       "    <tr>\n",
       "      <td>112988</td>\n",
       "      <td>148</td>\n",
       "      <td>34</td>\n",
       "      <td>2016-10-04 13:40:47.967999935</td>\n",
       "      <td>2dbac902c8a140e6416f0b01809976e2</td>\n",
       "      <td>802ccd5cd4b8e16877c96f44ecb0094e</td>\n",
       "      <td>volantis</td>\n",
       "      <td>waiting_for_rider</td>\n",
       "    </tr>\n",
       "    <tr>\n",
       "      <td>113268</td>\n",
       "      <td>654</td>\n",
       "      <td>3081</td>\n",
       "      <td>2016-10-04 13:43:15.770999908</td>\n",
       "      <td>2dbac902c8a140e6416f0b01809976e2</td>\n",
       "      <td>802ccd5cd4b8e16877c96f44ecb0094e</td>\n",
       "      <td>volantis</td>\n",
       "      <td>driving_to_destination</td>\n",
       "    </tr>\n",
       "    <tr>\n",
       "      <td>115120</td>\n",
       "      <td>110</td>\n",
       "      <td>342</td>\n",
       "      <td>2016-10-04 13:59:37.338000059</td>\n",
       "      <td>ca6211d449c898cc6aa0ac0058196dac</td>\n",
       "      <td>802ccd5cd4b8e16877c96f44ecb0094e</td>\n",
       "      <td>volantis</td>\n",
       "      <td>going_to_pickup</td>\n",
       "    </tr>\n",
       "    <tr>\n",
       "      <td>115312</td>\n",
       "      <td>254</td>\n",
       "      <td>38</td>\n",
       "      <td>2016-10-04 14:01:27.214999914</td>\n",
       "      <td>ca6211d449c898cc6aa0ac0058196dac</td>\n",
       "      <td>802ccd5cd4b8e16877c96f44ecb0094e</td>\n",
       "      <td>volantis</td>\n",
       "      <td>waiting_for_rider</td>\n",
       "    </tr>\n",
       "    <tr>\n",
       "      <td>115677</td>\n",
       "      <td>1231</td>\n",
       "      <td>11513</td>\n",
       "      <td>2016-10-04 14:05:41.243000031</td>\n",
       "      <td>ca6211d449c898cc6aa0ac0058196dac</td>\n",
       "      <td>802ccd5cd4b8e16877c96f44ecb0094e</td>\n",
       "      <td>volantis</td>\n",
       "      <td>driving_to_destination</td>\n",
       "    </tr>\n",
       "    <tr>\n",
       "      <td>122051</td>\n",
       "      <td>250</td>\n",
       "      <td>737</td>\n",
       "      <td>2016-10-04 15:02:08.915999889</td>\n",
       "      <td>fd3f71b8aeaa564a71a75877c7d4ea92</td>\n",
       "      <td>802ccd5cd4b8e16877c96f44ecb0094e</td>\n",
       "      <td>volantis</td>\n",
       "      <td>going_to_pickup</td>\n",
       "    </tr>\n",
       "    <tr>\n",
       "      <td>122639</td>\n",
       "      <td>462</td>\n",
       "      <td>77</td>\n",
       "      <td>2016-10-04 15:06:18.759999990</td>\n",
       "      <td>fd3f71b8aeaa564a71a75877c7d4ea92</td>\n",
       "      <td>802ccd5cd4b8e16877c96f44ecb0094e</td>\n",
       "      <td>volantis</td>\n",
       "      <td>waiting_for_rider</td>\n",
       "    </tr>\n",
       "    <tr>\n",
       "      <td>123632</td>\n",
       "      <td>2564</td>\n",
       "      <td>33348</td>\n",
       "      <td>2016-10-04 15:14:00.232000113</td>\n",
       "      <td>fd3f71b8aeaa564a71a75877c7d4ea92</td>\n",
       "      <td>802ccd5cd4b8e16877c96f44ecb0094e</td>\n",
       "      <td>volantis</td>\n",
       "      <td>driving_to_destination</td>\n",
       "    </tr>\n",
       "    <tr>\n",
       "      <td>154184</td>\n",
       "      <td>23</td>\n",
       "      <td>824</td>\n",
       "      <td>2016-10-04 19:13:31.052999973</td>\n",
       "      <td>5f12e22a5512b8d50d8e44d2a92d480d</td>\n",
       "      <td>802ccd5cd4b8e16877c96f44ecb0094e</td>\n",
       "      <td>volantis</td>\n",
       "      <td>going_to_pickup</td>\n",
       "    </tr>\n",
       "    <tr>\n",
       "      <td>159249</td>\n",
       "      <td>261</td>\n",
       "      <td>476</td>\n",
       "      <td>2016-10-04 19:51:15.058000088</td>\n",
       "      <td>31a45647532f4b1984bf311c87c9bf7a</td>\n",
       "      <td>802ccd5cd4b8e16877c96f44ecb0094e</td>\n",
       "      <td>volantis</td>\n",
       "      <td>going_to_pickup</td>\n",
       "    </tr>\n",
       "    <tr>\n",
       "      <td>159894</td>\n",
       "      <td>94</td>\n",
       "      <td>11</td>\n",
       "      <td>2016-10-04 19:55:36.200999975</td>\n",
       "      <td>31a45647532f4b1984bf311c87c9bf7a</td>\n",
       "      <td>802ccd5cd4b8e16877c96f44ecb0094e</td>\n",
       "      <td>volantis</td>\n",
       "      <td>waiting_for_rider</td>\n",
       "    </tr>\n",
       "    <tr>\n",
       "      <td>160090</td>\n",
       "      <td>1321</td>\n",
       "      <td>4102</td>\n",
       "      <td>2016-10-04 19:57:10.102999926</td>\n",
       "      <td>31a45647532f4b1984bf311c87c9bf7a</td>\n",
       "      <td>802ccd5cd4b8e16877c96f44ecb0094e</td>\n",
       "      <td>volantis</td>\n",
       "      <td>driving_to_destination</td>\n",
       "    </tr>\n",
       "    <tr>\n",
       "      <td>163962</td>\n",
       "      <td>NA</td>\n",
       "      <td>NA</td>\n",
       "      <td>2016-10-04 20:25:17.200000048</td>\n",
       "      <td>4eb750d9dd9a58175485145106091696</td>\n",
       "      <td>802ccd5cd4b8e16877c96f44ecb0094e</td>\n",
       "      <td>volantis</td>\n",
       "      <td>going_to_pickup</td>\n",
       "    </tr>\n",
       "  </tbody>\n",
       "</table>\n",
       "</div>"
      ],
      "text/plain": [
       "       duration distance                    started_at  \\\n",
       "6800        457     1479 2016-10-03 14:07:16.717000008   \n",
       "7538        514      335 2016-10-03 14:14:54.081000090   \n",
       "9245        277      895 2016-10-03 14:33:00.815000057   \n",
       "9657        289       15 2016-10-03 14:37:37.492000103   \n",
       "10170      1735     9768 2016-10-03 14:42:26.999000072   \n",
       "17587       290     1106 2016-10-03 15:52:45.255000114   \n",
       "18122         4        0 2016-10-03 15:57:35.188999891   \n",
       "18128      2317    10552 2016-10-03 15:57:39.334000111   \n",
       "29701       154      293 2016-10-03 17:43:58.328999996   \n",
       "34782       266      483 2016-10-03 18:32:55.543999910   \n",
       "35224         8       44 2016-10-03 18:37:21.223000050   \n",
       "35233      1322     4644 2016-10-03 18:37:29.604000092   \n",
       "37799        59       64 2016-10-03 19:01:23.901000023   \n",
       "37909         5       18 2016-10-03 19:02:22.766000032   \n",
       "37915       629     3007 2016-10-03 19:02:27.576999903   \n",
       "39322       218      447 2016-10-03 19:14:39.283999920   \n",
       "39756         3        0 2016-10-03 19:18:17.275000095   \n",
       "39761       640     2852 2016-10-03 19:18:19.907999992   \n",
       "41138       164      220 2016-10-03 19:29:48.217999935   \n",
       "41447       257       28 2016-10-03 19:32:32.440999985   \n",
       "41966      1387     6770 2016-10-03 19:36:49.299999952   \n",
       "44818      1422     6156 2016-10-03 20:00:12.289000034   \n",
       "47617       839       76 2016-10-03 20:23:54.740000010   \n",
       "49652       442     1155 2016-10-03 20:41:20.967999935   \n",
       "50522         3        0 2016-10-03 20:48:43.344000101   \n",
       "50526       651     2496 2016-10-03 20:48:46.382999897   \n",
       "52707       721     2019 2016-10-03 21:07:46.769999981   \n",
       "54091         3        0 2016-10-03 21:19:48.144999981   \n",
       "54098         6        0 2016-10-03 21:19:51.125000000   \n",
       "56205       334      541 2016-10-03 21:38:46.178999901   \n",
       "56794         3        0 2016-10-03 21:44:20.566999912   \n",
       "56801      2047     6553 2016-10-03 21:44:23.690000057   \n",
       "65137       101      108 2016-10-03 22:46:47.056999922   \n",
       "98752       496      953 2016-10-04 11:29:37.483000040   \n",
       "99418         4       13 2016-10-04 11:37:53.020999908   \n",
       "99424      2480    13387 2016-10-04 11:37:57.250999927   \n",
       "106225      301     1185 2016-10-04 12:44:13.184000015   \n",
       "106799       41        0 2016-10-04 12:49:14.026000023   \n",
       "106890     2698    13040 2016-10-04 12:49:55.441999912   \n",
       "112805       96      220 2016-10-04 13:39:12.332000017   \n",
       "112988      148       34 2016-10-04 13:40:47.967999935   \n",
       "113268      654     3081 2016-10-04 13:43:15.770999908   \n",
       "115120      110      342 2016-10-04 13:59:37.338000059   \n",
       "115312      254       38 2016-10-04 14:01:27.214999914   \n",
       "115677     1231    11513 2016-10-04 14:05:41.243000031   \n",
       "122051      250      737 2016-10-04 15:02:08.915999889   \n",
       "122639      462       77 2016-10-04 15:06:18.759999990   \n",
       "123632     2564    33348 2016-10-04 15:14:00.232000113   \n",
       "154184       23      824 2016-10-04 19:13:31.052999973   \n",
       "159249      261      476 2016-10-04 19:51:15.058000088   \n",
       "159894       94       11 2016-10-04 19:55:36.200999975   \n",
       "160090     1321     4102 2016-10-04 19:57:10.102999926   \n",
       "163962       NA       NA 2016-10-04 20:25:17.200000048   \n",
       "\n",
       "                                 trip_id                        vehicle_id  \\\n",
       "6800    5e755ed965c1a596270def80afedf0ba  802ccd5cd4b8e16877c96f44ecb0094e   \n",
       "7538    5e755ed965c1a596270def80afedf0ba  802ccd5cd4b8e16877c96f44ecb0094e   \n",
       "9245    f448eddc866898034ae5aff14a042a01  802ccd5cd4b8e16877c96f44ecb0094e   \n",
       "9657    f448eddc866898034ae5aff14a042a01  802ccd5cd4b8e16877c96f44ecb0094e   \n",
       "10170   f448eddc866898034ae5aff14a042a01  802ccd5cd4b8e16877c96f44ecb0094e   \n",
       "17587   d27586136a0ab722599223571b8ccb16  802ccd5cd4b8e16877c96f44ecb0094e   \n",
       "18122   d27586136a0ab722599223571b8ccb16  802ccd5cd4b8e16877c96f44ecb0094e   \n",
       "18128   d27586136a0ab722599223571b8ccb16  802ccd5cd4b8e16877c96f44ecb0094e   \n",
       "29701   f24ecb2b2a56692634f20783878ed337  802ccd5cd4b8e16877c96f44ecb0094e   \n",
       "34782   2002ec19eb125ee990a882f462c02ea8  802ccd5cd4b8e16877c96f44ecb0094e   \n",
       "35224   2002ec19eb125ee990a882f462c02ea8  802ccd5cd4b8e16877c96f44ecb0094e   \n",
       "35233   2002ec19eb125ee990a882f462c02ea8  802ccd5cd4b8e16877c96f44ecb0094e   \n",
       "37799   fb729c120c42162c9131e8eeaa683904  802ccd5cd4b8e16877c96f44ecb0094e   \n",
       "37909   fb729c120c42162c9131e8eeaa683904  802ccd5cd4b8e16877c96f44ecb0094e   \n",
       "37915   fb729c120c42162c9131e8eeaa683904  802ccd5cd4b8e16877c96f44ecb0094e   \n",
       "39322   a3aad2ea93115875197a80624919568f  802ccd5cd4b8e16877c96f44ecb0094e   \n",
       "39756   a3aad2ea93115875197a80624919568f  802ccd5cd4b8e16877c96f44ecb0094e   \n",
       "39761   a3aad2ea93115875197a80624919568f  802ccd5cd4b8e16877c96f44ecb0094e   \n",
       "41138   c34a745b37dd1a2befbc1340dddfd0f3  802ccd5cd4b8e16877c96f44ecb0094e   \n",
       "41447   c34a745b37dd1a2befbc1340dddfd0f3  802ccd5cd4b8e16877c96f44ecb0094e   \n",
       "41966   c34a745b37dd1a2befbc1340dddfd0f3  802ccd5cd4b8e16877c96f44ecb0094e   \n",
       "44818   afacd04e18402f482e950ecc17c9f998  802ccd5cd4b8e16877c96f44ecb0094e   \n",
       "47617   afacd04e18402f482e950ecc17c9f998  802ccd5cd4b8e16877c96f44ecb0094e   \n",
       "49652   a7af357006876096b310d8ea901b6f02  802ccd5cd4b8e16877c96f44ecb0094e   \n",
       "50522   a7af357006876096b310d8ea901b6f02  802ccd5cd4b8e16877c96f44ecb0094e   \n",
       "50526   a7af357006876096b310d8ea901b6f02  802ccd5cd4b8e16877c96f44ecb0094e   \n",
       "52707   e97ee74f9db009dcc8fdd90169f56fe4  802ccd5cd4b8e16877c96f44ecb0094e   \n",
       "54091   e97ee74f9db009dcc8fdd90169f56fe4  802ccd5cd4b8e16877c96f44ecb0094e   \n",
       "54098   e97ee74f9db009dcc8fdd90169f56fe4  802ccd5cd4b8e16877c96f44ecb0094e   \n",
       "56205   4e9e1dc2f52d18c7ccd46e6baf02c6c4  802ccd5cd4b8e16877c96f44ecb0094e   \n",
       "56794   4e9e1dc2f52d18c7ccd46e6baf02c6c4  802ccd5cd4b8e16877c96f44ecb0094e   \n",
       "56801   4e9e1dc2f52d18c7ccd46e6baf02c6c4  802ccd5cd4b8e16877c96f44ecb0094e   \n",
       "65137   075c485977e0ee13927b02070a79075e  802ccd5cd4b8e16877c96f44ecb0094e   \n",
       "98752   c7551bacbbf6843cb6560c32f98d76fd  802ccd5cd4b8e16877c96f44ecb0094e   \n",
       "99418   c7551bacbbf6843cb6560c32f98d76fd  802ccd5cd4b8e16877c96f44ecb0094e   \n",
       "99424   c7551bacbbf6843cb6560c32f98d76fd  802ccd5cd4b8e16877c96f44ecb0094e   \n",
       "106225  c4db86b0482d10a85c91778a11f8af90  802ccd5cd4b8e16877c96f44ecb0094e   \n",
       "106799  c4db86b0482d10a85c91778a11f8af90  802ccd5cd4b8e16877c96f44ecb0094e   \n",
       "106890  c4db86b0482d10a85c91778a11f8af90  802ccd5cd4b8e16877c96f44ecb0094e   \n",
       "112805  2dbac902c8a140e6416f0b01809976e2  802ccd5cd4b8e16877c96f44ecb0094e   \n",
       "112988  2dbac902c8a140e6416f0b01809976e2  802ccd5cd4b8e16877c96f44ecb0094e   \n",
       "113268  2dbac902c8a140e6416f0b01809976e2  802ccd5cd4b8e16877c96f44ecb0094e   \n",
       "115120  ca6211d449c898cc6aa0ac0058196dac  802ccd5cd4b8e16877c96f44ecb0094e   \n",
       "115312  ca6211d449c898cc6aa0ac0058196dac  802ccd5cd4b8e16877c96f44ecb0094e   \n",
       "115677  ca6211d449c898cc6aa0ac0058196dac  802ccd5cd4b8e16877c96f44ecb0094e   \n",
       "122051  fd3f71b8aeaa564a71a75877c7d4ea92  802ccd5cd4b8e16877c96f44ecb0094e   \n",
       "122639  fd3f71b8aeaa564a71a75877c7d4ea92  802ccd5cd4b8e16877c96f44ecb0094e   \n",
       "123632  fd3f71b8aeaa564a71a75877c7d4ea92  802ccd5cd4b8e16877c96f44ecb0094e   \n",
       "154184  5f12e22a5512b8d50d8e44d2a92d480d  802ccd5cd4b8e16877c96f44ecb0094e   \n",
       "159249  31a45647532f4b1984bf311c87c9bf7a  802ccd5cd4b8e16877c96f44ecb0094e   \n",
       "159894  31a45647532f4b1984bf311c87c9bf7a  802ccd5cd4b8e16877c96f44ecb0094e   \n",
       "160090  31a45647532f4b1984bf311c87c9bf7a  802ccd5cd4b8e16877c96f44ecb0094e   \n",
       "163962  4eb750d9dd9a58175485145106091696  802ccd5cd4b8e16877c96f44ecb0094e   \n",
       "\n",
       "         city_id                    type  \n",
       "6800    volantis         going_to_pickup  \n",
       "7538    volantis       waiting_for_rider  \n",
       "9245    volantis         going_to_pickup  \n",
       "9657    volantis       waiting_for_rider  \n",
       "10170   volantis  driving_to_destination  \n",
       "17587   volantis         going_to_pickup  \n",
       "18122   volantis       waiting_for_rider  \n",
       "18128   volantis  driving_to_destination  \n",
       "29701   volantis         going_to_pickup  \n",
       "34782   volantis         going_to_pickup  \n",
       "35224   volantis       waiting_for_rider  \n",
       "35233   volantis  driving_to_destination  \n",
       "37799   volantis         going_to_pickup  \n",
       "37909   volantis       waiting_for_rider  \n",
       "37915   volantis  driving_to_destination  \n",
       "39322   volantis         going_to_pickup  \n",
       "39756   volantis       waiting_for_rider  \n",
       "39761   volantis  driving_to_destination  \n",
       "41138   volantis         going_to_pickup  \n",
       "41447   volantis       waiting_for_rider  \n",
       "41966   volantis  driving_to_destination  \n",
       "44818   volantis         going_to_pickup  \n",
       "47617   volantis       waiting_for_rider  \n",
       "49652   volantis         going_to_pickup  \n",
       "50522   volantis       waiting_for_rider  \n",
       "50526   volantis  driving_to_destination  \n",
       "52707   volantis         going_to_pickup  \n",
       "54091   volantis       waiting_for_rider  \n",
       "54098   volantis  driving_to_destination  \n",
       "56205   volantis         going_to_pickup  \n",
       "56794   volantis       waiting_for_rider  \n",
       "56801   volantis  driving_to_destination  \n",
       "65137   volantis         going_to_pickup  \n",
       "98752   volantis         going_to_pickup  \n",
       "99418   volantis       waiting_for_rider  \n",
       "99424   volantis  driving_to_destination  \n",
       "106225  volantis         going_to_pickup  \n",
       "106799  volantis       waiting_for_rider  \n",
       "106890  volantis  driving_to_destination  \n",
       "112805  volantis         going_to_pickup  \n",
       "112988  volantis       waiting_for_rider  \n",
       "113268  volantis  driving_to_destination  \n",
       "115120  volantis         going_to_pickup  \n",
       "115312  volantis       waiting_for_rider  \n",
       "115677  volantis  driving_to_destination  \n",
       "122051  volantis         going_to_pickup  \n",
       "122639  volantis       waiting_for_rider  \n",
       "123632  volantis  driving_to_destination  \n",
       "154184  volantis         going_to_pickup  \n",
       "159249  volantis         going_to_pickup  \n",
       "159894  volantis       waiting_for_rider  \n",
       "160090  volantis  driving_to_destination  \n",
       "163962  volantis         going_to_pickup  "
      ]
     },
     "execution_count": 9,
     "metadata": {},
     "output_type": "execute_result"
    }
   ],
   "source": [
    "data[(data.vehicle_id == '802ccd5cd4b8e16877c96f44ecb0094e')]"
   ]
  },
  {
   "cell_type": "code",
   "execution_count": 10,
   "metadata": {},
   "outputs": [
    {
     "data": {
      "text/html": [
       "<div>\n",
       "<style scoped>\n",
       "    .dataframe tbody tr th:only-of-type {\n",
       "        vertical-align: middle;\n",
       "    }\n",
       "\n",
       "    .dataframe tbody tr th {\n",
       "        vertical-align: top;\n",
       "    }\n",
       "\n",
       "    .dataframe thead th {\n",
       "        text-align: right;\n",
       "    }\n",
       "</style>\n",
       "<table border=\"1\" class=\"dataframe\">\n",
       "  <thead>\n",
       "    <tr style=\"text-align: right;\">\n",
       "      <th></th>\n",
       "      <th>duration</th>\n",
       "      <th>distance</th>\n",
       "      <th>started_at</th>\n",
       "      <th>trip_id</th>\n",
       "      <th>vehicle_id</th>\n",
       "      <th>city_id</th>\n",
       "      <th>type</th>\n",
       "    </tr>\n",
       "  </thead>\n",
       "  <tbody>\n",
       "    <tr>\n",
       "      <td>67397</td>\n",
       "      <td>83</td>\n",
       "      <td>205</td>\n",
       "      <td>2016-10-03 23:04:27.404000044</td>\n",
       "      <td>b7e65508b9cf020062b8870ae5617cb6</td>\n",
       "      <td>39e1f021e284a1829857ee111a3cb7a7</td>\n",
       "      <td>volantis</td>\n",
       "      <td>going_to_pickup</td>\n",
       "    </tr>\n",
       "    <tr>\n",
       "      <td>67627</td>\n",
       "      <td>201</td>\n",
       "      <td>305</td>\n",
       "      <td>2016-10-03 23:05:57.246000051</td>\n",
       "      <td>b7e65508b9cf020062b8870ae5617cb6</td>\n",
       "      <td>b40f77e38d45669bbedfb21cfca89e70</td>\n",
       "      <td>volantis</td>\n",
       "      <td>going_to_pickup</td>\n",
       "    </tr>\n",
       "    <tr>\n",
       "      <td>68057</td>\n",
       "      <td>124</td>\n",
       "      <td>27</td>\n",
       "      <td>2016-10-03 23:09:18.526000023</td>\n",
       "      <td>b7e65508b9cf020062b8870ae5617cb6</td>\n",
       "      <td>b40f77e38d45669bbedfb21cfca89e70</td>\n",
       "      <td>volantis</td>\n",
       "      <td>waiting_for_rider</td>\n",
       "    </tr>\n",
       "    <tr>\n",
       "      <td>68337</td>\n",
       "      <td>28</td>\n",
       "      <td>134</td>\n",
       "      <td>2016-10-03 23:11:29.446000099</td>\n",
       "      <td>b7e65508b9cf020062b8870ae5617cb6</td>\n",
       "      <td>39e1f021e284a1829857ee111a3cb7a7</td>\n",
       "      <td>volantis</td>\n",
       "      <td>going_to_pickup</td>\n",
       "    </tr>\n",
       "    <tr>\n",
       "      <td>68391</td>\n",
       "      <td>10</td>\n",
       "      <td>30</td>\n",
       "      <td>2016-10-03 23:11:57.542000055</td>\n",
       "      <td>b7e65508b9cf020062b8870ae5617cb6</td>\n",
       "      <td>39e1f021e284a1829857ee111a3cb7a7</td>\n",
       "      <td>volantis</td>\n",
       "      <td>waiting_for_rider</td>\n",
       "    </tr>\n",
       "    <tr>\n",
       "      <td>68422</td>\n",
       "      <td>945</td>\n",
       "      <td>2706</td>\n",
       "      <td>2016-10-03 23:12:07.134999990</td>\n",
       "      <td>b7e65508b9cf020062b8870ae5617cb6</td>\n",
       "      <td>39e1f021e284a1829857ee111a3cb7a7</td>\n",
       "      <td>volantis</td>\n",
       "      <td>driving_to_destination</td>\n",
       "    </tr>\n",
       "  </tbody>\n",
       "</table>\n",
       "</div>"
      ],
      "text/plain": [
       "      duration distance                    started_at  \\\n",
       "67397       83      205 2016-10-03 23:04:27.404000044   \n",
       "67627      201      305 2016-10-03 23:05:57.246000051   \n",
       "68057      124       27 2016-10-03 23:09:18.526000023   \n",
       "68337       28      134 2016-10-03 23:11:29.446000099   \n",
       "68391       10       30 2016-10-03 23:11:57.542000055   \n",
       "68422      945     2706 2016-10-03 23:12:07.134999990   \n",
       "\n",
       "                                trip_id                        vehicle_id  \\\n",
       "67397  b7e65508b9cf020062b8870ae5617cb6  39e1f021e284a1829857ee111a3cb7a7   \n",
       "67627  b7e65508b9cf020062b8870ae5617cb6  b40f77e38d45669bbedfb21cfca89e70   \n",
       "68057  b7e65508b9cf020062b8870ae5617cb6  b40f77e38d45669bbedfb21cfca89e70   \n",
       "68337  b7e65508b9cf020062b8870ae5617cb6  39e1f021e284a1829857ee111a3cb7a7   \n",
       "68391  b7e65508b9cf020062b8870ae5617cb6  39e1f021e284a1829857ee111a3cb7a7   \n",
       "68422  b7e65508b9cf020062b8870ae5617cb6  39e1f021e284a1829857ee111a3cb7a7   \n",
       "\n",
       "        city_id                    type  \n",
       "67397  volantis         going_to_pickup  \n",
       "67627  volantis         going_to_pickup  \n",
       "68057  volantis       waiting_for_rider  \n",
       "68337  volantis         going_to_pickup  \n",
       "68391  volantis       waiting_for_rider  \n",
       "68422  volantis  driving_to_destination  "
      ]
     },
     "execution_count": 10,
     "metadata": {},
     "output_type": "execute_result"
    }
   ],
   "source": [
    "data[data.trip_id == 'b7e65508b9cf020062b8870ae5617cb6']"
   ]
  },
  {
   "cell_type": "markdown",
   "metadata": {},
   "source": [
    "Conclusions on trip_id:\n",
    "\n",
    "- Trip_id are not unique\n",
    "- Trip_id do not necessarily contain a logic sequence of intervals (pickup, waiting and drive to destination for one same\n",
    "vehicle_id\n",
    "- There are sequences where a vehicle will go to the pick up and wait for the rider but not drive to destination afterwards, probably meaning that the user did not show up.\n",
    "- There are also sequences where a vehicle will register a pick up ride followed by another pick up ride. This may be caused by\n",
    "a cancellation of the service or by a rerouting of the system (the information in the dataset is not enough to tell)\n",
    "\n",
    "The trip_id also provides us with infomation on the type of method ('linear' or 'road') used to choose the pickup. We will create a new column that contains this information:"
   ]
  },
  {
   "cell_type": "code",
   "execution_count": 11,
   "metadata": {},
   "outputs": [],
   "source": [
    "data['method'] = data['trip_id'].apply(lambda x: re.findall('^[0-8]', x))\n",
    "data['method']= data['method'].apply(lambda x: 'road' if x else 'linear')"
   ]
  },
  {
   "cell_type": "markdown",
   "metadata": {},
   "source": [
    "### Vehicle ID:"
   ]
  },
  {
   "cell_type": "code",
   "execution_count": 12,
   "metadata": {},
   "outputs": [
    {
     "name": "stdout",
     "output_type": "stream",
     "text": [
      "The number of unique vehicle_id in the dataset is 4746\n"
     ]
    }
   ],
   "source": [
    "## Number of unique vehicles in the dataset\n",
    "print('The number of unique vehicle_id in the dataset is', len(data.vehicle_id.unique()))"
   ]
  },
  {
   "cell_type": "code",
   "execution_count": 13,
   "metadata": {},
   "outputs": [
    {
     "data": {
      "text/plain": [
       "6661ee4bee90709e97c50a6bcb5ac682    150\n",
       "c4eaf1a7c49a91a16a320e253ea77288    144\n",
       "6e0576d5b4ff73b27b61e80bce9eb8a5    141\n",
       "7cd6b80cb89799b90882a66a6c144d8e    137\n",
       "a3e0ec5c6ea97b306dbe4fcabd47f2b5    137\n",
       "                                   ... \n",
       "af923fd7d43dfb10afd97092e8646f29      1\n",
       "7a1b9a7043b68e4b920b3b704520a7ff      1\n",
       "02463250fe8c206af2a4243c2b0ec6cd      1\n",
       "bd294800f88abe80f415feb7a881b90b      1\n",
       "98c160154d8e99245baf6689749342cd      1\n",
       "Name: vehicle_id, Length: 4746, dtype: int64"
      ]
     },
     "execution_count": 13,
     "metadata": {},
     "output_type": "execute_result"
    }
   ],
   "source": [
    "## Number of rows per vehicle. \n",
    "data.vehicle_id.value_counts()"
   ]
  },
  {
   "cell_type": "markdown",
   "metadata": {},
   "source": [
    "Conclusions on vehicle_id:\n",
    "\n",
    "- There are 4746 different vehicles considered in the study. They are all identified with a unique_id in the dataset. Whith the information we have, we can't do a further investigation on the correctness of these series, so we will consider all of the values as valid as soon as they are a complete string (no empty values)\n",
    "- When counting the frequency of each vehicle id, we can conclude that some of them have as many as 150 intervals related, while others have only one."
   ]
  },
  {
   "cell_type": "markdown",
   "metadata": {},
   "source": [
    "### Type:"
   ]
  },
  {
   "cell_type": "code",
   "execution_count": 14,
   "metadata": {},
   "outputs": [
    {
     "name": "stdout",
     "output_type": "stream",
     "text": [
      "These are the unique values contained on the 'type' series: ['driving_to_destination' 'going_to_pickup' 'waiting_for_rider']\n"
     ]
    }
   ],
   "source": [
    "## Check the unique values under type\n",
    "print('These are the unique values contained on the \\'type\\' series:', data.type.unique())"
   ]
  },
  {
   "cell_type": "code",
   "execution_count": 15,
   "metadata": {},
   "outputs": [
    {
     "name": "stdout",
     "output_type": "stream",
     "text": [
      "The number of records for 'going_to_pickup' trips is: 58510\n",
      "The number of records for 'waiting_for_rider' trips is: 53746\n",
      "The number of records for 'driving_to_destination' trips is: 52914\n"
     ]
    }
   ],
   "source": [
    "## Check the number of rows per type\n",
    "print('The number of records for \\'going_to_pickup\\' trips is:', (data.type == 'going_to_pickup').sum())\n",
    "print('The number of records for \\'waiting_for_rider\\' trips is:', (data.type == 'waiting_for_rider').sum())\n",
    "print('The number of records for \\'driving_to_destination\\' trips is:', (data.type == 'driving_to_destination').sum())"
   ]
  },
  {
   "cell_type": "markdown",
   "metadata": {},
   "source": [
    "Conclusions on type:\n",
    "\n",
    "- As we saw while analyzing the 'trip_id', there is not the same number of records for each type. Not all the 'pick-ups' ended up in a service, as some may be cancelled while 'en-route' to the place or once the driver is waiting for the rider.\n",
    "- We can see that all intervals are classified in one of the expected types. Therefore, there is no need to clean or drop information based on this. However, since we are trying to analyze the best calculations in terms of driver selection for the pick up, which considers the distance between the driver and the user for that pick up, we can subset our data and select from the dataframe only the intervals that consider the 'going_to_pickup' action. "
   ]
  },
  {
   "cell_type": "code",
   "execution_count": 16,
   "metadata": {},
   "outputs": [],
   "source": [
    "## Select only the records for pickup rides\n",
    "pickup_data = data[data.type == 'going_to_pickup']"
   ]
  },
  {
   "cell_type": "markdown",
   "metadata": {},
   "source": [
    "### City:"
   ]
  },
  {
   "cell_type": "code",
   "execution_count": 17,
   "metadata": {},
   "outputs": [
    {
     "name": "stdout",
     "output_type": "stream",
     "text": [
      "These are the unique values contained on the 'city' series: ['volantis' 'bravos' 'pentos']\n"
     ]
    }
   ],
   "source": [
    "## Check the unique values under city\n",
    "print('These are the unique values contained on the \\'city\\' series:', pickup_data.city_id.unique())"
   ]
  },
  {
   "cell_type": "code",
   "execution_count": 18,
   "metadata": {},
   "outputs": [
    {
     "name": "stdout",
     "output_type": "stream",
     "text": [
      "The number of records for 'pentos' is: 40064\n",
      "The number of records for 'volantis' is: 12496\n",
      "The number of records for 'bravos' is: 5950\n"
     ]
    }
   ],
   "source": [
    "## Check the number of rows per city\n",
    "print('The number of records for \\'pentos\\' is:', (pickup_data.city_id == 'pentos').sum())\n",
    "print('The number of records for \\'volantis\\' is:', (pickup_data.city_id == 'volantis').sum())\n",
    "print('The number of records for \\'bravos\\' is:', (pickup_data.city_id == 'bravos').sum())"
   ]
  },
  {
   "cell_type": "code",
   "execution_count": 19,
   "metadata": {},
   "outputs": [
    {
     "name": "stdout",
     "output_type": "stream",
     "text": [
      "Pentos data is 68.47376516834728 % of the total dataset\n",
      "Volantis data is 21.357032985814392 % of the total dataset\n",
      "Bravos data is 10.16920184583832 % of the total dataset\n"
     ]
    }
   ],
   "source": [
    "## Check the percentage of total data per city\n",
    "print('Pentos data is', ((pickup_data.city_id == 'pentos').sum()/pickup_data.shape[0])*100, '% of the total dataset')\n",
    "print('Volantis data is', ((pickup_data.city_id == 'volantis').sum()/pickup_data.shape[0])*100, '% of the total dataset')\n",
    "print('Bravos data is', ((pickup_data.city_id == 'bravos').sum()/pickup_data.shape[0])*100, '% of the total dataset')"
   ]
  },
  {
   "cell_type": "markdown",
   "metadata": {},
   "source": [
    "Conclusions on city:\n",
    "\n",
    "- All intervals are classified in one of the expected cities. Therefore, there is no need to clean or drop information based on this. \n",
    "- The number of records per city is not homogeneous. Therefore, we will need to keep that into consideration while analyzing the data, and perform specific analysis per city apart from the general analysis, to avoid sampling bias."
   ]
  },
  {
   "cell_type": "markdown",
   "metadata": {},
   "source": [
    "### Start time:"
   ]
  },
  {
   "cell_type": "code",
   "execution_count": 20,
   "metadata": {},
   "outputs": [
    {
     "name": "stderr",
     "output_type": "stream",
     "text": [
      "C:\\Users\\miner\\Anaconda3\\lib\\site-packages\\ipykernel_launcher.py:3: SettingWithCopyWarning: \n",
      "A value is trying to be set on a copy of a slice from a DataFrame.\n",
      "Try using .loc[row_indexer,col_indexer] = value instead\n",
      "\n",
      "See the caveats in the documentation: http://pandas.pydata.org/pandas-docs/stable/user_guide/indexing.html#returning-a-view-versus-a-copy\n",
      "  This is separate from the ipykernel package so we can avoid doing imports until\n",
      "C:\\Users\\miner\\Anaconda3\\lib\\site-packages\\ipykernel_launcher.py:4: SettingWithCopyWarning: \n",
      "A value is trying to be set on a copy of a slice from a DataFrame.\n",
      "Try using .loc[row_indexer,col_indexer] = value instead\n",
      "\n",
      "See the caveats in the documentation: http://pandas.pydata.org/pandas-docs/stable/user_guide/indexing.html#returning-a-view-versus-a-copy\n",
      "  after removing the cwd from sys.path.\n"
     ]
    }
   ],
   "source": [
    "## Create two new columns, one for date and another one for time. This way, we will be able to explore if there are patterns\n",
    "## that repeat at determined days or times of the day\n",
    "pickup_data['date'] = [x.date() for x in pickup_data['started_at']]\n",
    "pickup_data['time'] = [x.time() for x in pickup_data['started_at']]"
   ]
  },
  {
   "cell_type": "code",
   "execution_count": 21,
   "metadata": {},
   "outputs": [
    {
     "data": {
      "text/plain": [
       "[datetime.date(2016, 10, 3), datetime.date(2016, 10, 4)]"
      ]
     },
     "execution_count": 21,
     "metadata": {},
     "output_type": "execute_result"
    }
   ],
   "source": [
    "## Check unique dates\n",
    "list(pickup_data.date.unique())"
   ]
  },
  {
   "cell_type": "code",
   "execution_count": 22,
   "metadata": {},
   "outputs": [
    {
     "name": "stdout",
     "output_type": "stream",
     "text": [
      "The first ride registered on the 3rd of October took place at 13:00:00.852999\n",
      "The last ride registered on the 3rd of October took place at 23:59:59.717000\n",
      "The first ride registered on the 4th of October took place at 00:00:00.364000\n",
      "The last ride registered on the 4th of October took place at 20:36:20.473999\n"
     ]
    }
   ],
   "source": [
    "## Check hour range per date\n",
    "print('The first ride registered on the 3rd of October took place at', pickup_data[pickup_data.date == datetime.date(2016, 10, 3)].time.min())\n",
    "print('The last ride registered on the 3rd of October took place at', pickup_data[pickup_data.date == datetime.date(2016, 10, 3)].time.max())\n",
    "print('The first ride registered on the 4th of October took place at', pickup_data[pickup_data.date == datetime.date(2016, 10, 4)].time.min())\n",
    "print('The last ride registered on the 4th of October took place at', pickup_data[pickup_data.date == datetime.date(2016, 10, 4)].time.max())"
   ]
  },
  {
   "cell_type": "code",
   "execution_count": 23,
   "metadata": {},
   "outputs": [
    {
     "name": "stderr",
     "output_type": "stream",
     "text": [
      "C:\\Users\\miner\\Anaconda3\\lib\\site-packages\\pandas\\plotting\\_matplotlib\\converter.py:103: FutureWarning: Using an implicitly registered datetime converter for a matplotlib plotting method. The converter was registered by pandas on import. Future versions of pandas will require you to explicitly register matplotlib converters.\n",
      "\n",
      "To register the converters:\n",
      "\t>>> from pandas.plotting import register_matplotlib_converters\n",
      "\t>>> register_matplotlib_converters()\n",
      "  warnings.warn(msg, FutureWarning)\n"
     ]
    },
    {
     "data": {
      "image/png": "[encoded data removed]",
      "text/plain": [
       "<Figure size 1224x432 with 1 Axes>"
      ]
     },
     "metadata": {
      "needs_background": "light"
     },
     "output_type": "display_data"
    }
   ],
   "source": [
    "## Plot the distribution of pickup requests through time\n",
    "plt.figure(figsize=(17,6))\n",
    "plt.hist(pickup_data.started_at, bins = 32)\n",
    "# beautify the x-labels\n",
    "plt.gcf().autofmt_xdate()\n",
    "myFmt = mdates.DateFormatter('%m/%d %H:%M')\n",
    "plt.gca().xaxis.set_major_formatter(myFmt)\n",
    "plt.grid()\n",
    "plt.show()\n"
   ]
  },
  {
   "cell_type": "markdown",
   "metadata": {},
   "source": [
    "Conclusions on start date:\n",
    "\n",
    "- The data only includes two days of data, and not 5 days as stated in the challenge.\n",
    "- The data recorded per date does not include records for the whole day range (the first trip of the first day was recorded at 13h, and the last trip of the second day was recorded before 21h).\n",
    "- Plotting the data we can easily see that the amount of rides during the night and early morning is clearly lower than during the rest of the day.\n",
    "- Extracting conclusions on behaviour patterns may be difficult considering that we don't have data over a long periods of time to compare the consistency of those patterns."
   ]
  },
  {
   "cell_type": "markdown",
   "metadata": {},
   "source": [
    "### Duration and distance:"
   ]
  },
  {
   "cell_type": "code",
   "execution_count": 24,
   "metadata": {},
   "outputs": [
    {
     "data": {
      "text/html": [
       "<div>\n",
       "<style scoped>\n",
       "    .dataframe tbody tr th:only-of-type {\n",
       "        vertical-align: middle;\n",
       "    }\n",
       "\n",
       "    .dataframe tbody tr th {\n",
       "        vertical-align: top;\n",
       "    }\n",
       "\n",
       "    .dataframe thead th {\n",
       "        text-align: right;\n",
       "    }\n",
       "</style>\n",
       "<table border=\"1\" class=\"dataframe\">\n",
       "  <thead>\n",
       "    <tr style=\"text-align: right;\">\n",
       "      <th></th>\n",
       "      <th>duration</th>\n",
       "      <th>distance</th>\n",
       "      <th>started_at</th>\n",
       "      <th>trip_id</th>\n",
       "      <th>vehicle_id</th>\n",
       "      <th>city_id</th>\n",
       "      <th>type</th>\n",
       "      <th>method</th>\n",
       "      <th>date</th>\n",
       "      <th>time</th>\n",
       "    </tr>\n",
       "  </thead>\n",
       "  <tbody>\n",
       "    <tr>\n",
       "      <td>133409</td>\n",
       "      <td>NA</td>\n",
       "      <td>NA</td>\n",
       "      <td>2016-10-04 16:28:50.309999943</td>\n",
       "      <td>13f154ab0c7d17fb2ec203a3a714d6b0</td>\n",
       "      <td>fce3a43cd5f5a43e2d0b929ad604d3b6</td>\n",
       "      <td>pentos</td>\n",
       "      <td>going_to_pickup</td>\n",
       "      <td>road</td>\n",
       "      <td>2016-10-04</td>\n",
       "      <td>16:28:50.309999</td>\n",
       "    </tr>\n",
       "    <tr>\n",
       "      <td>138211</td>\n",
       "      <td>NA</td>\n",
       "      <td>NA</td>\n",
       "      <td>2016-10-04 17:04:50.207000017</td>\n",
       "      <td>99dc4314729ae959762a9bc2ba681de6</td>\n",
       "      <td>b041d487fdc4afcbdc9d3ce23bfbe59a</td>\n",
       "      <td>pentos</td>\n",
       "      <td>going_to_pickup</td>\n",
       "      <td>linear</td>\n",
       "      <td>2016-10-04</td>\n",
       "      <td>17:04:50.207000</td>\n",
       "    </tr>\n",
       "    <tr>\n",
       "      <td>159099</td>\n",
       "      <td>NA</td>\n",
       "      <td>NA</td>\n",
       "      <td>2016-10-04 19:50:15.730999947</td>\n",
       "      <td>5d05b64a741c5329ef5225855e4540fa</td>\n",
       "      <td>472fc73aafb3ee5ae44dfc11d9eaa655</td>\n",
       "      <td>volantis</td>\n",
       "      <td>going_to_pickup</td>\n",
       "      <td>road</td>\n",
       "      <td>2016-10-04</td>\n",
       "      <td>19:50:15.730999</td>\n",
       "    </tr>\n",
       "    <tr>\n",
       "      <td>161283</td>\n",
       "      <td>NA</td>\n",
       "      <td>NA</td>\n",
       "      <td>2016-10-04 20:05:47.302999973</td>\n",
       "      <td>75fe5b17eff825b6be1551390b58070c</td>\n",
       "      <td>66d138a6c4b5e04a38bb0638afd5bc9b</td>\n",
       "      <td>volantis</td>\n",
       "      <td>going_to_pickup</td>\n",
       "      <td>road</td>\n",
       "      <td>2016-10-04</td>\n",
       "      <td>20:05:47.302999</td>\n",
       "    </tr>\n",
       "    <tr>\n",
       "      <td>162141</td>\n",
       "      <td>NA</td>\n",
       "      <td>NA</td>\n",
       "      <td>2016-10-04 20:12:06.617000103</td>\n",
       "      <td>382123b24a388b4f4e156aadebf490d4</td>\n",
       "      <td>427a5b85b61ad56055d99425cccb291b</td>\n",
       "      <td>pentos</td>\n",
       "      <td>going_to_pickup</td>\n",
       "      <td>road</td>\n",
       "      <td>2016-10-04</td>\n",
       "      <td>20:12:06.617000</td>\n",
       "    </tr>\n",
       "    <tr>\n",
       "      <td>...</td>\n",
       "      <td>...</td>\n",
       "      <td>...</td>\n",
       "      <td>...</td>\n",
       "      <td>...</td>\n",
       "      <td>...</td>\n",
       "      <td>...</td>\n",
       "      <td>...</td>\n",
       "      <td>...</td>\n",
       "      <td>...</td>\n",
       "      <td>...</td>\n",
       "    </tr>\n",
       "    <tr>\n",
       "      <td>165153</td>\n",
       "      <td>NA</td>\n",
       "      <td>NA</td>\n",
       "      <td>2016-10-04 20:35:51.368999958</td>\n",
       "      <td>f4b128a57bbeb5da9dd9a16abeea6189</td>\n",
       "      <td>b311053ca9c110baaa10acaec9d4ee28</td>\n",
       "      <td>bravos</td>\n",
       "      <td>going_to_pickup</td>\n",
       "      <td>linear</td>\n",
       "      <td>2016-10-04</td>\n",
       "      <td>20:35:51.368999</td>\n",
       "    </tr>\n",
       "    <tr>\n",
       "      <td>165156</td>\n",
       "      <td>NA</td>\n",
       "      <td>NA</td>\n",
       "      <td>2016-10-04 20:35:59.163000107</td>\n",
       "      <td>ed153654ed55c7f1cc410e3d522c4323</td>\n",
       "      <td>193a48c038355e68b15cab4a255c32d7</td>\n",
       "      <td>volantis</td>\n",
       "      <td>going_to_pickup</td>\n",
       "      <td>linear</td>\n",
       "      <td>2016-10-04</td>\n",
       "      <td>20:35:59.163000</td>\n",
       "    </tr>\n",
       "    <tr>\n",
       "      <td>165158</td>\n",
       "      <td>NA</td>\n",
       "      <td>NA</td>\n",
       "      <td>2016-10-04 20:36:02.111000061</td>\n",
       "      <td>fe5d30856c99c3b5abca517be874f490</td>\n",
       "      <td>835f7d24975f96996fa42eb2f2302511</td>\n",
       "      <td>volantis</td>\n",
       "      <td>going_to_pickup</td>\n",
       "      <td>linear</td>\n",
       "      <td>2016-10-04</td>\n",
       "      <td>20:36:02.111000</td>\n",
       "    </tr>\n",
       "    <tr>\n",
       "      <td>165159</td>\n",
       "      <td>NA</td>\n",
       "      <td>NA</td>\n",
       "      <td>2016-10-04 20:36:03.128000020</td>\n",
       "      <td>a4b192d4d7bc756f93d0c9a1d7f7fa60</td>\n",
       "      <td>779f9464ec39808a10b24d777d241e7c</td>\n",
       "      <td>bravos</td>\n",
       "      <td>going_to_pickup</td>\n",
       "      <td>linear</td>\n",
       "      <td>2016-10-04</td>\n",
       "      <td>20:36:03.128000</td>\n",
       "    </tr>\n",
       "    <tr>\n",
       "      <td>165169</td>\n",
       "      <td>NA</td>\n",
       "      <td>NA</td>\n",
       "      <td>2016-10-04 20:36:20.473999977</td>\n",
       "      <td>469dff3624a9a37bb986157750fb73e8</td>\n",
       "      <td>27b7111eb7046e253c9896eee617b02e</td>\n",
       "      <td>volantis</td>\n",
       "      <td>going_to_pickup</td>\n",
       "      <td>road</td>\n",
       "      <td>2016-10-04</td>\n",
       "      <td>20:36:20.473999</td>\n",
       "    </tr>\n",
       "  </tbody>\n",
       "</table>\n",
       "<p>299 rows × 10 columns</p>\n",
       "</div>"
      ],
      "text/plain": [
       "       duration distance                    started_at  \\\n",
       "133409       NA       NA 2016-10-04 16:28:50.309999943   \n",
       "138211       NA       NA 2016-10-04 17:04:50.207000017   \n",
       "159099       NA       NA 2016-10-04 19:50:15.730999947   \n",
       "161283       NA       NA 2016-10-04 20:05:47.302999973   \n",
       "162141       NA       NA 2016-10-04 20:12:06.617000103   \n",
       "...         ...      ...                           ...   \n",
       "165153       NA       NA 2016-10-04 20:35:51.368999958   \n",
       "165156       NA       NA 2016-10-04 20:35:59.163000107   \n",
       "165158       NA       NA 2016-10-04 20:36:02.111000061   \n",
       "165159       NA       NA 2016-10-04 20:36:03.128000020   \n",
       "165169       NA       NA 2016-10-04 20:36:20.473999977   \n",
       "\n",
       "                                 trip_id                        vehicle_id  \\\n",
       "133409  13f154ab0c7d17fb2ec203a3a714d6b0  fce3a43cd5f5a43e2d0b929ad604d3b6   \n",
       "138211  99dc4314729ae959762a9bc2ba681de6  b041d487fdc4afcbdc9d3ce23bfbe59a   \n",
       "159099  5d05b64a741c5329ef5225855e4540fa  472fc73aafb3ee5ae44dfc11d9eaa655   \n",
       "161283  75fe5b17eff825b6be1551390b58070c  66d138a6c4b5e04a38bb0638afd5bc9b   \n",
       "162141  382123b24a388b4f4e156aadebf490d4  427a5b85b61ad56055d99425cccb291b   \n",
       "...                                  ...                               ...   \n",
       "165153  f4b128a57bbeb5da9dd9a16abeea6189  b311053ca9c110baaa10acaec9d4ee28   \n",
       "165156  ed153654ed55c7f1cc410e3d522c4323  193a48c038355e68b15cab4a255c32d7   \n",
       "165158  fe5d30856c99c3b5abca517be874f490  835f7d24975f96996fa42eb2f2302511   \n",
       "165159  a4b192d4d7bc756f93d0c9a1d7f7fa60  779f9464ec39808a10b24d777d241e7c   \n",
       "165169  469dff3624a9a37bb986157750fb73e8  27b7111eb7046e253c9896eee617b02e   \n",
       "\n",
       "         city_id             type  method        date             time  \n",
       "133409    pentos  going_to_pickup    road  2016-10-04  16:28:50.309999  \n",
       "138211    pentos  going_to_pickup  linear  2016-10-04  17:04:50.207000  \n",
       "159099  volantis  going_to_pickup    road  2016-10-04  19:50:15.730999  \n",
       "161283  volantis  going_to_pickup    road  2016-10-04  20:05:47.302999  \n",
       "162141    pentos  going_to_pickup    road  2016-10-04  20:12:06.617000  \n",
       "...          ...              ...     ...         ...              ...  \n",
       "165153    bravos  going_to_pickup  linear  2016-10-04  20:35:51.368999  \n",
       "165156  volantis  going_to_pickup  linear  2016-10-04  20:35:59.163000  \n",
       "165158  volantis  going_to_pickup  linear  2016-10-04  20:36:02.111000  \n",
       "165159    bravos  going_to_pickup  linear  2016-10-04  20:36:03.128000  \n",
       "165169  volantis  going_to_pickup    road  2016-10-04  20:36:20.473999  \n",
       "\n",
       "[299 rows x 10 columns]"
      ]
     },
     "execution_count": 24,
     "metadata": {},
     "output_type": "execute_result"
    }
   ],
   "source": [
    "## No missing data. However, when tried to transform duration and distance to int, an error is raised that shows some of the\n",
    "## rows contain the string 'NA'as value instead of a number. \n",
    "pickup_data[(pickup_data.duration == 'NA') | (pickup_data.distance == 'NA')]"
   ]
  },
  {
   "cell_type": "code",
   "execution_count": 25,
   "metadata": {},
   "outputs": [
    {
     "name": "stdout",
     "output_type": "stream",
     "text": [
      "The number of rows containing not known information in duration and distance columns represents a 0.5110237566227995 % of the total pickup rides\n"
     ]
    }
   ],
   "source": [
    "## Evaluate percentage of data to exclude\n",
    "print('The number of rows containing not known information in duration and distance columns represents a', (len(pickup_data[(pickup_data.duration == 'NA') | (pickup_data.distance == 'NA')])/pickup_data.shape[0])*100, '% of the total pickup rides')"
   ]
  },
  {
   "cell_type": "code",
   "execution_count": 26,
   "metadata": {},
   "outputs": [],
   "source": [
    "## Drop rows with NA values\n",
    "pickup_data_clean = pickup_data[(pickup_data.duration != 'NA') & (pickup_data.distance != 'NA')]"
   ]
  },
  {
   "cell_type": "code",
   "execution_count": 27,
   "metadata": {
    "scrolled": true
   },
   "outputs": [],
   "source": [
    "## Change data type\n",
    "pickup_data_clean = pickup_data_clean.astype({'duration': int, 'distance': int})\n"
   ]
  },
  {
   "cell_type": "code",
   "execution_count": 28,
   "metadata": {},
   "outputs": [
    {
     "name": "stdout",
     "output_type": "stream",
     "text": [
      "There are 0 negative values in duration\n",
      "There are 0 negative values in distance\n",
      "There are 22 zero values in duration\n",
      "There are 1421 zero values in distance\n"
     ]
    }
   ],
   "source": [
    "## Check if values are valid (meaning they are higher that 0)\n",
    "print('There are', (pickup_data_clean.duration < 0).sum(), 'negative values in duration')\n",
    "print('There are', (pickup_data_clean.distance < 0).sum(), 'negative values in distance')\n",
    "print('There are', (pickup_data_clean.duration == 0).sum(), 'zero values in duration')\n",
    "print('There are', (pickup_data_clean.distance == 0).sum(), 'zero values in distance')"
   ]
  },
  {
   "cell_type": "code",
   "execution_count": 29,
   "metadata": {},
   "outputs": [
    {
     "name": "stdout",
     "output_type": "stream",
     "text": [
      "The number of rows containing zero in duration and distance columns represents a 2.4491539907708084 % of the total pickup rides\n"
     ]
    }
   ],
   "source": [
    "## Evaluate percentage of data to exclude\n",
    "print('The number of rows containing zero in duration and distance columns represents a', (len(pickup_data_clean[(pickup_data_clean.duration == 0) | (pickup_data_clean.distance == 0)])/pickup_data.shape[0])*100, '% of the total pickup rides')"
   ]
  },
  {
   "cell_type": "code",
   "execution_count": 30,
   "metadata": {},
   "outputs": [],
   "source": [
    "## Drop rows with 0 values\n",
    "pickup_data_clean = pickup_data_clean[((pickup_data_clean.duration != 0) & (pickup_data_clean.distance != 0))] "
   ]
  },
  {
   "cell_type": "markdown",
   "metadata": {},
   "source": [
    "Conclusions on duration and distance:\n",
    "\n",
    "- Though there were no null values in the data, there were still values that couldn't be used for the purpose of our analysis.\n",
    "- Intervals that included NA (standing for not acknowleged, presumably) as value in either duration or distance represented around 0.5% of the total data. This information can't be used in our analysis and is therefore discarded. \n",
    "- There are no negative values recorded in duration or distance. However, we can see there are several 0 values. If both distance and duration are 0, it may be the case that the vehicle was exactly at the spot where the ride was requested. However, how can we explain that the distance is 0 but the time is not? Or the opposite, that there is a recorded distance made in no time? \n",
    "- Intervals that included 0 as value in either duration or distance represent around 2.5% of the total data. As this seems to be an error, considering the context, we discarded those rows where one of the two columns is 0."
   ]
  },
  {
   "cell_type": "markdown",
   "metadata": {},
   "source": [
    "### New metric: speed"
   ]
  },
  {
   "cell_type": "markdown",
   "metadata": {},
   "source": [
    "Since we are trying to evaluate which of the of the assignation methods (according to 'linear' or 'road' distance) is better, we need a metric to compare between data subsets. We assume that the best possible pickup is the one \"closest\" to the rider, but by \"closest\" what we really mean is \"quickest arrival per distance\". Meaning that for a rider that is 1000m away, the closest car will not be the one that is closest to them, but the one that can get to them the quickest.\n",
    "\n",
    "The metric that is going to let us perform this comparison is the speed, that is, distance/time. The highest this number is, the better, meaning it took less time for the driver to get to the designated point."
   ]
  },
  {
   "cell_type": "code",
   "execution_count": 31,
   "metadata": {},
   "outputs": [],
   "source": [
    "## Create new variable\n",
    "pickup_data_clean['speed'] = pickup_data_clean['distance'] / pickup_data_clean['duration'] "
   ]
  },
  {
   "cell_type": "code",
   "execution_count": 32,
   "metadata": {},
   "outputs": [],
   "source": [
    "## Function that transforms meters/second to km/h\n",
    "def to_km_h(meters_per_second):\n",
    "    return meters_per_second*3.6\n",
    "\n",
    "## Function that transforms km/h to meters/second \n",
    "def to_m_s(km_per_hour):\n",
    "    return km_per_hour/3.6"
   ]
  },
  {
   "cell_type": "code",
   "execution_count": 33,
   "metadata": {},
   "outputs": [
    {
     "name": "stdout",
     "output_type": "stream",
     "text": [
      "The maximum registered speed is: 3206538.0 km/h\n",
      "The minimum registered speed is: 0.0009242618741976894 km/h\n"
     ]
    }
   ],
   "source": [
    "## Check max and min values\n",
    "print('The maximum registered speed is:', to_km_h(pickup_data_clean.speed.max()), 'km/h')\n",
    "print('The minimum registered speed is:', to_km_h(pickup_data_clean.speed.min()), 'km/h')"
   ]
  },
  {
   "cell_type": "code",
   "execution_count": 34,
   "metadata": {},
   "outputs": [
    {
     "name": "stdout",
     "output_type": "stream",
     "text": [
      "The 5 percentile is set at: 2.3752190721649487 km/h\n",
      "The 95 percentile is set at: 22.465045161290284 km/h\n"
     ]
    }
   ],
   "source": [
    "## Check outliers\n",
    "print('The 5 percentile is set at:', to_km_h(pickup_data_clean.speed.quantile(.05)), 'km/h')\n",
    "print('The 95 percentile is set at:', to_km_h(pickup_data_clean.speed.quantile(.95)), 'km/h')"
   ]
  },
  {
   "cell_type": "code",
   "execution_count": 35,
   "metadata": {},
   "outputs": [
    {
     "data": {
      "image/png": "[encoded data removed]",
      "text/plain": [
       "<Figure size 720x288 with 1 Axes>"
      ]
     },
     "metadata": {
      "needs_background": "light"
     },
     "output_type": "display_data"
    }
   ],
   "source": [
    "## Plot the distribution of speed values\n",
    "plt.figure(figsize=(10,4))\n",
    "plt.boxplot(pickup_data_clean.speed)\n",
    "plt.show()"
   ]
  },
  {
   "cell_type": "code",
   "execution_count": 36,
   "metadata": {},
   "outputs": [
    {
     "data": {
      "image/png": "[encoded data removed]",
      "text/plain": [
       "<Figure size 720x288 with 1 Axes>"
      ]
     },
     "metadata": {
      "needs_background": "light"
     },
     "output_type": "display_data"
    }
   ],
   "source": [
    "##Remove speeds that surpass 100km/h and replot values\n",
    "pickup_data_clean_max_100 = pickup_data_clean[pickup_data_clean.speed <= to_m_s(100)]\n",
    "\n",
    "plt.figure(figsize=(10,4))\n",
    "plt.boxplot(pickup_data_clean_max_100.speed)\n",
    "plt.show()"
   ]
  },
  {
   "cell_type": "markdown",
   "metadata": {},
   "source": [
    "Conclusions on speed:\n",
    "\n",
    "- When we calculated the new metric and analysed it we could easily detect outliers on both ends. \n",
    "- On one side, there are clearly some outliers that can be categorized as incorrect on the maximum speed - for instance, it is phisically not possible that a car took a speed of more than 3 million of km per hour. Following this observation, the higher values were removed. Since we have no real information on the speed limits on the three analyzed cities, there is some amount of guessing involved when estimating this upper threshold. However, if we consider the general [speed limits per country](https://en.wikipedia.org/wiki/Speed_limits_by_country) and the trends gathered by the [GHO](https://www.who.int/gho/road_safety/legislation/situation_trends_urban_speed_limit/en/), as well as our own experience, we can say that is quite improbable that a ride in a city has a mean speed that surpasses 100km/h, even for big cities with big main roads in the periferial areas. Therefore, this was the threshold stablished.\n",
    "- On the other side, we may suspect that some of the lower values are also outliers, as a speed of 0.0009242618741976894 km/h sounds very slow. However, the outliers in this extreme of the distribution are fewer and less abrupt, and in addition to that, extremely slow rides would be exactly what we are trying to avoid. Therefore, leaving this data out of the analysis may exclude some relevant cases dependin on where we set the threshold, and for this first analysis, it was decided not to set one.\n"
   ]
  },
  {
   "cell_type": "markdown",
   "metadata": {},
   "source": [
    "## Hipotesis testing"
   ]
  },
  {
   "cell_type": "markdown",
   "metadata": {},
   "source": [
    "### First approach: general data"
   ]
  },
  {
   "cell_type": "markdown",
   "metadata": {},
   "source": [
    "When the experiment was designed, the following hypothesis were cosidered:\n",
    "\n",
    "H0: there are no significant differences between the assigments made using linear distance and the ones using road distance in terms of effectiveness (cars getting to the pickup point faster). \n",
    "\n",
    "    *Speed mean for trips assigned using linear = Speed mean for trips assigned using road*\n",
    "    \n",
    "\n",
    "H1: the trips assigned using road distance arrive to the pickup point significantly faster than those assigned using  linear distance. \n",
    "\n",
    "    *Speed mean for trips assigned using linear < Speed mean for trips assigned using road*\n",
    "\n",
    "\n",
    "In order to test the null hypothesis, we will:\n",
    "\n",
    "1. Separate the intervals calculated with linear and road distance\n",
    "2. Perform a t-test to compare the mean speeds of those two samples. Note that since we are having a one-sided alternative hypothesis, we will need to divide the p-value by 2 when analyzing the results.\n",
    "\n",
    "We will consider that if our p-value is lower than 0.05 we can confidently reject the null hypothesis, and that if our p-value is lower than 0.1 we may consider the possibility of rejecting it. Any results above a 0.1 p-value will indicate that the null hypothesis can't be rejected."
   ]
  },
  {
   "cell_type": "code",
   "execution_count": 37,
   "metadata": {},
   "outputs": [],
   "source": [
    "## Calculate speed means\n",
    "linear = pickup_data_clean_max_100[pickup_data_clean_max_100.method == 'linear']\n",
    "road = pickup_data_clean_max_100[pickup_data_clean_max_100.method == 'road']"
   ]
  },
  {
   "cell_type": "code",
   "execution_count": 38,
   "metadata": {},
   "outputs": [
    {
     "name": "stdout",
     "output_type": "stream",
     "text": [
      "The p-value for our one-sided alternative hypothesis is 0.14362653157445662\n"
     ]
    }
   ],
   "source": [
    "## Perform t-test\n",
    "stats.ttest_ind(road['speed'], linear['speed'])\n",
    "print('The p-value for our one-sided alternative hypothesis is', (stats.ttest_ind(road['speed'], linear['speed'])[1])/2)"
   ]
  },
  {
   "cell_type": "markdown",
   "metadata": {},
   "source": [
    "Conclusion: According to the data retrieved, we can't reject the null hypothesis for the general business. \n",
    "    "
   ]
  },
  {
   "cell_type": "markdown",
   "metadata": {},
   "source": [
    "### Second approach: data per city"
   ]
  },
  {
   "cell_type": "markdown",
   "metadata": {},
   "source": [
    "Even though the p-value of our first experiment did not allow us to reject the null hypothesis, we may consider each city separatedly and see if there are significant differences on how the assignment methods perform on them. To do so, we will keep the previous hipothesis **per city** and proceed to:\n",
    "\n",
    "1. Separate the data in three dataframes, one per city\n",
    "2. Separate the intervals calculated with linear and road distance\n",
    "3. Perform a t-test to compare the mean speeds of those two samples. Again, since we are having a one-sided alternative hypothesis, we will need to divide the p-value by 2 when analyzing the results."
   ]
  },
  {
   "cell_type": "markdown",
   "metadata": {},
   "source": [
    "#### Pentos"
   ]
  },
  {
   "cell_type": "code",
   "execution_count": 39,
   "metadata": {},
   "outputs": [
    {
     "name": "stdout",
     "output_type": "stream",
     "text": [
      "The p-value for our one-sided alternative hypothesis is 0.07341742819243559\n"
     ]
    }
   ],
   "source": [
    "## Create dataframe\n",
    "pentos = pickup_data_clean_max_100[pickup_data_clean_max_100.city_id == 'pentos']\n",
    "\n",
    "## Calculate speed means\n",
    "linear_pentos = pentos[pentos.method == 'linear']\n",
    "road_pentos = pentos[pentos.method == 'road']\n",
    "\n",
    "## Perform t-test\n",
    "print('The p-value for our one-sided alternative hypothesis is', (stats.ttest_ind(road_pentos['speed'], linear_pentos['speed'])[1])/2)"
   ]
  },
  {
   "cell_type": "markdown",
   "metadata": {},
   "source": [
    "#### Volantis"
   ]
  },
  {
   "cell_type": "code",
   "execution_count": 40,
   "metadata": {},
   "outputs": [
    {
     "name": "stdout",
     "output_type": "stream",
     "text": [
      "The p-value for our one-sided alternative hypothesis is 0.3069805750088805\n"
     ]
    }
   ],
   "source": [
    "## Create dataframe\n",
    "volantis = pickup_data_clean_max_100[pickup_data_clean_max_100.city_id == 'volantis']\n",
    "\n",
    "## Calculate speed means\n",
    "linear_volantis = volantis[volantis.method == 'linear']\n",
    "road_volantis = volantis[volantis.method == 'road']\n",
    "\n",
    "## Perform t-test\n",
    "print('The p-value for our one-sided alternative hypothesis is', (stats.ttest_ind(road_volantis['speed'], linear_volantis['speed'])[1])/2)"
   ]
  },
  {
   "cell_type": "markdown",
   "metadata": {},
   "source": [
    "#### Bravos"
   ]
  },
  {
   "cell_type": "code",
   "execution_count": 41,
   "metadata": {},
   "outputs": [
    {
     "name": "stdout",
     "output_type": "stream",
     "text": [
      "The p-value for our one-sided alternative hypothesis is 0.23292804453345056\n"
     ]
    }
   ],
   "source": [
    "## Create dataframe\n",
    "bravos = pickup_data_clean_max_100[pickup_data_clean_max_100.city_id == 'bravos']\n",
    "\n",
    "## Calculate speed means\n",
    "linear_bravos = bravos[bravos.method == 'linear']\n",
    "road_bravos = bravos[bravos.method == 'road']\n",
    "\n",
    "## Perform t-test\n",
    "print('The p-value for our one-sided alternative hypothesis is', (stats.ttest_ind(road_bravos['speed'], linear_bravos['speed'])[1])/2)"
   ]
  },
  {
   "cell_type": "markdown",
   "metadata": {},
   "source": [
    "Conclusion: P-values on the different cities are not significant enough to clearly reject the null hypothesis. The only exception to this affirmation is Pentos, where we could opt for rejecting the null hypothesis if we accepted an alpha level of 0.9. "
   ]
  },
  {
   "cell_type": "markdown",
   "metadata": {},
   "source": [
    "### Third approach: data per time of day"
   ]
  },
  {
   "cell_type": "markdown",
   "metadata": {},
   "source": [
    "This approach could be considered far-fetched at the moment, as the data available only covers a period of roughtly two days. However, if compare the mean speeds achieved during each hour per method, we may identify patterns that justify looking for extra data gathering.\n",
    "\n",
    "Therefore, we will perform some plotting by:\n",
    "\n",
    "1. Grouping all the intervals that took place during the same hour of the day and calculating their average speed\n",
    "2. Comparing those average speeds per hour considering the two different assigning methods, both in general and per city."
   ]
  },
  {
   "cell_type": "code",
   "execution_count": 42,
   "metadata": {},
   "outputs": [
    {
     "data": {
      "text/html": [
       "<div>\n",
       "<style scoped>\n",
       "    .dataframe tbody tr th:only-of-type {\n",
       "        vertical-align: middle;\n",
       "    }\n",
       "\n",
       "    .dataframe tbody tr th {\n",
       "        vertical-align: top;\n",
       "    }\n",
       "\n",
       "    .dataframe thead th {\n",
       "        text-align: right;\n",
       "    }\n",
       "</style>\n",
       "<table border=\"1\" class=\"dataframe\">\n",
       "  <thead>\n",
       "    <tr style=\"text-align: right;\">\n",
       "      <th></th>\n",
       "      <th>city_id</th>\n",
       "      <th>method</th>\n",
       "      <th>hour</th>\n",
       "      <th>speed</th>\n",
       "    </tr>\n",
       "  </thead>\n",
       "  <tbody>\n",
       "    <tr>\n",
       "      <td>0</td>\n",
       "      <td>bravos</td>\n",
       "      <td>linear</td>\n",
       "      <td>00</td>\n",
       "      <td>3.824638</td>\n",
       "    </tr>\n",
       "    <tr>\n",
       "      <td>1</td>\n",
       "      <td>bravos</td>\n",
       "      <td>linear</td>\n",
       "      <td>01</td>\n",
       "      <td>3.059859</td>\n",
       "    </tr>\n",
       "    <tr>\n",
       "      <td>2</td>\n",
       "      <td>bravos</td>\n",
       "      <td>linear</td>\n",
       "      <td>02</td>\n",
       "      <td>2.967079</td>\n",
       "    </tr>\n",
       "    <tr>\n",
       "      <td>3</td>\n",
       "      <td>bravos</td>\n",
       "      <td>linear</td>\n",
       "      <td>03</td>\n",
       "      <td>3.742164</td>\n",
       "    </tr>\n",
       "    <tr>\n",
       "      <td>4</td>\n",
       "      <td>bravos</td>\n",
       "      <td>linear</td>\n",
       "      <td>04</td>\n",
       "      <td>2.339109</td>\n",
       "    </tr>\n",
       "    <tr>\n",
       "      <td>...</td>\n",
       "      <td>...</td>\n",
       "      <td>...</td>\n",
       "      <td>...</td>\n",
       "      <td>...</td>\n",
       "    </tr>\n",
       "    <tr>\n",
       "      <td>139</td>\n",
       "      <td>volantis</td>\n",
       "      <td>road</td>\n",
       "      <td>19</td>\n",
       "      <td>2.879701</td>\n",
       "    </tr>\n",
       "    <tr>\n",
       "      <td>140</td>\n",
       "      <td>volantis</td>\n",
       "      <td>road</td>\n",
       "      <td>20</td>\n",
       "      <td>2.555417</td>\n",
       "    </tr>\n",
       "    <tr>\n",
       "      <td>141</td>\n",
       "      <td>volantis</td>\n",
       "      <td>road</td>\n",
       "      <td>21</td>\n",
       "      <td>2.541522</td>\n",
       "    </tr>\n",
       "    <tr>\n",
       "      <td>142</td>\n",
       "      <td>volantis</td>\n",
       "      <td>road</td>\n",
       "      <td>22</td>\n",
       "      <td>2.642953</td>\n",
       "    </tr>\n",
       "    <tr>\n",
       "      <td>143</td>\n",
       "      <td>volantis</td>\n",
       "      <td>road</td>\n",
       "      <td>23</td>\n",
       "      <td>2.849969</td>\n",
       "    </tr>\n",
       "  </tbody>\n",
       "</table>\n",
       "<p>144 rows × 4 columns</p>\n",
       "</div>"
      ],
      "text/plain": [
       "      city_id  method hour     speed\n",
       "0      bravos  linear   00  3.824638\n",
       "1      bravos  linear   01  3.059859\n",
       "2      bravos  linear   02  2.967079\n",
       "3      bravos  linear   03  3.742164\n",
       "4      bravos  linear   04  2.339109\n",
       "..        ...     ...  ...       ...\n",
       "139  volantis    road   19  2.879701\n",
       "140  volantis    road   20  2.555417\n",
       "141  volantis    road   21  2.541522\n",
       "142  volantis    road   22  2.642953\n",
       "143  volantis    road   23  2.849969\n",
       "\n",
       "[144 rows x 4 columns]"
      ]
     },
     "execution_count": 42,
     "metadata": {},
     "output_type": "execute_result"
    }
   ],
   "source": [
    "## Create a dataframe that aggregates the mean of all speeds, grouped by city, method and hour of the day\n",
    "speed_per_hour = pickup_data_clean_max_100.drop(columns = ['trip_id', 'vehicle_id', 'type', 'duration', 'distance']).copy()\n",
    "speed_per_hour['hour'] = speed_per_hour['time'].map(lambda x: x.strftime('%H'))\n",
    "speed_per_hour.groupby(['city_id', 'method', 'hour'], as_index=False).agg({'speed':'mean'})"
   ]
  },
  {
   "cell_type": "code",
   "execution_count": 43,
   "metadata": {},
   "outputs": [
    {
     "data": {
      "image/png": "[encoded data removed]",
      "text/plain": [
       "<Figure size 720x432 with 1 Axes>"
      ]
     },
     "metadata": {
      "needs_background": "light"
     },
     "output_type": "display_data"
    },
    {
     "data": {
      "image/png": "[encoded data removed]",
      "text/plain": [
       "<Figure size 720x432 with 1 Axes>"
      ]
     },
     "metadata": {
      "needs_background": "light"
     },
     "output_type": "display_data"
    },
    {
     "data": {
      "image/png": "[encoded data removed]",
      "text/plain": [
       "<Figure size 720x432 with 1 Axes>"
      ]
     },
     "metadata": {
      "needs_background": "light"
     },
     "output_type": "display_data"
    },
    {
     "data": {
      "image/png": "[encoded data removed]",
      "text/plain": [
       "<Figure size 720x432 with 1 Axes>"
      ]
     },
     "metadata": {
      "needs_background": "light"
     },
     "output_type": "display_data"
    }
   ],
   "source": [
    "# Create plots\n",
    "general = speed_per_hour.groupby(['method', 'hour'], as_index=False).agg({'speed':'mean'})\n",
    "pentos = speed_per_hour[speed_per_hour.city_id == 'pentos'].groupby(['method', 'hour'], as_index=False).agg({'speed':'mean'})\n",
    "volantis = speed_per_hour[speed_per_hour.city_id == 'volantis'].groupby(['method', 'hour'], as_index=False).agg({'speed':'mean'})\n",
    "bravos = speed_per_hour[speed_per_hour.city_id == 'bravos'].groupby(['method', 'hour'], as_index=False).agg({'speed':'mean'})\n",
    "\n",
    "plt.figure(figsize=(10,6))\n",
    "sns.lineplot(x=\"hour\", y=\"speed\", hue=\"method\", data=general)\n",
    "plt.title('general')\n",
    "plt.grid(axis='y')\n",
    "plt.show()\n",
    "\n",
    "plt.figure(figsize=(10,6))\n",
    "sns.lineplot(x=\"hour\", y=\"speed\", hue=\"method\", data=pentos)\n",
    "plt.title('pentos')\n",
    "plt.grid(axis='y')\n",
    "plt.show()\n",
    "\n",
    "plt.figure(figsize=(10,6))\n",
    "sns.lineplot(x=\"hour\", y=\"speed\", hue=\"method\", data=volantis)\n",
    "plt.title('volantis')\n",
    "plt.grid(axis='y')\n",
    "plt.show()\n",
    "\n",
    "plt.figure(figsize=(10,6))\n",
    "sns.lineplot(x=\"hour\", y=\"speed\", hue=\"method\", data=bravos)\n",
    "plt.title('bravos')\n",
    "plt.grid(axis='y')\n",
    "plt.show()\n"
   ]
  },
  {
   "cell_type": "markdown",
   "metadata": {},
   "source": [
    "Conclusions:\n",
    "\n",
    "- The first impression when reviewing the plots is that the road calculation does not present significant differences on average, as the two previous experiments seemed to show too. Most times the average speed for assigments using the linear method either matches or surpasses the one for assigments using road method. \n",
    "- There are some time periods (i.e.: evening hours in Bravos) where this trend changes. However, as mentioned at the beggining of this chapter, data is too scarce to be significant."
   ]
  },
  {
   "cell_type": "markdown",
   "metadata": {},
   "source": [
    "## Answers"
   ]
  },
  {
   "cell_type": "markdown",
   "metadata": {},
   "source": [
    "According to the results of the experiment, it is not advisable for the company to change to a \"road\" distance calculation system, as the differences in speed mean for the pickup time are not significant.\n",
    "\n",
    "If a second experiment was to be conducted, I would suggest to gather:\n",
    "\n",
    "- Information for a longer period, in order to include in the experimental analysis a time dimension to see if there are significant differences in the estimation according to the time of the day or even to the day of the week (i.e.: peack hours).\n",
    "- Information on the calculated data vs the real data, in order to calculate the deviations, which can provide a new layer of information on the real accuracy of both methods."
   ]
  }
 ],
 "metadata": {
  "kernelspec": {
   "display_name": "Python 3",
   "language": "python",
   "name": "python3"
  },
  "language_info": {
   "codemirror_mode": {
    "name": "ipython",
    "version": 3
   },
   "file_extension": ".py",
   "mimetype": "text/x-python",
   "name": "python",
   "nbconvert_exporter": "python",
   "pygments_lexer": "ipython3",
   "version": "3.7.4"
  }
 },
 "nbformat": 4,
 "nbformat_minor": 2
}
