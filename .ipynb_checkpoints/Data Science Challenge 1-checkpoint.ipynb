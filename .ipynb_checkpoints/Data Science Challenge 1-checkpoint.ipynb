{
 "cells": [
  {
   "cell_type": "markdown",
   "metadata": {},
   "source": [
    "# Data Science Challenge 1"
   ]
  },
  {
   "cell_type": "markdown",
   "metadata": {},
   "source": [
    "## Challenge \n",
    "\n",
    "#### Background\n",
    "In 2011 AirBnB ran some experiments which showed that when a property featured professional photography, users were much more likely to trust the property and consequently make a booking. So, AirBnB a launched free professional photography service for all hosts. From inside the listing page, hosts were able to click a link to view more about the service, request a professional photographer, and subsequently (after the photo shoot) have their property profile updated with professional photos.\n",
    "\n",
    "The project initially proved to be a success:\n",
    "\n",
    "Guests were more likely to book a property that had professional photography.\n",
    "Hosts were able to charge more for listings with professional photos.\n",
    "However, over time this also became a multimillion dollar operation and a challenge to manage across over 200 countries.\n",
    "\n",
    "Fast forward to 2016, and some new developments have also helped with building trust:\n",
    "\n",
    "- 2013: Launch of identity verification for hosts and guests.\n",
    "- 2014: Launch of double blind reviews (neither host nor guest can see the other’s review), ensuring more honest reviews of properties and hosts.\n",
    "- 2015: Huge global PR lift for AirBnB, raising the profile of the company.\n",
    "\n",
    "An additional interesting development has also been the proliferation of smartphones with powerful and high-quality cameras (+apps) over the last few years, which has made it more possible for hosts to take good quality photos of their property. There is also the opinion that perhaps millennials have come to expect smartphone photos as the norm and are less likely to expect professional photography.\n",
    "\n",
    "Since the professional photography service consumes so many operational and financial resources, AirBnB management are unsure if they should continue. AirBnB management have asked the Data Science team to analyse the impact of the professional photography service in order to determine whether or not they should continue funding the service.\n",
    "\n",
    "Provide full details about how you will run experiments to assess the impact of this service on both hosts and guests. How will you ensure that the experiments are valid and not biased?"
   ]
  },
  {
   "cell_type": "markdown",
   "metadata": {},
   "source": [
    "## Solution "
   ]
  },
  {
   "cell_type": "markdown",
   "metadata": {},
   "source": [
    "#### Main questions: \n",
    "\n",
    "* Does the photography service generate more bookings?\n",
    "* If so, does the number of extra booking generated cover and/or exceed the (operational) cost of keeping it?\n",
    "\n",
    "#### Main assumptions: \n",
    "\n",
    "* The main KPI is the # of bookings.\n",
    "\n",
    "#### The experiment: \n",
    "\n",
    "To answer the first question, I would run the following experiment:\n",
    "\n",
    "I would select two random** groups of new listings:\n",
    "\n",
    "* Group A: will have no access to the professional photography service, so will be asked to use their smartphones to photograph the houses.\n",
    "* Group B: will have their houses photographed by professionals.\n",
    "\n",
    "** To reduce the bias, the groups will be randomly selected from sets of houses that share similar characteristics (clusters). For this experiment, I would divide the sets by price: e.g. 100 houses of the group will be randomly selected among the very expensive houses (top tier listings), other 100 houses will be randomly selected from middle tier and other 100 from bottom tier. However, the same reasoning could be made for villas, houses and apartment or beach houses/city houses/country-side houses, etc. The greater the sample and the variety, the more information and the least bias we will have in the results.\n",
    "\n",
    "The listing will be showen on the platform and monitored over a period of time (the longer the better, but the period will be determined also in accordance with the company urgency). During the whole period, I would compare the (evolution) of the p-value of the following Hypotesis test:\n",
    "\n",
    "Mu0 = Mu1\n",
    "Mu0 < Mu1\n",
    "\n",
    "Where:\n",
    "M0: Avg. #of bookings listings group A (non professionally photographed)\n",
    "M1: Avg. #of bookings listings group B (professionally photographed)\n",
    "\n",
    "I would perform a two-sample t-test to compare the means. If there is a significant different among over the group (p value consistently low), we could conclude that there is statistically significant difference in the # of bookings among the two group.\n",
    "\n",
    "#### Analysis & conclusions:\n",
    "\n",
    "If #of booking group A > #of booking group B, I would suggest the company to suspend the service or better, time allowing, run the experiment with a different samples. \n",
    "\n",
    "Of #of booking group A < #of booking group B, I would suggest the company to conduct further analysis to figure out if the revenues generated by the extra bookings are enough to cover (or better, exceed) the costs.\n",
    "\n",
    "\n",
    "#### Further considerations:\n",
    "\n",
    "An alternative approach is using the same sample and run the experiment in two different periods of time: first, during X time, we would list the properties with professional photos. After, for the same period of time X, we would list the same properties with unprofessional photos. We would compare the mean bookings per house in the two periods, run an hypotesis test and draw the conclusions. I decided not to use this approach because Airbnb bookings depends highly on seasonality. Therefore, the period in which the experiments should run needs to be the same of very similar. I assumed the company wants to make a decision faster that this approach would allow. "
   ]
  }
 ],
 "metadata": {
  "kernelspec": {
   "display_name": "Python 3",
   "language": "python",
   "name": "python3"
  },
  "language_info": {
   "codemirror_mode": {
    "name": "ipython",
    "version": 3
   },
   "file_extension": ".py",
   "mimetype": "text/x-python",
   "name": "python",
   "nbconvert_exporter": "python",
   "pygments_lexer": "ipython3",
   "version": "3.8.1"
  }
 },
 "nbformat": 4,
 "nbformat_minor": 2
}
