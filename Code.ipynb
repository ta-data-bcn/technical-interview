{
 "cells": [
  {
   "cell_type": "markdown",
   "metadata": {},
   "source": []
  },
  {
   "cell_type": "markdown",
   "metadata": {},
   "source": [
    "## Challenge 1\n",
    "\n",
    "Since the professional photography service consumes so many operational and financial resources, AirBnB management are unsure if they should continue. AirBnB management have asked the Data Science team to analyse the impact of the professional photography service in order to determine whether or not they should continue funding the service.\n",
    "\n",
    "Provide full details about how you will run experiments to assess the impact of this service on both hosts and guests. How will you ensure that the experiments are valid and not biased?\n"
   ]
  },
  {
   "cell_type": "markdown",
   "metadata": {},
   "source": [
    "### Answer\n",
    "\n",
    "we can run an A/B Test for testing the impact of professional photography service against smartphone pictures, and determining which of the two variants is more effective. \n",
    "\n",
    "Process:\n",
    "* Define Hypothesis: clear hypothesis with well defined outcome\n",
    "* Design AB test: Randomisation bias, Selection bias, Sample size, Test duration, KPIs\n",
    "* Execute experiment: User experience, Good tracking\n",
    "* Analysis/Conclusions: Statistical significance, Segmentation, Scaling, Retest\n",
    "\n",
    "\n"
   ]
  },
  {
   "cell_type": "markdown",
   "metadata": {},
   "source": [
    "## Challenge 2"
   ]
  },
  {
   "cell_type": "code",
   "execution_count": 23,
   "metadata": {},
   "outputs": [],
   "source": [
    "import pandas as pd\n",
    "import seaborn as sns\n",
    "import matplotlib.pyplot as plt"
   ]
  },
  {
   "cell_type": "code",
   "execution_count": 12,
   "metadata": {},
   "outputs": [],
   "source": [
    "data = pd.read_json('data/intervals_challenge.json', lines=True)"
   ]
  },
  {
   "cell_type": "code",
   "execution_count": 13,
   "metadata": {},
   "outputs": [
    {
     "data": {
      "text/plain": "(165170, 7)"
     },
     "execution_count": 13,
     "metadata": {},
     "output_type": "execute_result"
    }
   ],
   "source": [
    "data.shape"
   ]
  },
  {
   "cell_type": "code",
   "execution_count": 14,
   "metadata": {},
   "outputs": [
    {
     "data": {
      "text/html": "<div>\n<style scoped>\n    .dataframe tbody tr th:only-of-type {\n        vertical-align: middle;\n    }\n\n    .dataframe tbody tr th {\n        vertical-align: top;\n    }\n\n    .dataframe thead th {\n        text-align: right;\n    }\n</style>\n<table border=\"1\" class=\"dataframe\">\n  <thead>\n    <tr style=\"text-align: right;\">\n      <th></th>\n      <th>duration</th>\n      <th>distance</th>\n      <th>started_at</th>\n      <th>trip_id</th>\n      <th>vehicle_id</th>\n      <th>city_id</th>\n      <th>type</th>\n    </tr>\n  </thead>\n  <tbody>\n    <tr>\n      <th>0</th>\n      <td>857</td>\n      <td>5384</td>\n      <td>2016-10-03 13:00:00.286999941</td>\n      <td>c00cee6963e0dc66e50e271239426914</td>\n      <td>52d38cf1a3240d5cbdcf730f2d9a47d6</td>\n      <td>pentos</td>\n      <td>driving_to_destination</td>\n    </tr>\n    <tr>\n      <th>1</th>\n      <td>245</td>\n      <td>1248</td>\n      <td>2016-10-03 13:00:00.852999926</td>\n      <td>427425e1f4318ca2461168bdd6e4fcbd</td>\n      <td>8336b28f24c3e7a1e3d582073b164895</td>\n      <td>volantis</td>\n      <td>going_to_pickup</td>\n    </tr>\n    <tr>\n      <th>2</th>\n      <td>1249</td>\n      <td>5847</td>\n      <td>2016-10-03 13:00:01.670000076</td>\n      <td>757867f6d7c00ef92a65bfaa3895943f</td>\n      <td>8885c59374cc539163e83f01ed59fd16</td>\n      <td>pentos</td>\n      <td>driving_to_destination</td>\n    </tr>\n    <tr>\n      <th>3</th>\n      <td>471</td>\n      <td>2585</td>\n      <td>2016-10-03 13:00:01.841000080</td>\n      <td>d09d1301d361f7359d0d936557d10f89</td>\n      <td>81b63920454f70b6755a494e3b28b3a7</td>\n      <td>bravos</td>\n      <td>going_to_pickup</td>\n    </tr>\n    <tr>\n      <th>4</th>\n      <td>182</td>\n      <td>743</td>\n      <td>2016-10-03 13:00:01.970000029</td>\n      <td>00f20a701f0ec2519353ef3ffaf75068</td>\n      <td>b73030977cbad61c9db55418909864fa</td>\n      <td>pentos</td>\n      <td>going_to_pickup</td>\n    </tr>\n  </tbody>\n</table>\n</div>",
      "text/plain": "  duration distance                    started_at  \\\n0      857     5384 2016-10-03 13:00:00.286999941   \n1      245     1248 2016-10-03 13:00:00.852999926   \n2     1249     5847 2016-10-03 13:00:01.670000076   \n3      471     2585 2016-10-03 13:00:01.841000080   \n4      182      743 2016-10-03 13:00:01.970000029   \n\n                            trip_id                        vehicle_id  \\\n0  c00cee6963e0dc66e50e271239426914  52d38cf1a3240d5cbdcf730f2d9a47d6   \n1  427425e1f4318ca2461168bdd6e4fcbd  8336b28f24c3e7a1e3d582073b164895   \n2  757867f6d7c00ef92a65bfaa3895943f  8885c59374cc539163e83f01ed59fd16   \n3  d09d1301d361f7359d0d936557d10f89  81b63920454f70b6755a494e3b28b3a7   \n4  00f20a701f0ec2519353ef3ffaf75068  b73030977cbad61c9db55418909864fa   \n\n    city_id                    type  \n0    pentos  driving_to_destination  \n1  volantis         going_to_pickup  \n2    pentos  driving_to_destination  \n3    bravos         going_to_pickup  \n4    pentos         going_to_pickup  "
     },
     "execution_count": 14,
     "metadata": {},
     "output_type": "execute_result"
    }
   ],
   "source": [
    "data.head()"
   ]
  },
  {
   "cell_type": "code",
   "execution_count": 20,
   "metadata": {},
   "outputs": [],
   "source": [
    "# defining a function to classify the type of distance\n",
    "def trip_classifier(id):\n",
    "    if id.startswith('0'):\n",
    "        return 'road'\n",
    "    elif id.startswith('1'):\n",
    "        return 'road'\n",
    "    elif id.startswith('2'):\n",
    "        return 'road'\n",
    "    elif id.startswith('3'):\n",
    "        return 'road'\n",
    "    elif id.startswith('4'):\n",
    "        return 'road'\n",
    "    elif id.startswith('5'):\n",
    "        return 'road'\n",
    "    elif id.startswith('6'):\n",
    "        return 'road'\n",
    "    elif id.startswith('7'):\n",
    "        return 'road'\n",
    "    elif id.startswith('8'):\n",
    "        return 'road'\n",
    "    else:\n",
    "        return 'linear'"
   ]
  },
  {
   "cell_type": "code",
   "execution_count": 21,
   "metadata": {},
   "outputs": [],
   "source": [
    "data.trip_id = data['trip_id'].apply(lambda x: trip_classifier(x))"
   ]
  },
  {
   "cell_type": "code",
   "execution_count": 22,
   "metadata": {},
   "outputs": [
    {
     "data": {
      "text/html": "<div>\n<style scoped>\n    .dataframe tbody tr th:only-of-type {\n        vertical-align: middle;\n    }\n\n    .dataframe tbody tr th {\n        vertical-align: top;\n    }\n\n    .dataframe thead th {\n        text-align: right;\n    }\n</style>\n<table border=\"1\" class=\"dataframe\">\n  <thead>\n    <tr style=\"text-align: right;\">\n      <th></th>\n      <th>duration</th>\n      <th>distance</th>\n      <th>started_at</th>\n      <th>trip_id</th>\n      <th>vehicle_id</th>\n      <th>city_id</th>\n      <th>type</th>\n    </tr>\n  </thead>\n  <tbody>\n    <tr>\n      <th>0</th>\n      <td>857</td>\n      <td>5384</td>\n      <td>2016-10-03 13:00:00.286999941</td>\n      <td>linear</td>\n      <td>52d38cf1a3240d5cbdcf730f2d9a47d6</td>\n      <td>pentos</td>\n      <td>driving_to_destination</td>\n    </tr>\n    <tr>\n      <th>1</th>\n      <td>245</td>\n      <td>1248</td>\n      <td>2016-10-03 13:00:00.852999926</td>\n      <td>road</td>\n      <td>8336b28f24c3e7a1e3d582073b164895</td>\n      <td>volantis</td>\n      <td>going_to_pickup</td>\n    </tr>\n    <tr>\n      <th>2</th>\n      <td>1249</td>\n      <td>5847</td>\n      <td>2016-10-03 13:00:01.670000076</td>\n      <td>road</td>\n      <td>8885c59374cc539163e83f01ed59fd16</td>\n      <td>pentos</td>\n      <td>driving_to_destination</td>\n    </tr>\n    <tr>\n      <th>3</th>\n      <td>471</td>\n      <td>2585</td>\n      <td>2016-10-03 13:00:01.841000080</td>\n      <td>linear</td>\n      <td>81b63920454f70b6755a494e3b28b3a7</td>\n      <td>bravos</td>\n      <td>going_to_pickup</td>\n    </tr>\n    <tr>\n      <th>4</th>\n      <td>182</td>\n      <td>743</td>\n      <td>2016-10-03 13:00:01.970000029</td>\n      <td>road</td>\n      <td>b73030977cbad61c9db55418909864fa</td>\n      <td>pentos</td>\n      <td>going_to_pickup</td>\n    </tr>\n  </tbody>\n</table>\n</div>",
      "text/plain": "  duration distance                    started_at trip_id  \\\n0      857     5384 2016-10-03 13:00:00.286999941  linear   \n1      245     1248 2016-10-03 13:00:00.852999926    road   \n2     1249     5847 2016-10-03 13:00:01.670000076    road   \n3      471     2585 2016-10-03 13:00:01.841000080  linear   \n4      182      743 2016-10-03 13:00:01.970000029    road   \n\n                         vehicle_id   city_id                    type  \n0  52d38cf1a3240d5cbdcf730f2d9a47d6    pentos  driving_to_destination  \n1  8336b28f24c3e7a1e3d582073b164895  volantis         going_to_pickup  \n2  8885c59374cc539163e83f01ed59fd16    pentos  driving_to_destination  \n3  81b63920454f70b6755a494e3b28b3a7    bravos         going_to_pickup  \n4  b73030977cbad61c9db55418909864fa    pentos         going_to_pickup  "
     },
     "execution_count": 22,
     "metadata": {},
     "output_type": "execute_result"
    }
   ],
   "source": [
    "data.head()"
   ]
  },
  {
   "cell_type": "code",
   "execution_count": 26,
   "metadata": {},
   "outputs": [
    {
     "ename": "IndexError",
     "evalue": "index -1 is out of bounds for axis 0 with size 0",
     "output_type": "error",
     "traceback": [
      "\u001b[0;31m---------------------------------------------------------------------------\u001b[0m",
      "\u001b[0;31mIndexError\u001b[0m                                Traceback (most recent call last)",
      "\u001b[0;32m<ipython-input-26-45e1b27ac024>\u001b[0m in \u001b[0;36m<module>\u001b[0;34m\u001b[0m\n\u001b[1;32m      2\u001b[0m \u001b[0;34m\u001b[0m\u001b[0m\n\u001b[1;32m      3\u001b[0m \u001b[0mplt\u001b[0m\u001b[0;34m.\u001b[0m\u001b[0mfigure\u001b[0m\u001b[0;34m(\u001b[0m\u001b[0mfigsize\u001b[0m\u001b[0;34m=\u001b[0m \u001b[0;34m(\u001b[0m\u001b[0;36m16\u001b[0m\u001b[0;34m,\u001b[0m\u001b[0;36m16\u001b[0m\u001b[0;34m)\u001b[0m\u001b[0;34m,\u001b[0m \u001b[0mdpi\u001b[0m\u001b[0;34m=\u001b[0m\u001b[0;36m150\u001b[0m\u001b[0;34m)\u001b[0m\u001b[0;34m\u001b[0m\u001b[0;34m\u001b[0m\u001b[0m\n\u001b[0;32m----> 4\u001b[0;31m \u001b[0msns\u001b[0m\u001b[0;34m.\u001b[0m\u001b[0mpairplot\u001b[0m\u001b[0;34m(\u001b[0m\u001b[0mvariables\u001b[0m\u001b[0;34m,\u001b[0m \u001b[0mhue\u001b[0m\u001b[0;34m=\u001b[0m\u001b[0;34m'trip_id'\u001b[0m\u001b[0;34m,\u001b[0m \u001b[0mcorner\u001b[0m\u001b[0;34m=\u001b[0m\u001b[0;32mTrue\u001b[0m\u001b[0;34m)\u001b[0m\u001b[0;34m\u001b[0m\u001b[0;34m\u001b[0m\u001b[0m\n\u001b[0m",
      "\u001b[0;32m/usr/local/lib/python3.7/site-packages/seaborn/axisgrid.py\u001b[0m in \u001b[0;36mpairplot\u001b[0;34m(data, hue, hue_order, palette, vars, x_vars, y_vars, kind, diag_kind, markers, height, aspect, corner, dropna, plot_kws, diag_kws, grid_kws, size)\u001b[0m\n\u001b[1;32m   2092\u001b[0m     grid = PairGrid(data, vars=vars, x_vars=x_vars, y_vars=y_vars, hue=hue,\n\u001b[1;32m   2093\u001b[0m                     \u001b[0mhue_order\u001b[0m\u001b[0;34m=\u001b[0m\u001b[0mhue_order\u001b[0m\u001b[0;34m,\u001b[0m \u001b[0mpalette\u001b[0m\u001b[0;34m=\u001b[0m\u001b[0mpalette\u001b[0m\u001b[0;34m,\u001b[0m \u001b[0mcorner\u001b[0m\u001b[0;34m=\u001b[0m\u001b[0mcorner\u001b[0m\u001b[0;34m,\u001b[0m\u001b[0;34m\u001b[0m\u001b[0;34m\u001b[0m\u001b[0m\n\u001b[0;32m-> 2094\u001b[0;31m                     height=height, aspect=aspect, dropna=dropna, **grid_kws)\n\u001b[0m\u001b[1;32m   2095\u001b[0m \u001b[0;34m\u001b[0m\u001b[0m\n\u001b[1;32m   2096\u001b[0m     \u001b[0;31m# Add the markers here as PairGrid has figured out how many levels of the\u001b[0m\u001b[0;34m\u001b[0m\u001b[0;34m\u001b[0m\u001b[0;34m\u001b[0m\u001b[0m\n",
      "\u001b[0;32m/usr/local/lib/python3.7/site-packages/seaborn/axisgrid.py\u001b[0m in \u001b[0;36m__init__\u001b[0;34m(self, data, hue, hue_order, palette, hue_kws, vars, x_vars, y_vars, corner, diag_sharey, height, aspect, layout_pad, despine, dropna, size)\u001b[0m\n\u001b[1;32m   1322\u001b[0m \u001b[0;34m\u001b[0m\u001b[0m\n\u001b[1;32m   1323\u001b[0m         \u001b[0;31m# Label the axes\u001b[0m\u001b[0;34m\u001b[0m\u001b[0;34m\u001b[0m\u001b[0;34m\u001b[0m\u001b[0m\n\u001b[0;32m-> 1324\u001b[0;31m         \u001b[0mself\u001b[0m\u001b[0;34m.\u001b[0m\u001b[0m_add_axis_labels\u001b[0m\u001b[0;34m(\u001b[0m\u001b[0;34m)\u001b[0m\u001b[0;34m\u001b[0m\u001b[0;34m\u001b[0m\u001b[0m\n\u001b[0m\u001b[1;32m   1325\u001b[0m \u001b[0;34m\u001b[0m\u001b[0m\n\u001b[1;32m   1326\u001b[0m         \u001b[0;31m# Sort out the hue variable\u001b[0m\u001b[0;34m\u001b[0m\u001b[0;34m\u001b[0m\u001b[0;34m\u001b[0m\u001b[0m\n",
      "\u001b[0;32m/usr/local/lib/python3.7/site-packages/seaborn/axisgrid.py\u001b[0m in \u001b[0;36m_add_axis_labels\u001b[0;34m(self)\u001b[0m\n\u001b[1;32m   1541\u001b[0m     \u001b[0;32mdef\u001b[0m \u001b[0m_add_axis_labels\u001b[0m\u001b[0;34m(\u001b[0m\u001b[0mself\u001b[0m\u001b[0;34m)\u001b[0m\u001b[0;34m:\u001b[0m\u001b[0;34m\u001b[0m\u001b[0;34m\u001b[0m\u001b[0m\n\u001b[1;32m   1542\u001b[0m         \u001b[0;34m\"\"\"Add labels to the left and bottom Axes.\"\"\"\u001b[0m\u001b[0;34m\u001b[0m\u001b[0;34m\u001b[0m\u001b[0m\n\u001b[0;32m-> 1543\u001b[0;31m         \u001b[0;32mfor\u001b[0m \u001b[0max\u001b[0m\u001b[0;34m,\u001b[0m \u001b[0mlabel\u001b[0m \u001b[0;32min\u001b[0m \u001b[0mzip\u001b[0m\u001b[0;34m(\u001b[0m\u001b[0mself\u001b[0m\u001b[0;34m.\u001b[0m\u001b[0maxes\u001b[0m\u001b[0;34m[\u001b[0m\u001b[0;34m-\u001b[0m\u001b[0;36m1\u001b[0m\u001b[0;34m,\u001b[0m \u001b[0;34m:\u001b[0m\u001b[0;34m]\u001b[0m\u001b[0;34m,\u001b[0m \u001b[0mself\u001b[0m\u001b[0;34m.\u001b[0m\u001b[0mx_vars\u001b[0m\u001b[0;34m)\u001b[0m\u001b[0;34m:\u001b[0m\u001b[0;34m\u001b[0m\u001b[0;34m\u001b[0m\u001b[0m\n\u001b[0m\u001b[1;32m   1544\u001b[0m             \u001b[0max\u001b[0m\u001b[0;34m.\u001b[0m\u001b[0mset_xlabel\u001b[0m\u001b[0;34m(\u001b[0m\u001b[0mlabel\u001b[0m\u001b[0;34m)\u001b[0m\u001b[0;34m\u001b[0m\u001b[0;34m\u001b[0m\u001b[0m\n\u001b[1;32m   1545\u001b[0m         \u001b[0;32mfor\u001b[0m \u001b[0max\u001b[0m\u001b[0;34m,\u001b[0m \u001b[0mlabel\u001b[0m \u001b[0;32min\u001b[0m \u001b[0mzip\u001b[0m\u001b[0;34m(\u001b[0m\u001b[0mself\u001b[0m\u001b[0;34m.\u001b[0m\u001b[0maxes\u001b[0m\u001b[0;34m[\u001b[0m\u001b[0;34m:\u001b[0m\u001b[0;34m,\u001b[0m \u001b[0;36m0\u001b[0m\u001b[0;34m]\u001b[0m\u001b[0;34m,\u001b[0m \u001b[0mself\u001b[0m\u001b[0;34m.\u001b[0m\u001b[0my_vars\u001b[0m\u001b[0;34m)\u001b[0m\u001b[0;34m:\u001b[0m\u001b[0;34m\u001b[0m\u001b[0;34m\u001b[0m\u001b[0m\n",
      "\u001b[0;31mIndexError\u001b[0m: index -1 is out of bounds for axis 0 with size 0"
     ]
    }
   ],
   "source": [
    "variables = data[['duration', 'distance', 'trip_id']]\n",
    "\n",
    "plt.figure(figsize= (16,16), dpi=150)\n",
    "sns.pairplot(variables, hue='trip_id', corner=True)"
   ]
  },
  {
   "cell_type": "code",
   "execution_count": null,
   "metadata": {},
   "outputs": [],
   "source": []
  }
 ],
 "metadata": {
  "kernelspec": {
   "display_name": "Python 3",
   "language": "python",
   "name": "python3"
  },
  "language_info": {
   "codemirror_mode": {
    "name": "ipython",
    "version": 3
   },
   "file_extension": ".py",
   "mimetype": "text/x-python",
   "name": "python",
   "nbconvert_exporter": "python",
   "pygments_lexer": "ipython3",
   "version": "3.7.7-final"
  }
 },
 "nbformat": 4,
 "nbformat_minor": 4
}