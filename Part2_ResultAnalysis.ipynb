{
 "cells": [
  {
   "cell_type": "code",
   "execution_count": 1,
   "metadata": {},
   "outputs": [],
   "source": [
    "import pandas as pd\n",
    "import re"
   ]
  },
  {
   "cell_type": "code",
   "execution_count": 2,
   "metadata": {},
   "outputs": [],
   "source": [
    "data = pd.read_json('./data/intervals_challenge.json', lines=True)"
   ]
  },
  {
   "cell_type": "code",
   "execution_count": 3,
   "metadata": {},
   "outputs": [
    {
     "data": {
      "text/html": [
       "<div>\n",
       "<style scoped>\n",
       "    .dataframe tbody tr th:only-of-type {\n",
       "        vertical-align: middle;\n",
       "    }\n",
       "\n",
       "    .dataframe tbody tr th {\n",
       "        vertical-align: top;\n",
       "    }\n",
       "\n",
       "    .dataframe thead th {\n",
       "        text-align: right;\n",
       "    }\n",
       "</style>\n",
       "<table border=\"1\" class=\"dataframe\">\n",
       "  <thead>\n",
       "    <tr style=\"text-align: right;\">\n",
       "      <th></th>\n",
       "      <th>duration</th>\n",
       "      <th>distance</th>\n",
       "      <th>started_at</th>\n",
       "      <th>trip_id</th>\n",
       "      <th>vehicle_id</th>\n",
       "      <th>city_id</th>\n",
       "      <th>type</th>\n",
       "    </tr>\n",
       "  </thead>\n",
       "  <tbody>\n",
       "    <tr>\n",
       "      <th>0</th>\n",
       "      <td>857</td>\n",
       "      <td>5384</td>\n",
       "      <td>2016-10-03 13:00:00.286999941</td>\n",
       "      <td>c00cee6963e0dc66e50e271239426914</td>\n",
       "      <td>52d38cf1a3240d5cbdcf730f2d9a47d6</td>\n",
       "      <td>pentos</td>\n",
       "      <td>driving_to_destination</td>\n",
       "    </tr>\n",
       "    <tr>\n",
       "      <th>1</th>\n",
       "      <td>245</td>\n",
       "      <td>1248</td>\n",
       "      <td>2016-10-03 13:00:00.852999926</td>\n",
       "      <td>427425e1f4318ca2461168bdd6e4fcbd</td>\n",
       "      <td>8336b28f24c3e7a1e3d582073b164895</td>\n",
       "      <td>volantis</td>\n",
       "      <td>going_to_pickup</td>\n",
       "    </tr>\n",
       "    <tr>\n",
       "      <th>2</th>\n",
       "      <td>1249</td>\n",
       "      <td>5847</td>\n",
       "      <td>2016-10-03 13:00:01.670000076</td>\n",
       "      <td>757867f6d7c00ef92a65bfaa3895943f</td>\n",
       "      <td>8885c59374cc539163e83f01ed59fd16</td>\n",
       "      <td>pentos</td>\n",
       "      <td>driving_to_destination</td>\n",
       "    </tr>\n",
       "    <tr>\n",
       "      <th>3</th>\n",
       "      <td>471</td>\n",
       "      <td>2585</td>\n",
       "      <td>2016-10-03 13:00:01.841000080</td>\n",
       "      <td>d09d1301d361f7359d0d936557d10f89</td>\n",
       "      <td>81b63920454f70b6755a494e3b28b3a7</td>\n",
       "      <td>bravos</td>\n",
       "      <td>going_to_pickup</td>\n",
       "    </tr>\n",
       "    <tr>\n",
       "      <th>4</th>\n",
       "      <td>182</td>\n",
       "      <td>743</td>\n",
       "      <td>2016-10-03 13:00:01.970000029</td>\n",
       "      <td>00f20a701f0ec2519353ef3ffaf75068</td>\n",
       "      <td>b73030977cbad61c9db55418909864fa</td>\n",
       "      <td>pentos</td>\n",
       "      <td>going_to_pickup</td>\n",
       "    </tr>\n",
       "  </tbody>\n",
       "</table>\n",
       "</div>"
      ],
      "text/plain": [
       "  duration distance                    started_at  \\\n",
       "0      857     5384 2016-10-03 13:00:00.286999941   \n",
       "1      245     1248 2016-10-03 13:00:00.852999926   \n",
       "2     1249     5847 2016-10-03 13:00:01.670000076   \n",
       "3      471     2585 2016-10-03 13:00:01.841000080   \n",
       "4      182      743 2016-10-03 13:00:01.970000029   \n",
       "\n",
       "                            trip_id                        vehicle_id  \\\n",
       "0  c00cee6963e0dc66e50e271239426914  52d38cf1a3240d5cbdcf730f2d9a47d6   \n",
       "1  427425e1f4318ca2461168bdd6e4fcbd  8336b28f24c3e7a1e3d582073b164895   \n",
       "2  757867f6d7c00ef92a65bfaa3895943f  8885c59374cc539163e83f01ed59fd16   \n",
       "3  d09d1301d361f7359d0d936557d10f89  81b63920454f70b6755a494e3b28b3a7   \n",
       "4  00f20a701f0ec2519353ef3ffaf75068  b73030977cbad61c9db55418909864fa   \n",
       "\n",
       "    city_id                    type  \n",
       "0    pentos  driving_to_destination  \n",
       "1  volantis         going_to_pickup  \n",
       "2    pentos  driving_to_destination  \n",
       "3    bravos         going_to_pickup  \n",
       "4    pentos         going_to_pickup  "
      ]
     },
     "execution_count": 3,
     "metadata": {},
     "output_type": "execute_result"
    }
   ],
   "source": [
    "data.head()"
   ]
  },
  {
   "cell_type": "code",
   "execution_count": 4,
   "metadata": {},
   "outputs": [
    {
     "name": "stdout",
     "output_type": "stream",
     "text": [
      "<class 'pandas.core.frame.DataFrame'>\n",
      "RangeIndex: 165170 entries, 0 to 165169\n",
      "Data columns (total 7 columns):\n",
      "duration      165170 non-null object\n",
      "distance      165170 non-null object\n",
      "started_at    165170 non-null datetime64[ns]\n",
      "trip_id       165170 non-null object\n",
      "vehicle_id    165170 non-null object\n",
      "city_id       165170 non-null object\n",
      "type          165170 non-null object\n",
      "dtypes: datetime64[ns](1), object(6)\n",
      "memory usage: 8.8+ MB\n"
     ]
    }
   ],
   "source": [
    "data.info()"
   ]
  },
  {
   "cell_type": "markdown",
   "metadata": {},
   "source": [
    "### The experiment wants to know how to assign rides to the closest vehicle. Thus, we only want to use the optimization when 'going_to_pickup'. That's why we create a new dataframe grouping by this information only"
   ]
  },
  {
   "cell_type": "code",
   "execution_count": 5,
   "metadata": {},
   "outputs": [],
   "source": [
    "pickups = data[data.type == 'going_to_pickup']"
   ]
  },
  {
   "cell_type": "markdown",
   "metadata": {},
   "source": [
    "### As it can be seen below now we only have the type of trips we are interested in"
   ]
  },
  {
   "cell_type": "code",
   "execution_count": 6,
   "metadata": {},
   "outputs": [
    {
     "data": {
      "text/html": [
       "<div>\n",
       "<style scoped>\n",
       "    .dataframe tbody tr th:only-of-type {\n",
       "        vertical-align: middle;\n",
       "    }\n",
       "\n",
       "    .dataframe tbody tr th {\n",
       "        vertical-align: top;\n",
       "    }\n",
       "\n",
       "    .dataframe thead th {\n",
       "        text-align: right;\n",
       "    }\n",
       "</style>\n",
       "<table border=\"1\" class=\"dataframe\">\n",
       "  <thead>\n",
       "    <tr style=\"text-align: right;\">\n",
       "      <th></th>\n",
       "      <th>duration</th>\n",
       "      <th>distance</th>\n",
       "      <th>started_at</th>\n",
       "      <th>trip_id</th>\n",
       "      <th>vehicle_id</th>\n",
       "      <th>city_id</th>\n",
       "      <th>type</th>\n",
       "    </tr>\n",
       "  </thead>\n",
       "  <tbody>\n",
       "    <tr>\n",
       "      <th>1</th>\n",
       "      <td>245</td>\n",
       "      <td>1248</td>\n",
       "      <td>2016-10-03 13:00:00.852999926</td>\n",
       "      <td>427425e1f4318ca2461168bdd6e4fcbd</td>\n",
       "      <td>8336b28f24c3e7a1e3d582073b164895</td>\n",
       "      <td>volantis</td>\n",
       "      <td>going_to_pickup</td>\n",
       "    </tr>\n",
       "    <tr>\n",
       "      <th>3</th>\n",
       "      <td>471</td>\n",
       "      <td>2585</td>\n",
       "      <td>2016-10-03 13:00:01.841000080</td>\n",
       "      <td>d09d1301d361f7359d0d936557d10f89</td>\n",
       "      <td>81b63920454f70b6755a494e3b28b3a7</td>\n",
       "      <td>bravos</td>\n",
       "      <td>going_to_pickup</td>\n",
       "    </tr>\n",
       "    <tr>\n",
       "      <th>4</th>\n",
       "      <td>182</td>\n",
       "      <td>743</td>\n",
       "      <td>2016-10-03 13:00:01.970000029</td>\n",
       "      <td>00f20a701f0ec2519353ef3ffaf75068</td>\n",
       "      <td>b73030977cbad61c9db55418909864fa</td>\n",
       "      <td>pentos</td>\n",
       "      <td>going_to_pickup</td>\n",
       "    </tr>\n",
       "    <tr>\n",
       "      <th>5</th>\n",
       "      <td>599</td>\n",
       "      <td>1351</td>\n",
       "      <td>2016-10-03 13:00:02.154000044</td>\n",
       "      <td>158e7bc8d42e1d8c94767b00c8f89568</td>\n",
       "      <td>126e868fb282852c2fa95d88878686bf</td>\n",
       "      <td>volantis</td>\n",
       "      <td>going_to_pickup</td>\n",
       "    </tr>\n",
       "    <tr>\n",
       "      <th>9</th>\n",
       "      <td>1525</td>\n",
       "      <td>2674</td>\n",
       "      <td>2016-10-03 13:00:05.637000084</td>\n",
       "      <td>d3e6e8fb50c02d66feca2c60830c4fcc</td>\n",
       "      <td>b0906e917dc5cc0bcba190fd80079a74</td>\n",
       "      <td>bravos</td>\n",
       "      <td>going_to_pickup</td>\n",
       "    </tr>\n",
       "  </tbody>\n",
       "</table>\n",
       "</div>"
      ],
      "text/plain": [
       "  duration distance                    started_at  \\\n",
       "1      245     1248 2016-10-03 13:00:00.852999926   \n",
       "3      471     2585 2016-10-03 13:00:01.841000080   \n",
       "4      182      743 2016-10-03 13:00:01.970000029   \n",
       "5      599     1351 2016-10-03 13:00:02.154000044   \n",
       "9     1525     2674 2016-10-03 13:00:05.637000084   \n",
       "\n",
       "                            trip_id                        vehicle_id  \\\n",
       "1  427425e1f4318ca2461168bdd6e4fcbd  8336b28f24c3e7a1e3d582073b164895   \n",
       "3  d09d1301d361f7359d0d936557d10f89  81b63920454f70b6755a494e3b28b3a7   \n",
       "4  00f20a701f0ec2519353ef3ffaf75068  b73030977cbad61c9db55418909864fa   \n",
       "5  158e7bc8d42e1d8c94767b00c8f89568  126e868fb282852c2fa95d88878686bf   \n",
       "9  d3e6e8fb50c02d66feca2c60830c4fcc  b0906e917dc5cc0bcba190fd80079a74   \n",
       "\n",
       "    city_id             type  \n",
       "1  volantis  going_to_pickup  \n",
       "3    bravos  going_to_pickup  \n",
       "4    pentos  going_to_pickup  \n",
       "5  volantis  going_to_pickup  \n",
       "9    bravos  going_to_pickup  "
      ]
     },
     "execution_count": 6,
     "metadata": {},
     "output_type": "execute_result"
    }
   ],
   "source": [
    "pickups.head()"
   ]
  },
  {
   "cell_type": "markdown",
   "metadata": {},
   "source": [
    "### We have quenched the data to 58.510 rows showing the information we want to study"
   ]
  },
  {
   "cell_type": "code",
   "execution_count": 7,
   "metadata": {},
   "outputs": [
    {
     "name": "stdout",
     "output_type": "stream",
     "text": [
      "<class 'pandas.core.frame.DataFrame'>\n",
      "Int64Index: 58510 entries, 1 to 165169\n",
      "Data columns (total 7 columns):\n",
      "duration      58510 non-null object\n",
      "distance      58510 non-null object\n",
      "started_at    58510 non-null datetime64[ns]\n",
      "trip_id       58510 non-null object\n",
      "vehicle_id    58510 non-null object\n",
      "city_id       58510 non-null object\n",
      "type          58510 non-null object\n",
      "dtypes: datetime64[ns](1), object(6)\n",
      "memory usage: 3.6+ MB\n"
     ]
    }
   ],
   "source": [
    "pickups.info()"
   ]
  },
  {
   "cell_type": "markdown",
   "metadata": {},
   "source": [
    "### We check if there are any irregular values or nulls. We sort them, to see if among the numbers, are there any non-numeric"
   ]
  },
  {
   "cell_type": "code",
   "execution_count": 8,
   "metadata": {},
   "outputs": [
    {
     "data": {
      "text/plain": [
       "<bound method Series.sort_values of 1          245\n",
       "3          471\n",
       "4          182\n",
       "5          599\n",
       "9         1525\n",
       "          ... \n",
       "165153      NA\n",
       "165156      NA\n",
       "165158      NA\n",
       "165159      NA\n",
       "165169      NA\n",
       "Name: duration, Length: 58510, dtype: object>"
      ]
     },
     "execution_count": 8,
     "metadata": {},
     "output_type": "execute_result"
    }
   ],
   "source": [
    "pickups['duration'].sort_values"
   ]
  },
  {
   "cell_type": "markdown",
   "metadata": {},
   "source": [
    "### Drop the nulls"
   ]
  },
  {
   "cell_type": "code",
   "execution_count": 9,
   "metadata": {},
   "outputs": [],
   "source": [
    "pickups = pickups[pickups.duration != 'NA']"
   ]
  },
  {
   "cell_type": "markdown",
   "metadata": {},
   "source": [
    "### We turn duration and distance into numerics "
   ]
  },
  {
   "cell_type": "code",
   "execution_count": 10,
   "metadata": {},
   "outputs": [],
   "source": [
    "pickups[['duration', 'distance']] = pickups[['duration', 'distance']].apply(pd.to_numeric)"
   ]
  },
  {
   "cell_type": "code",
   "execution_count": 11,
   "metadata": {},
   "outputs": [
    {
     "name": "stdout",
     "output_type": "stream",
     "text": [
      "<class 'pandas.core.frame.DataFrame'>\n",
      "Int64Index: 58211 entries, 1 to 165111\n",
      "Data columns (total 7 columns):\n",
      "duration      58211 non-null int64\n",
      "distance      58211 non-null int64\n",
      "started_at    58211 non-null datetime64[ns]\n",
      "trip_id       58211 non-null object\n",
      "vehicle_id    58211 non-null object\n",
      "city_id       58211 non-null object\n",
      "type          58211 non-null object\n",
      "dtypes: datetime64[ns](1), int64(2), object(4)\n",
      "memory usage: 3.6+ MB\n"
     ]
    }
   ],
   "source": [
    "pickups.info()"
   ]
  },
  {
   "cell_type": "markdown",
   "metadata": {},
   "source": [
    "### We generate a function to discriminate the kind of distance used to assign the call to the vehicle"
   ]
  },
  {
   "cell_type": "code",
   "execution_count": 12,
   "metadata": {},
   "outputs": [],
   "source": [
    "def linear_road(row):\n",
    "    if re.match(r'^[0-8]', row['trip_id']):\n",
    "        return 'road'\n",
    "    else:\n",
    "        return 'linear'"
   ]
  },
  {
   "cell_type": "markdown",
   "metadata": {},
   "source": [
    "### Creation of a new column with the result of the function"
   ]
  },
  {
   "cell_type": "code",
   "execution_count": 13,
   "metadata": {},
   "outputs": [],
   "source": [
    "pickups['trip_type'] = pickups.apply(linear_road, axis=1)"
   ]
  },
  {
   "cell_type": "code",
   "execution_count": 14,
   "metadata": {},
   "outputs": [
    {
     "data": {
      "text/html": [
       "<div>\n",
       "<style scoped>\n",
       "    .dataframe tbody tr th:only-of-type {\n",
       "        vertical-align: middle;\n",
       "    }\n",
       "\n",
       "    .dataframe tbody tr th {\n",
       "        vertical-align: top;\n",
       "    }\n",
       "\n",
       "    .dataframe thead th {\n",
       "        text-align: right;\n",
       "    }\n",
       "</style>\n",
       "<table border=\"1\" class=\"dataframe\">\n",
       "  <thead>\n",
       "    <tr style=\"text-align: right;\">\n",
       "      <th></th>\n",
       "      <th>duration</th>\n",
       "      <th>distance</th>\n",
       "      <th>started_at</th>\n",
       "      <th>trip_id</th>\n",
       "      <th>vehicle_id</th>\n",
       "      <th>city_id</th>\n",
       "      <th>type</th>\n",
       "      <th>trip_type</th>\n",
       "    </tr>\n",
       "  </thead>\n",
       "  <tbody>\n",
       "    <tr>\n",
       "      <th>1</th>\n",
       "      <td>245</td>\n",
       "      <td>1248</td>\n",
       "      <td>2016-10-03 13:00:00.852999926</td>\n",
       "      <td>427425e1f4318ca2461168bdd6e4fcbd</td>\n",
       "      <td>8336b28f24c3e7a1e3d582073b164895</td>\n",
       "      <td>volantis</td>\n",
       "      <td>going_to_pickup</td>\n",
       "      <td>road</td>\n",
       "    </tr>\n",
       "    <tr>\n",
       "      <th>3</th>\n",
       "      <td>471</td>\n",
       "      <td>2585</td>\n",
       "      <td>2016-10-03 13:00:01.841000080</td>\n",
       "      <td>d09d1301d361f7359d0d936557d10f89</td>\n",
       "      <td>81b63920454f70b6755a494e3b28b3a7</td>\n",
       "      <td>bravos</td>\n",
       "      <td>going_to_pickup</td>\n",
       "      <td>linear</td>\n",
       "    </tr>\n",
       "    <tr>\n",
       "      <th>4</th>\n",
       "      <td>182</td>\n",
       "      <td>743</td>\n",
       "      <td>2016-10-03 13:00:01.970000029</td>\n",
       "      <td>00f20a701f0ec2519353ef3ffaf75068</td>\n",
       "      <td>b73030977cbad61c9db55418909864fa</td>\n",
       "      <td>pentos</td>\n",
       "      <td>going_to_pickup</td>\n",
       "      <td>road</td>\n",
       "    </tr>\n",
       "    <tr>\n",
       "      <th>5</th>\n",
       "      <td>599</td>\n",
       "      <td>1351</td>\n",
       "      <td>2016-10-03 13:00:02.154000044</td>\n",
       "      <td>158e7bc8d42e1d8c94767b00c8f89568</td>\n",
       "      <td>126e868fb282852c2fa95d88878686bf</td>\n",
       "      <td>volantis</td>\n",
       "      <td>going_to_pickup</td>\n",
       "      <td>road</td>\n",
       "    </tr>\n",
       "    <tr>\n",
       "      <th>9</th>\n",
       "      <td>1525</td>\n",
       "      <td>2674</td>\n",
       "      <td>2016-10-03 13:00:05.637000084</td>\n",
       "      <td>d3e6e8fb50c02d66feca2c60830c4fcc</td>\n",
       "      <td>b0906e917dc5cc0bcba190fd80079a74</td>\n",
       "      <td>bravos</td>\n",
       "      <td>going_to_pickup</td>\n",
       "      <td>linear</td>\n",
       "    </tr>\n",
       "  </tbody>\n",
       "</table>\n",
       "</div>"
      ],
      "text/plain": [
       "   duration  distance                    started_at  \\\n",
       "1       245      1248 2016-10-03 13:00:00.852999926   \n",
       "3       471      2585 2016-10-03 13:00:01.841000080   \n",
       "4       182       743 2016-10-03 13:00:01.970000029   \n",
       "5       599      1351 2016-10-03 13:00:02.154000044   \n",
       "9      1525      2674 2016-10-03 13:00:05.637000084   \n",
       "\n",
       "                            trip_id                        vehicle_id  \\\n",
       "1  427425e1f4318ca2461168bdd6e4fcbd  8336b28f24c3e7a1e3d582073b164895   \n",
       "3  d09d1301d361f7359d0d936557d10f89  81b63920454f70b6755a494e3b28b3a7   \n",
       "4  00f20a701f0ec2519353ef3ffaf75068  b73030977cbad61c9db55418909864fa   \n",
       "5  158e7bc8d42e1d8c94767b00c8f89568  126e868fb282852c2fa95d88878686bf   \n",
       "9  d3e6e8fb50c02d66feca2c60830c4fcc  b0906e917dc5cc0bcba190fd80079a74   \n",
       "\n",
       "    city_id             type trip_type  \n",
       "1  volantis  going_to_pickup      road  \n",
       "3    bravos  going_to_pickup    linear  \n",
       "4    pentos  going_to_pickup      road  \n",
       "5  volantis  going_to_pickup      road  \n",
       "9    bravos  going_to_pickup    linear  "
      ]
     },
     "execution_count": 14,
     "metadata": {},
     "output_type": "execute_result"
    }
   ],
   "source": [
    "pickups.head()"
   ]
  },
  {
   "cell_type": "markdown",
   "metadata": {},
   "source": [
    "### We drop the rides called from less than 50 metres from the spot they were called, because most likely they are meaningless"
   ]
  },
  {
   "cell_type": "code",
   "execution_count": 15,
   "metadata": {},
   "outputs": [],
   "source": [
    "pickups = pickups[pickups['distance'] > 50]"
   ]
  },
  {
   "cell_type": "code",
   "execution_count": 16,
   "metadata": {},
   "outputs": [
    {
     "data": {
      "text/plain": [
       "144276         51\n",
       "117208         51\n",
       "119783         51\n",
       "34596          51\n",
       "29252          51\n",
       "           ...   \n",
       "42689      890705\n",
       "89181      892112\n",
       "33646     1137902\n",
       "33526     1137915\n",
       "37214     1218089\n",
       "Name: distance, Length: 54583, dtype: int64"
      ]
     },
     "execution_count": 16,
     "metadata": {},
     "output_type": "execute_result"
    }
   ],
   "source": [
    "pickups.distance.sort_values()"
   ]
  },
  {
   "cell_type": "markdown",
   "metadata": {},
   "source": [
    "### We group by the type of trip we program, to compare the results"
   ]
  },
  {
   "cell_type": "code",
   "execution_count": 17,
   "metadata": {},
   "outputs": [
    {
     "data": {
      "text/html": [
       "<div>\n",
       "<style scoped>\n",
       "    .dataframe tbody tr th:only-of-type {\n",
       "        vertical-align: middle;\n",
       "    }\n",
       "\n",
       "    .dataframe tbody tr th {\n",
       "        vertical-align: top;\n",
       "    }\n",
       "\n",
       "    .dataframe thead th {\n",
       "        text-align: right;\n",
       "    }\n",
       "</style>\n",
       "<table border=\"1\" class=\"dataframe\">\n",
       "  <thead>\n",
       "    <tr style=\"text-align: right;\">\n",
       "      <th></th>\n",
       "      <th>duration</th>\n",
       "      <th>distance</th>\n",
       "    </tr>\n",
       "    <tr>\n",
       "      <th>trip_type</th>\n",
       "      <th></th>\n",
       "      <th></th>\n",
       "    </tr>\n",
       "  </thead>\n",
       "  <tbody>\n",
       "    <tr>\n",
       "      <th>linear</th>\n",
       "      <td>315.067671</td>\n",
       "      <td>1034.966778</td>\n",
       "    </tr>\n",
       "    <tr>\n",
       "      <th>road</th>\n",
       "      <td>315.702203</td>\n",
       "      <td>1059.789300</td>\n",
       "    </tr>\n",
       "  </tbody>\n",
       "</table>\n",
       "</div>"
      ],
      "text/plain": [
       "             duration     distance\n",
       "trip_type                         \n",
       "linear     315.067671  1034.966778\n",
       "road       315.702203  1059.789300"
      ]
     },
     "execution_count": 17,
     "metadata": {},
     "output_type": "execute_result"
    }
   ],
   "source": [
    "pickups.groupby('trip_type').mean()"
   ]
  },
  {
   "cell_type": "markdown",
   "metadata": {},
   "source": [
    "### Apparently there is no difference whatsoever depending on which model assigns the car to pick up the customer. To understand if this is so, we groupby cities as well"
   ]
  },
  {
   "cell_type": "code",
   "execution_count": 19,
   "metadata": {},
   "outputs": [
    {
     "data": {
      "text/html": [
       "<div>\n",
       "<style scoped>\n",
       "    .dataframe tbody tr th:only-of-type {\n",
       "        vertical-align: middle;\n",
       "    }\n",
       "\n",
       "    .dataframe tbody tr th {\n",
       "        vertical-align: top;\n",
       "    }\n",
       "\n",
       "    .dataframe thead th {\n",
       "        text-align: right;\n",
       "    }\n",
       "</style>\n",
       "<table border=\"1\" class=\"dataframe\">\n",
       "  <thead>\n",
       "    <tr style=\"text-align: right;\">\n",
       "      <th></th>\n",
       "      <th></th>\n",
       "      <th>duration</th>\n",
       "      <th>distance</th>\n",
       "    </tr>\n",
       "    <tr>\n",
       "      <th>city_id</th>\n",
       "      <th>trip_type</th>\n",
       "      <th></th>\n",
       "      <th></th>\n",
       "    </tr>\n",
       "  </thead>\n",
       "  <tbody>\n",
       "    <tr>\n",
       "      <th rowspan=\"2\" valign=\"top\">bravos</th>\n",
       "      <th>linear</th>\n",
       "      <td>591.711879</td>\n",
       "      <td>3228.833193</td>\n",
       "    </tr>\n",
       "    <tr>\n",
       "      <th>road</th>\n",
       "      <td>616.431222</td>\n",
       "      <td>3265.321177</td>\n",
       "    </tr>\n",
       "    <tr>\n",
       "      <th rowspan=\"2\" valign=\"top\">pentos</th>\n",
       "      <th>linear</th>\n",
       "      <td>266.093769</td>\n",
       "      <td>746.598132</td>\n",
       "    </tr>\n",
       "    <tr>\n",
       "      <th>road</th>\n",
       "      <td>264.985662</td>\n",
       "      <td>774.577343</td>\n",
       "    </tr>\n",
       "    <tr>\n",
       "      <th rowspan=\"2\" valign=\"top\">volantis</th>\n",
       "      <th>linear</th>\n",
       "      <td>343.224252</td>\n",
       "      <td>931.508131</td>\n",
       "    </tr>\n",
       "    <tr>\n",
       "      <th>road</th>\n",
       "      <td>335.375653</td>\n",
       "      <td>930.273488</td>\n",
       "    </tr>\n",
       "  </tbody>\n",
       "</table>\n",
       "</div>"
      ],
      "text/plain": [
       "                      duration     distance\n",
       "city_id  trip_type                         \n",
       "bravos   linear     591.711879  3228.833193\n",
       "         road       616.431222  3265.321177\n",
       "pentos   linear     266.093769   746.598132\n",
       "         road       264.985662   774.577343\n",
       "volantis linear     343.224252   931.508131\n",
       "         road       335.375653   930.273488"
      ]
     },
     "execution_count": 19,
     "metadata": {},
     "output_type": "execute_result"
    }
   ],
   "source": [
    "pickups.groupby(['city_id', 'trip_type']).mean()"
   ]
  },
  {
   "cell_type": "markdown",
   "metadata": {},
   "source": [
    "## Conclusion"
   ]
  },
  {
   "cell_type": "markdown",
   "metadata": {},
   "source": [
    "### 1.1. Should the company move towards road distance? "
   ]
  },
  {
   "cell_type": "markdown",
   "metadata": {},
   "source": [
    "They shouldn't in overall, though the specificity of the city of Volantis might make it interesting to apply it there"
   ]
  },
  {
   "cell_type": "markdown",
   "metadata": {},
   "source": [
    "### 1.2. What's the max price it would make sense to pay per query?"
   ]
  },
  {
   "cell_type": "markdown",
   "metadata": {},
   "source": [
    "They should pay a price per query smaller than the difference of revenue they obtain without that system."
   ]
  },
  {
   "cell_type": "markdown",
   "metadata": {},
   "source": [
    "### 2. How would you improve the experimental design? Would you collect any additional data?"
   ]
  },
  {
   "cell_type": "markdown",
   "metadata": {},
   "source": [
    "To make sure the experiment is worth being applied we would need the price of a query and the price the company earns per ride. Based on these columns, we would calculate the difference in the revenue for the company."
   ]
  }
 ],
 "metadata": {
  "kernelspec": {
   "display_name": "Python 3",
   "language": "python",
   "name": "python3"
  },
  "language_info": {
   "codemirror_mode": {
    "name": "ipython",
    "version": 3
   },
   "file_extension": ".py",
   "mimetype": "text/x-python",
   "name": "python",
   "nbconvert_exporter": "python",
   "pygments_lexer": "ipython3",
   "version": "3.7.4"
  }
 },
 "nbformat": 4,
 "nbformat_minor": 2
}
