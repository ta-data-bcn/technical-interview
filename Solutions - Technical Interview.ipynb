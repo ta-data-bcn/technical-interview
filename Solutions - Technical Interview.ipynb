{
 "cells": [
  {
   "cell_type": "markdown",
   "metadata": {},
   "source": [
    "## Part 1 - Assessing the Impact of the Free Photography Offer"
   ]
  },
  {
   "cell_type": "code",
   "execution_count": 8,
   "metadata": {},
   "outputs": [],
   "source": [
    "import pandas as pd\n",
    "import numpy as np\n",
    "from scipy import stats\n",
    "import json"
   ]
  },
  {
   "cell_type": "markdown",
   "metadata": {},
   "source": [
    "**Background**\n",
    "\n",
    "In 2011 AirBnB ran some experiments which showed that when a property featured professional photography, users were much more likely to trust the property and consequently make a booking. So, AirBnB a launched free professional photography service for all hosts. From inside the listing page, hosts were able to click a link to view more about the service, request a professional photographer, and subsequently (after the photo shoot) have their property profile updated with professional photos.\n",
    "\n",
    "The project initially proved to be a success:\n",
    "\n",
    "Guests were more likely to book a property that had professional photography.\n",
    "Hosts were able to charge more for listings with professional photos.\n",
    "\n",
    "However, over time this also became a multimillion dollar operation and a challenge to manage across over 200 countries.\n",
    "\n",
    "Fast forward to 2016, and some new developments have also helped with building trust:\n",
    "\n",
    "- 2013: Launch of identity verification for hosts and guests.\n",
    "- 2014: Launch of double blind reviews (neither host nor guest can see the other’s review), ensuring more honest reviews of properties and hosts.\n",
    "- 2015: Huge global PR lift for AirBnB, raising the profile of the company.\n",
    "\n",
    "An additional interesting development has also been the proliferation of smartphones with powerful and high-quality cameras (+apps) over the last few years, which has made it more possible for hosts to take good quality photos of their property. There is also the opinion that perhaps millennials have come to expect smartphone photos as the norm and are less likely to expect professional photography."
   ]
  },
  {
   "cell_type": "markdown",
   "metadata": {},
   "source": [
    "**Challenge 1**\n",
    "\n",
    "Since the professional photography service consumes so many operational and financial resources, AirBnB management are unsure if they should continue. AirBnB management have asked the Data Science team to analyse the impact of the professional photography service in order to determine whether or not they should continue funding the service.\n",
    "\n",
    "Provide full details about how you will run experiments to assess the impact of this service on both hosts and guests. How will you ensure that the experiments are valid and not biased?"
   ]
  },
  {
   "cell_type": "markdown",
   "metadata": {},
   "source": [
    "**-----------------------------------------------------------------------------------------**"
   ]
  },
  {
   "cell_type": "markdown",
   "metadata": {},
   "source": [
    "**Step 1: Gather and prepare the data:**\n",
    "\n",
    "In my opinion, there are two ways of going about this: \n",
    "\n",
    "- Chronologically differ between the bookings and prices before and after offering / making use of the professional photo service. \n",
    "- Have a control group of people who are not using the professional photo service and compare them to the hosts that did take the offer of the service. \n",
    "\n",
    "In the second scenario, there is a variety of biases that could occurr, for example:\n",
    "- Some of the hosts not using the service could be proffessional photographers themselves\n",
    "- Some of the hosts not using the service could be targetting people travelling on a budget and therefore do not see the need to take better pictures of a crammed single room\n",
    "- Some of the hosts not using the service might not be active hosts, just rent out occasionally or have the listing up just for fun and by default.\n",
    "\n",
    "These are just some examples for potential biases in the data. If the control group could be filtered, it would also be of benefit to add a control group in the first scenario, when drawing a chronical comparison, to detect and filter general trends that do not occurr do to the change in image quality. A good choice of control group would be the hosts that are on the waiting list for the photo service. "
   ]
  },
  {
   "cell_type": "markdown",
   "metadata": {},
   "source": [
    "**Step 2: Formulate Hypothesis:**\n",
    "\n",
    "In order to stay focussed on the most valuable prospective findings I would formulate Hypothesis:\n",
    "\n",
    "1. Does the number of Bookings on a listing change after the photography service?\n",
    "2. If this information is accessable to AirBnB: Does the number of views on the booking change after the photography service?\n",
    "3. Did the price of the locations with photography service rise? Were the hosts able to charge more for a stay?\n",
    "\n",
    "The tests would have to be balanced by number of listings, location, size of property, type of property (weekend stay, flat for monthly stay, country house, ...) and quality of service measured by ratings.\n"
   ]
  },
  {
   "cell_type": "markdown",
   "metadata": {},
   "source": [
    "**Step 3: Exploring the Dataset:**\n",
    "\n",
    "Exploring the dataset in order to get a feel for the data and reassure myself of the Hypothsis, clean out eventual biases, testing correlations of factors."
   ]
  },
  {
   "cell_type": "markdown",
   "metadata": {},
   "source": [
    "**Step 4: Change over time:**\n",
    "\n",
    "Test if there is a change in bookings, views and price over time.\n",
    "Additionally, ensure the significance of the findings."
   ]
  },
  {
   "cell_type": "markdown",
   "metadata": {},
   "source": [
    "**Step 5: Change in comparison to the control group:**\n",
    "\n",
    "See if there is a significant difference in change or rather parallels in change compared to the control group that could not be related to the photography and adjust accordingly"
   ]
  },
  {
   "cell_type": "markdown",
   "metadata": {},
   "source": [
    "**Step 6: Draw conclusions**\n",
    "\n",
    "Draw conclusions and find potential solutions:\n",
    "- determine the value for AirBnB\n",
    "- determine the optimal pricing for the professional photography service / research alternatives to optimize the outcome and value add for AirBnB and the hosts."
   ]
  },
  {
   "cell_type": "markdown",
   "metadata": {},
   "source": [
    "**Step 7: Visualize and prepare:**\n",
    "\n",
    "Visualize and prepare a presentation including conclusions, findings and proposal solutions for management / responsibles."
   ]
  },
  {
   "cell_type": "markdown",
   "metadata": {},
   "source": [
    "**-----------------------------------------------------------------------------------------**"
   ]
  },
  {
   "cell_type": "markdown",
   "metadata": {},
   "source": [
    "## Part 2 - Performance Analysis"
   ]
  },
  {
   "cell_type": "markdown",
   "metadata": {},
   "source": [
    "**Background**\n",
    "\n",
    "A ride hailing app currently assigns new incoming trips to the closest available vehicle. To compute such distance, the app currently computes haversine distance between the pickup point and each of the available vehicles. We refer to this distance as linear.\n",
    "\n",
    "However, the expected time to reach A from B in a city is not 100% defined by Haversine distance: cities are known to be places where huge amount of transport infrastructure (roads, highways, bridges, tunnels) is deployed to increase capacity and reduce average travel time. Interestingly, this heavy investment in infrastructure also implies that bird distance does not work so well as proxy, so the isochrones for travel time from certain location drastically differ from the perfect circle defined by bird distance, as we can see in this example from CDMX where the blue area represents that it is reachable within a 10 min drive.\n",
    "\n",
    "In addition to this, travel times can be drastically affected by traffic, accidents, road work...So that even if a driver is only 300m away, he might need to drive for 10 min because of road work in a bridge.\n",
    "\n",
    "**Proposal**\n",
    "\n",
    "In order to optimise operations, engineering team has suggested they could query an external real time maps API that not only has roads, but also knows realtime traffic information. We refer to this distance as road distance.\n",
    "\n",
    "In principle this assignment is more efficient and should outperform linear. However, the queries to the maps API have a certain cost (per query) and increase the complexity and reliability of a critical system within the company. So Data Science team has designed an experiment to help engineering to decide.\n",
    "\n",
    "**Experimental design**\n",
    "\n",
    "The designed experiment is very simple. For a period of 5 days, all trips in 3 cities (Bravos, Pentos and Volantis) have been randomly assigned using linear or road distance:\n",
    "\n",
    "Trips whose trip_id starts with digits 0-8 were assigned using road distance.\n",
    "Trips whose trip_id starts with digits 9-f were assigned using linear distance.\n"
   ]
  },
  {
   "cell_type": "markdown",
   "metadata": {},
   "source": [
    "**Challenge**\n",
    "\n",
    "Try to answer the following questions:\n",
    "\n",
    "Should the company move towards road distance? What's the max price it would make sense to pay per query? (make all the assumptions you need, and make them explicit)\n",
    "How would you improve the experimental design? Would you collect any additional data?"
   ]
  },
  {
   "cell_type": "markdown",
   "metadata": {},
   "source": [
    "**-----------------------------------------------------------------------------------------**"
   ]
  },
  {
   "cell_type": "markdown",
   "metadata": {},
   "source": [
    "1. Examine the Data"
   ]
  },
  {
   "cell_type": "code",
   "execution_count": 15,
   "metadata": {},
   "outputs": [
    {
     "data": {
      "text/html": [
       "<div>\n",
       "<style scoped>\n",
       "    .dataframe tbody tr th:only-of-type {\n",
       "        vertical-align: middle;\n",
       "    }\n",
       "\n",
       "    .dataframe tbody tr th {\n",
       "        vertical-align: top;\n",
       "    }\n",
       "\n",
       "    .dataframe thead th {\n",
       "        text-align: right;\n",
       "    }\n",
       "</style>\n",
       "<table border=\"1\" class=\"dataframe\">\n",
       "  <thead>\n",
       "    <tr style=\"text-align: right;\">\n",
       "      <th></th>\n",
       "      <th>duration</th>\n",
       "      <th>distance</th>\n",
       "      <th>started_at</th>\n",
       "      <th>trip_id</th>\n",
       "      <th>vehicle_id</th>\n",
       "      <th>city_id</th>\n",
       "      <th>type</th>\n",
       "    </tr>\n",
       "  </thead>\n",
       "  <tbody>\n",
       "    <tr>\n",
       "      <th>0</th>\n",
       "      <td>857</td>\n",
       "      <td>5384</td>\n",
       "      <td>2016-10-03 13:00:00.286999941</td>\n",
       "      <td>c00cee6963e0dc66e50e271239426914</td>\n",
       "      <td>52d38cf1a3240d5cbdcf730f2d9a47d6</td>\n",
       "      <td>pentos</td>\n",
       "      <td>driving_to_destination</td>\n",
       "    </tr>\n",
       "    <tr>\n",
       "      <th>1</th>\n",
       "      <td>245</td>\n",
       "      <td>1248</td>\n",
       "      <td>2016-10-03 13:00:00.852999926</td>\n",
       "      <td>427425e1f4318ca2461168bdd6e4fcbd</td>\n",
       "      <td>8336b28f24c3e7a1e3d582073b164895</td>\n",
       "      <td>volantis</td>\n",
       "      <td>going_to_pickup</td>\n",
       "    </tr>\n",
       "    <tr>\n",
       "      <th>2</th>\n",
       "      <td>1249</td>\n",
       "      <td>5847</td>\n",
       "      <td>2016-10-03 13:00:01.670000076</td>\n",
       "      <td>757867f6d7c00ef92a65bfaa3895943f</td>\n",
       "      <td>8885c59374cc539163e83f01ed59fd16</td>\n",
       "      <td>pentos</td>\n",
       "      <td>driving_to_destination</td>\n",
       "    </tr>\n",
       "    <tr>\n",
       "      <th>3</th>\n",
       "      <td>471</td>\n",
       "      <td>2585</td>\n",
       "      <td>2016-10-03 13:00:01.841000080</td>\n",
       "      <td>d09d1301d361f7359d0d936557d10f89</td>\n",
       "      <td>81b63920454f70b6755a494e3b28b3a7</td>\n",
       "      <td>bravos</td>\n",
       "      <td>going_to_pickup</td>\n",
       "    </tr>\n",
       "    <tr>\n",
       "      <th>4</th>\n",
       "      <td>182</td>\n",
       "      <td>743</td>\n",
       "      <td>2016-10-03 13:00:01.970000029</td>\n",
       "      <td>00f20a701f0ec2519353ef3ffaf75068</td>\n",
       "      <td>b73030977cbad61c9db55418909864fa</td>\n",
       "      <td>pentos</td>\n",
       "      <td>going_to_pickup</td>\n",
       "    </tr>\n",
       "  </tbody>\n",
       "</table>\n",
       "</div>"
      ],
      "text/plain": [
       "  duration distance                    started_at  \\\n",
       "0      857     5384 2016-10-03 13:00:00.286999941   \n",
       "1      245     1248 2016-10-03 13:00:00.852999926   \n",
       "2     1249     5847 2016-10-03 13:00:01.670000076   \n",
       "3      471     2585 2016-10-03 13:00:01.841000080   \n",
       "4      182      743 2016-10-03 13:00:01.970000029   \n",
       "\n",
       "                            trip_id                        vehicle_id  \\\n",
       "0  c00cee6963e0dc66e50e271239426914  52d38cf1a3240d5cbdcf730f2d9a47d6   \n",
       "1  427425e1f4318ca2461168bdd6e4fcbd  8336b28f24c3e7a1e3d582073b164895   \n",
       "2  757867f6d7c00ef92a65bfaa3895943f  8885c59374cc539163e83f01ed59fd16   \n",
       "3  d09d1301d361f7359d0d936557d10f89  81b63920454f70b6755a494e3b28b3a7   \n",
       "4  00f20a701f0ec2519353ef3ffaf75068  b73030977cbad61c9db55418909864fa   \n",
       "\n",
       "    city_id                    type  \n",
       "0    pentos  driving_to_destination  \n",
       "1  volantis         going_to_pickup  \n",
       "2    pentos  driving_to_destination  \n",
       "3    bravos         going_to_pickup  \n",
       "4    pentos         going_to_pickup  "
      ]
     },
     "execution_count": 15,
     "metadata": {},
     "output_type": "execute_result"
    }
   ],
   "source": [
    "intervals = pd.read_json(r'data/intervals_challenge.json', lines=True) \n",
    "intervals.head()"
   ]
  },
  {
   "cell_type": "code",
   "execution_count": 17,
   "metadata": {},
   "outputs": [
    {
     "data": {
      "text/plain": [
       "duration              object\n",
       "distance              object\n",
       "started_at    datetime64[ns]\n",
       "trip_id               object\n",
       "vehicle_id            object\n",
       "city_id               object\n",
       "type                  object\n",
       "dtype: object"
      ]
     },
     "execution_count": 17,
     "metadata": {},
     "output_type": "execute_result"
    }
   ],
   "source": [
    "intervals.dtypes"
   ]
  },
  {
   "cell_type": "code",
   "execution_count": null,
   "metadata": {},
   "outputs": [],
   "source": []
  },
  {
   "cell_type": "markdown",
   "metadata": {},
   "source": [
    "**Question 1:** Should the Company move towards road distance?"
   ]
  },
  {
   "cell_type": "code",
   "execution_count": null,
   "metadata": {},
   "outputs": [],
   "source": []
  },
  {
   "cell_type": "code",
   "execution_count": null,
   "metadata": {},
   "outputs": [],
   "source": []
  },
  {
   "cell_type": "markdown",
   "metadata": {},
   "source": [
    "**Question 2:** What's the max price it would make sense to pay per query? (make all the assumptions you need, and make them explicit)"
   ]
  },
  {
   "cell_type": "code",
   "execution_count": null,
   "metadata": {},
   "outputs": [],
   "source": []
  },
  {
   "cell_type": "code",
   "execution_count": null,
   "metadata": {},
   "outputs": [],
   "source": []
  },
  {
   "cell_type": "markdown",
   "metadata": {},
   "source": [
    "**Question 3:** How would you improve the experimental design?"
   ]
  },
  {
   "cell_type": "code",
   "execution_count": null,
   "metadata": {},
   "outputs": [],
   "source": []
  },
  {
   "cell_type": "code",
   "execution_count": null,
   "metadata": {},
   "outputs": [],
   "source": []
  },
  {
   "cell_type": "markdown",
   "metadata": {},
   "source": [
    "**Question 4:** Would you collect any additional data?"
   ]
  },
  {
   "cell_type": "code",
   "execution_count": null,
   "metadata": {},
   "outputs": [],
   "source": []
  }
 ],
 "metadata": {
  "kernelspec": {
   "display_name": "Python 3",
   "language": "python",
   "name": "python3"
  },
  "language_info": {
   "codemirror_mode": {
    "name": "ipython",
    "version": 3
   },
   "file_extension": ".py",
   "mimetype": "text/x-python",
   "name": "python",
   "nbconvert_exporter": "python",
   "pygments_lexer": "ipython3",
   "version": "3.7.6"
  }
 },
 "nbformat": 4,
 "nbformat_minor": 2
}
