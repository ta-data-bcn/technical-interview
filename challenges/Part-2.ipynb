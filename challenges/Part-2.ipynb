{
 "cells": [
  {
   "cell_type": "code",
   "execution_count": 1,
   "metadata": {},
   "outputs": [],
   "source": [
    "# Some libraries are imported.\n",
    "import pandas as pd\n",
    "import numpy as np\n",
    "import re\n"
   ]
  },
  {
   "cell_type": "code",
   "execution_count": 2,
   "metadata": {},
   "outputs": [],
   "source": [
    "#Reading the files.\n",
    "file = pd.read_json('..\\data\\intervals_challenge.json', lines = True)\n",
    "df = pd.DataFrame(file)"
   ]
  },
  {
   "cell_type": "code",
   "execution_count": 3,
   "metadata": {},
   "outputs": [
    {
     "data": {
      "text/html": [
       "<div>\n",
       "<style scoped>\n",
       "    .dataframe tbody tr th:only-of-type {\n",
       "        vertical-align: middle;\n",
       "    }\n",
       "\n",
       "    .dataframe tbody tr th {\n",
       "        vertical-align: top;\n",
       "    }\n",
       "\n",
       "    .dataframe thead th {\n",
       "        text-align: right;\n",
       "    }\n",
       "</style>\n",
       "<table border=\"1\" class=\"dataframe\">\n",
       "  <thead>\n",
       "    <tr style=\"text-align: right;\">\n",
       "      <th></th>\n",
       "      <th>duration</th>\n",
       "      <th>distance</th>\n",
       "      <th>started_at</th>\n",
       "      <th>trip_id</th>\n",
       "      <th>vehicle_id</th>\n",
       "      <th>city_id</th>\n",
       "      <th>type</th>\n",
       "    </tr>\n",
       "  </thead>\n",
       "  <tbody>\n",
       "    <tr>\n",
       "      <th>0</th>\n",
       "      <td>857</td>\n",
       "      <td>5384</td>\n",
       "      <td>2016-10-03 13:00:00.286999941</td>\n",
       "      <td>c00cee6963e0dc66e50e271239426914</td>\n",
       "      <td>52d38cf1a3240d5cbdcf730f2d9a47d6</td>\n",
       "      <td>pentos</td>\n",
       "      <td>driving_to_destination</td>\n",
       "    </tr>\n",
       "    <tr>\n",
       "      <th>1</th>\n",
       "      <td>245</td>\n",
       "      <td>1248</td>\n",
       "      <td>2016-10-03 13:00:00.852999926</td>\n",
       "      <td>427425e1f4318ca2461168bdd6e4fcbd</td>\n",
       "      <td>8336b28f24c3e7a1e3d582073b164895</td>\n",
       "      <td>volantis</td>\n",
       "      <td>going_to_pickup</td>\n",
       "    </tr>\n",
       "    <tr>\n",
       "      <th>2</th>\n",
       "      <td>1249</td>\n",
       "      <td>5847</td>\n",
       "      <td>2016-10-03 13:00:01.670000076</td>\n",
       "      <td>757867f6d7c00ef92a65bfaa3895943f</td>\n",
       "      <td>8885c59374cc539163e83f01ed59fd16</td>\n",
       "      <td>pentos</td>\n",
       "      <td>driving_to_destination</td>\n",
       "    </tr>\n",
       "    <tr>\n",
       "      <th>3</th>\n",
       "      <td>471</td>\n",
       "      <td>2585</td>\n",
       "      <td>2016-10-03 13:00:01.841000080</td>\n",
       "      <td>d09d1301d361f7359d0d936557d10f89</td>\n",
       "      <td>81b63920454f70b6755a494e3b28b3a7</td>\n",
       "      <td>bravos</td>\n",
       "      <td>going_to_pickup</td>\n",
       "    </tr>\n",
       "    <tr>\n",
       "      <th>4</th>\n",
       "      <td>182</td>\n",
       "      <td>743</td>\n",
       "      <td>2016-10-03 13:00:01.970000029</td>\n",
       "      <td>00f20a701f0ec2519353ef3ffaf75068</td>\n",
       "      <td>b73030977cbad61c9db55418909864fa</td>\n",
       "      <td>pentos</td>\n",
       "      <td>going_to_pickup</td>\n",
       "    </tr>\n",
       "    <tr>\n",
       "      <th>...</th>\n",
       "      <td>...</td>\n",
       "      <td>...</td>\n",
       "      <td>...</td>\n",
       "      <td>...</td>\n",
       "      <td>...</td>\n",
       "      <td>...</td>\n",
       "      <td>...</td>\n",
       "    </tr>\n",
       "    <tr>\n",
       "      <th>165165</th>\n",
       "      <td>NA</td>\n",
       "      <td>NA</td>\n",
       "      <td>2016-10-04 20:36:10.846999884</td>\n",
       "      <td>d2f81b419daddb90bd701ab9870f47a3</td>\n",
       "      <td>05e4532a59b7bfe65894335d1bc83e4d</td>\n",
       "      <td>volantis</td>\n",
       "      <td>driving_to_destination</td>\n",
       "    </tr>\n",
       "    <tr>\n",
       "      <th>165166</th>\n",
       "      <td>NA</td>\n",
       "      <td>NA</td>\n",
       "      <td>2016-10-04 20:36:12.719000101</td>\n",
       "      <td>73a07d4504036997306e0e3330529294</td>\n",
       "      <td>bed6dd187f23b3e8d956bb0d1ab0524a</td>\n",
       "      <td>volantis</td>\n",
       "      <td>waiting_for_rider</td>\n",
       "    </tr>\n",
       "    <tr>\n",
       "      <th>165167</th>\n",
       "      <td>NA</td>\n",
       "      <td>NA</td>\n",
       "      <td>2016-10-04 20:36:14.763000011</td>\n",
       "      <td>d98c047d565bd488b17e08594965c479</td>\n",
       "      <td>31cd2f19d27c0c0c0ca386de72866a81</td>\n",
       "      <td>bravos</td>\n",
       "      <td>driving_to_destination</td>\n",
       "    </tr>\n",
       "    <tr>\n",
       "      <th>165168</th>\n",
       "      <td>NA</td>\n",
       "      <td>NA</td>\n",
       "      <td>2016-10-04 20:36:15.957999945</td>\n",
       "      <td>ce9a7ae5f76667c9f92b149a1b345a2d</td>\n",
       "      <td>4a555013634506246eed5d801ffbe526</td>\n",
       "      <td>volantis</td>\n",
       "      <td>driving_to_destination</td>\n",
       "    </tr>\n",
       "    <tr>\n",
       "      <th>165169</th>\n",
       "      <td>NA</td>\n",
       "      <td>NA</td>\n",
       "      <td>2016-10-04 20:36:20.473999977</td>\n",
       "      <td>469dff3624a9a37bb986157750fb73e8</td>\n",
       "      <td>27b7111eb7046e253c9896eee617b02e</td>\n",
       "      <td>volantis</td>\n",
       "      <td>going_to_pickup</td>\n",
       "    </tr>\n",
       "  </tbody>\n",
       "</table>\n",
       "<p>165170 rows × 7 columns</p>\n",
       "</div>"
      ],
      "text/plain": [
       "       duration distance                    started_at  \\\n",
       "0           857     5384 2016-10-03 13:00:00.286999941   \n",
       "1           245     1248 2016-10-03 13:00:00.852999926   \n",
       "2          1249     5847 2016-10-03 13:00:01.670000076   \n",
       "3           471     2585 2016-10-03 13:00:01.841000080   \n",
       "4           182      743 2016-10-03 13:00:01.970000029   \n",
       "...         ...      ...                           ...   \n",
       "165165       NA       NA 2016-10-04 20:36:10.846999884   \n",
       "165166       NA       NA 2016-10-04 20:36:12.719000101   \n",
       "165167       NA       NA 2016-10-04 20:36:14.763000011   \n",
       "165168       NA       NA 2016-10-04 20:36:15.957999945   \n",
       "165169       NA       NA 2016-10-04 20:36:20.473999977   \n",
       "\n",
       "                                 trip_id                        vehicle_id  \\\n",
       "0       c00cee6963e0dc66e50e271239426914  52d38cf1a3240d5cbdcf730f2d9a47d6   \n",
       "1       427425e1f4318ca2461168bdd6e4fcbd  8336b28f24c3e7a1e3d582073b164895   \n",
       "2       757867f6d7c00ef92a65bfaa3895943f  8885c59374cc539163e83f01ed59fd16   \n",
       "3       d09d1301d361f7359d0d936557d10f89  81b63920454f70b6755a494e3b28b3a7   \n",
       "4       00f20a701f0ec2519353ef3ffaf75068  b73030977cbad61c9db55418909864fa   \n",
       "...                                  ...                               ...   \n",
       "165165  d2f81b419daddb90bd701ab9870f47a3  05e4532a59b7bfe65894335d1bc83e4d   \n",
       "165166  73a07d4504036997306e0e3330529294  bed6dd187f23b3e8d956bb0d1ab0524a   \n",
       "165167  d98c047d565bd488b17e08594965c479  31cd2f19d27c0c0c0ca386de72866a81   \n",
       "165168  ce9a7ae5f76667c9f92b149a1b345a2d  4a555013634506246eed5d801ffbe526   \n",
       "165169  469dff3624a9a37bb986157750fb73e8  27b7111eb7046e253c9896eee617b02e   \n",
       "\n",
       "         city_id                    type  \n",
       "0         pentos  driving_to_destination  \n",
       "1       volantis         going_to_pickup  \n",
       "2         pentos  driving_to_destination  \n",
       "3         bravos         going_to_pickup  \n",
       "4         pentos         going_to_pickup  \n",
       "...          ...                     ...  \n",
       "165165  volantis  driving_to_destination  \n",
       "165166  volantis       waiting_for_rider  \n",
       "165167    bravos  driving_to_destination  \n",
       "165168  volantis  driving_to_destination  \n",
       "165169  volantis         going_to_pickup  \n",
       "\n",
       "[165170 rows x 7 columns]"
      ]
     },
     "execution_count": 3,
     "metadata": {},
     "output_type": "execute_result"
    }
   ],
   "source": [
    "#The dataframe is shown.\n",
    "df"
   ]
  },
  {
   "cell_type": "code",
   "execution_count": 4,
   "metadata": {},
   "outputs": [
    {
     "data": {
      "text/plain": [
       "duration      0\n",
       "distance      0\n",
       "started_at    0\n",
       "trip_id       0\n",
       "vehicle_id    0\n",
       "city_id       0\n",
       "type          0\n",
       "dtype: int64"
      ]
     },
     "execution_count": 4,
     "metadata": {},
     "output_type": "execute_result"
    }
   ],
   "source": [
    "df.isna().sum()"
   ]
  },
  {
   "cell_type": "code",
   "execution_count": 5,
   "metadata": {},
   "outputs": [
    {
     "data": {
      "text/plain": [
       "Index(['duration', 'distance', 'started_at', 'trip_id', 'vehicle_id',\n",
       "       'city_id', 'type'],\n",
       "      dtype='object')"
      ]
     },
     "execution_count": 5,
     "metadata": {},
     "output_type": "execute_result"
    }
   ],
   "source": [
    "df.columns"
   ]
  },
  {
   "cell_type": "code",
   "execution_count": 6,
   "metadata": {},
   "outputs": [
    {
     "data": {
      "text/plain": [
       "duration              object\n",
       "distance              object\n",
       "started_at    datetime64[ns]\n",
       "trip_id               object\n",
       "vehicle_id            object\n",
       "city_id               object\n",
       "type                  object\n",
       "dtype: object"
      ]
     },
     "execution_count": 6,
     "metadata": {},
     "output_type": "execute_result"
    }
   ],
   "source": [
    "df.dtypes"
   ]
  },
  {
   "cell_type": "code",
   "execution_count": 7,
   "metadata": {},
   "outputs": [],
   "source": [
    "df['duration'] = pd.to_numeric(df.duration, errors = 'coerce')\n",
    "df['distance'] = pd.to_numeric(df.distance, errors = 'coerce')"
   ]
  },
  {
   "cell_type": "code",
   "execution_count": 8,
   "metadata": {},
   "outputs": [
    {
     "data": {
      "text/plain": [
       "duration             float64\n",
       "distance             float64\n",
       "started_at    datetime64[ns]\n",
       "trip_id               object\n",
       "vehicle_id            object\n",
       "city_id               object\n",
       "type                  object\n",
       "dtype: object"
      ]
     },
     "execution_count": 8,
     "metadata": {},
     "output_type": "execute_result"
    }
   ],
   "source": [
    "df.dtypes"
   ]
  },
  {
   "cell_type": "code",
   "execution_count": 9,
   "metadata": {},
   "outputs": [
    {
     "data": {
      "text/plain": [
       "duration      1157\n",
       "distance      1157\n",
       "started_at       0\n",
       "trip_id          0\n",
       "vehicle_id       0\n",
       "city_id          0\n",
       "type             0\n",
       "dtype: int64"
      ]
     },
     "execution_count": 9,
     "metadata": {},
     "output_type": "execute_result"
    }
   ],
   "source": [
    "df.isna().sum()"
   ]
  },
  {
   "cell_type": "code",
   "execution_count": 10,
   "metadata": {},
   "outputs": [],
   "source": [
    "df = df.dropna()"
   ]
  },
  {
   "cell_type": "code",
   "execution_count": 11,
   "metadata": {},
   "outputs": [
    {
     "name": "stderr",
     "output_type": "stream",
     "text": [
      "<ipython-input-11-691c2b02f80f>:2: SettingWithCopyWarning: \n",
      "A value is trying to be set on a copy of a slice from a DataFrame.\n",
      "Try using .loc[row_indexer,col_indexer] = value instead\n",
      "\n",
      "See the caveats in the documentation: https://pandas.pydata.org/pandas-docs/stable/user_guide/indexing.html#returning-a-view-versus-a-copy\n",
      "  df['distance_type'] = np.where(df.trip_id.str.startswith(tuple(str(i) for i in range(9))), 'road', 'linear')\n"
     ]
    }
   ],
   "source": [
    "#Lets create a new column\n",
    "df['distance_type'] = np.where(df.trip_id.str.startswith(tuple(str(i) for i in range(9))), 'road', 'linear')"
   ]
  },
  {
   "cell_type": "code",
   "execution_count": 12,
   "metadata": {},
   "outputs": [
    {
     "data": {
      "text/plain": [
       "road      93004\n",
       "linear    71009\n",
       "Name: distance_type, dtype: int64"
      ]
     },
     "execution_count": 12,
     "metadata": {},
     "output_type": "execute_result"
    }
   ],
   "source": [
    "df.distance_type.value_counts()"
   ]
  },
  {
   "cell_type": "code",
   "execution_count": 13,
   "metadata": {},
   "outputs": [
    {
     "data": {
      "text/html": [
       "<div>\n",
       "<style scoped>\n",
       "    .dataframe tbody tr th:only-of-type {\n",
       "        vertical-align: middle;\n",
       "    }\n",
       "\n",
       "    .dataframe tbody tr th {\n",
       "        vertical-align: top;\n",
       "    }\n",
       "\n",
       "    .dataframe thead tr th {\n",
       "        text-align: left;\n",
       "    }\n",
       "\n",
       "    .dataframe thead tr:last-of-type th {\n",
       "        text-align: right;\n",
       "    }\n",
       "</style>\n",
       "<table border=\"1\" class=\"dataframe\">\n",
       "  <thead>\n",
       "    <tr>\n",
       "      <th></th>\n",
       "      <th colspan=\"8\" halign=\"left\">duration</th>\n",
       "      <th colspan=\"8\" halign=\"left\">distance</th>\n",
       "    </tr>\n",
       "    <tr>\n",
       "      <th></th>\n",
       "      <th>count</th>\n",
       "      <th>mean</th>\n",
       "      <th>std</th>\n",
       "      <th>min</th>\n",
       "      <th>25%</th>\n",
       "      <th>50%</th>\n",
       "      <th>75%</th>\n",
       "      <th>max</th>\n",
       "      <th>count</th>\n",
       "      <th>mean</th>\n",
       "      <th>std</th>\n",
       "      <th>min</th>\n",
       "      <th>25%</th>\n",
       "      <th>50%</th>\n",
       "      <th>75%</th>\n",
       "      <th>max</th>\n",
       "    </tr>\n",
       "    <tr>\n",
       "      <th>distance_type</th>\n",
       "      <th></th>\n",
       "      <th></th>\n",
       "      <th></th>\n",
       "      <th></th>\n",
       "      <th></th>\n",
       "      <th></th>\n",
       "      <th></th>\n",
       "      <th></th>\n",
       "      <th></th>\n",
       "      <th></th>\n",
       "      <th></th>\n",
       "      <th></th>\n",
       "      <th></th>\n",
       "      <th></th>\n",
       "      <th></th>\n",
       "      <th></th>\n",
       "    </tr>\n",
       "  </thead>\n",
       "  <tbody>\n",
       "    <tr>\n",
       "      <th>linear</th>\n",
       "      <td>71009.0</td>\n",
       "      <td>432.743427</td>\n",
       "      <td>547.788101</td>\n",
       "      <td>0.0</td>\n",
       "      <td>55.0</td>\n",
       "      <td>246.0</td>\n",
       "      <td>612.0</td>\n",
       "      <td>19134.0</td>\n",
       "      <td>71009.0</td>\n",
       "      <td>1927.770085</td>\n",
       "      <td>6557.560494</td>\n",
       "      <td>0.0</td>\n",
       "      <td>19.0</td>\n",
       "      <td>607.0</td>\n",
       "      <td>2327.0</td>\n",
       "      <td>892112.0</td>\n",
       "    </tr>\n",
       "    <tr>\n",
       "      <th>road</th>\n",
       "      <td>93004.0</td>\n",
       "      <td>433.124532</td>\n",
       "      <td>567.584285</td>\n",
       "      <td>0.0</td>\n",
       "      <td>54.0</td>\n",
       "      <td>245.0</td>\n",
       "      <td>620.0</td>\n",
       "      <td>48654.0</td>\n",
       "      <td>93004.0</td>\n",
       "      <td>1956.681670</td>\n",
       "      <td>7705.527123</td>\n",
       "      <td>0.0</td>\n",
       "      <td>19.0</td>\n",
       "      <td>609.0</td>\n",
       "      <td>2365.0</td>\n",
       "      <td>1218089.0</td>\n",
       "    </tr>\n",
       "  </tbody>\n",
       "</table>\n",
       "</div>"
      ],
      "text/plain": [
       "              duration                                                   \\\n",
       "                 count        mean         std  min   25%    50%    75%   \n",
       "distance_type                                                             \n",
       "linear         71009.0  432.743427  547.788101  0.0  55.0  246.0  612.0   \n",
       "road           93004.0  433.124532  567.584285  0.0  54.0  245.0  620.0   \n",
       "\n",
       "                       distance                                              \\\n",
       "                   max    count         mean          std  min   25%    50%   \n",
       "distance_type                                                                 \n",
       "linear         19134.0  71009.0  1927.770085  6557.560494  0.0  19.0  607.0   \n",
       "road           48654.0  93004.0  1956.681670  7705.527123  0.0  19.0  609.0   \n",
       "\n",
       "                                  \n",
       "                  75%        max  \n",
       "distance_type                     \n",
       "linear         2327.0   892112.0  \n",
       "road           2365.0  1218089.0  "
      ]
     },
     "execution_count": 13,
     "metadata": {},
     "output_type": "execute_result"
    }
   ],
   "source": [
    "df.groupby(['distance_type']).describe()"
   ]
  },
  {
   "cell_type": "code",
   "execution_count": 26,
   "metadata": {},
   "outputs": [
    {
     "name": "stdout",
     "output_type": "stream",
     "text": [
      "Duration: 0.08773550055412027 %\n",
      "Distance: 1.4775027086697867 %\n"
     ]
    }
   ],
   "source": [
    "print('Duration:', (1-432.74/433.12)*100,'%')\n",
    "print('Distance:',(1-1927.77/1956.68)*100,'%')"
   ]
  },
  {
   "cell_type": "markdown",
   "metadata": {},
   "source": [
    "At this first approach, it is difficult to decide, since there is not that much of a big difference. However, I see a difference in \"Distance\" (even when in very low). \n",
    "\n",
    "I'll analyze each city separately."
   ]
  },
  {
   "cell_type": "code",
   "execution_count": 15,
   "metadata": {},
   "outputs": [
    {
     "data": {
      "text/plain": [
       "array(['pentos', 'volantis', 'bravos'], dtype=object)"
      ]
     },
     "execution_count": 15,
     "metadata": {},
     "output_type": "execute_result"
    }
   ],
   "source": [
    "df.city_id.unique()"
   ]
  },
  {
   "cell_type": "code",
   "execution_count": 41,
   "metadata": {},
   "outputs": [],
   "source": [
    "def relations(df):\n",
    "    x = df.groupby(['distance_type']).duration.mean().min()\n",
    "    y = df.groupby(['distance_type']).duration.mean().max()\n",
    "\n",
    "    i = df.groupby(['distance_type']).distance.mean().min()\n",
    "    j = df.groupby(['distance_type']).distance.mean().max()\n",
    "    \n",
    "    a = print('Duration:', (1-x/y)*100,'%')\n",
    "    b = print('Distance:',(1-i/j)*100,'%')\n",
    "    \n",
    "    return"
   ]
  },
  {
   "cell_type": "code",
   "execution_count": 45,
   "metadata": {
    "scrolled": true
   },
   "outputs": [
    {
     "data": {
      "text/html": [
       "<div>\n",
       "<style scoped>\n",
       "    .dataframe tbody tr th:only-of-type {\n",
       "        vertical-align: middle;\n",
       "    }\n",
       "\n",
       "    .dataframe tbody tr th {\n",
       "        vertical-align: top;\n",
       "    }\n",
       "\n",
       "    .dataframe thead tr th {\n",
       "        text-align: left;\n",
       "    }\n",
       "\n",
       "    .dataframe thead tr:last-of-type th {\n",
       "        text-align: right;\n",
       "    }\n",
       "</style>\n",
       "<table border=\"1\" class=\"dataframe\">\n",
       "  <thead>\n",
       "    <tr>\n",
       "      <th></th>\n",
       "      <th colspan=\"8\" halign=\"left\">duration</th>\n",
       "      <th colspan=\"8\" halign=\"left\">distance</th>\n",
       "    </tr>\n",
       "    <tr>\n",
       "      <th></th>\n",
       "      <th>count</th>\n",
       "      <th>mean</th>\n",
       "      <th>std</th>\n",
       "      <th>min</th>\n",
       "      <th>25%</th>\n",
       "      <th>50%</th>\n",
       "      <th>75%</th>\n",
       "      <th>max</th>\n",
       "      <th>count</th>\n",
       "      <th>mean</th>\n",
       "      <th>std</th>\n",
       "      <th>min</th>\n",
       "      <th>25%</th>\n",
       "      <th>50%</th>\n",
       "      <th>75%</th>\n",
       "      <th>max</th>\n",
       "    </tr>\n",
       "    <tr>\n",
       "      <th>distance_type</th>\n",
       "      <th></th>\n",
       "      <th></th>\n",
       "      <th></th>\n",
       "      <th></th>\n",
       "      <th></th>\n",
       "      <th></th>\n",
       "      <th></th>\n",
       "      <th></th>\n",
       "      <th></th>\n",
       "      <th></th>\n",
       "      <th></th>\n",
       "      <th></th>\n",
       "      <th></th>\n",
       "      <th></th>\n",
       "      <th></th>\n",
       "      <th></th>\n",
       "    </tr>\n",
       "  </thead>\n",
       "  <tbody>\n",
       "    <tr>\n",
       "      <th>linear</th>\n",
       "      <td>49121.0</td>\n",
       "      <td>388.195232</td>\n",
       "      <td>487.042042</td>\n",
       "      <td>0.0</td>\n",
       "      <td>47.0</td>\n",
       "      <td>222.0</td>\n",
       "      <td>549.0</td>\n",
       "      <td>19134.0</td>\n",
       "      <td>49121.0</td>\n",
       "      <td>1663.108650</td>\n",
       "      <td>3247.896754</td>\n",
       "      <td>0.0</td>\n",
       "      <td>18.0</td>\n",
       "      <td>552.0</td>\n",
       "      <td>2081.0</td>\n",
       "      <td>97334.0</td>\n",
       "    </tr>\n",
       "    <tr>\n",
       "      <th>road</th>\n",
       "      <td>63696.0</td>\n",
       "      <td>387.698191</td>\n",
       "      <td>522.147403</td>\n",
       "      <td>0.0</td>\n",
       "      <td>46.0</td>\n",
       "      <td>221.0</td>\n",
       "      <td>555.0</td>\n",
       "      <td>48654.0</td>\n",
       "      <td>63696.0</td>\n",
       "      <td>1666.255699</td>\n",
       "      <td>3523.958232</td>\n",
       "      <td>0.0</td>\n",
       "      <td>19.0</td>\n",
       "      <td>560.0</td>\n",
       "      <td>2107.0</td>\n",
       "      <td>374951.0</td>\n",
       "    </tr>\n",
       "  </tbody>\n",
       "</table>\n",
       "</div>"
      ],
      "text/plain": [
       "              duration                                                   \\\n",
       "                 count        mean         std  min   25%    50%    75%   \n",
       "distance_type                                                             \n",
       "linear         49121.0  388.195232  487.042042  0.0  47.0  222.0  549.0   \n",
       "road           63696.0  387.698191  522.147403  0.0  46.0  221.0  555.0   \n",
       "\n",
       "                       distance                                              \\\n",
       "                   max    count         mean          std  min   25%    50%   \n",
       "distance_type                                                                 \n",
       "linear         19134.0  49121.0  1663.108650  3247.896754  0.0  18.0  552.0   \n",
       "road           48654.0  63696.0  1666.255699  3523.958232  0.0  19.0  560.0   \n",
       "\n",
       "                                 \n",
       "                  75%       max  \n",
       "distance_type                    \n",
       "linear         2081.0   97334.0  \n",
       "road           2107.0  374951.0  "
      ]
     },
     "execution_count": 45,
     "metadata": {},
     "output_type": "execute_result"
    }
   ],
   "source": [
    "df_pentos = df.loc[df.city_id == 'pentos']\n",
    "df_pentos.groupby(['distance_type']).describe()"
   ]
  },
  {
   "cell_type": "code",
   "execution_count": 43,
   "metadata": {},
   "outputs": [
    {
     "name": "stdout",
     "output_type": "stream",
     "text": [
      "Duration: 0.1280388658480236 %\n",
      "Distance: 0.18886950416927561 %\n"
     ]
    }
   ],
   "source": [
    "relations(df_pentos)"
   ]
  },
  {
   "cell_type": "code",
   "execution_count": 17,
   "metadata": {
    "scrolled": true
   },
   "outputs": [
    {
     "data": {
      "text/html": [
       "<div>\n",
       "<style scoped>\n",
       "    .dataframe tbody tr th:only-of-type {\n",
       "        vertical-align: middle;\n",
       "    }\n",
       "\n",
       "    .dataframe tbody tr th {\n",
       "        vertical-align: top;\n",
       "    }\n",
       "\n",
       "    .dataframe thead tr th {\n",
       "        text-align: left;\n",
       "    }\n",
       "\n",
       "    .dataframe thead tr:last-of-type th {\n",
       "        text-align: right;\n",
       "    }\n",
       "</style>\n",
       "<table border=\"1\" class=\"dataframe\">\n",
       "  <thead>\n",
       "    <tr>\n",
       "      <th></th>\n",
       "      <th colspan=\"8\" halign=\"left\">duration</th>\n",
       "      <th colspan=\"8\" halign=\"left\">distance</th>\n",
       "    </tr>\n",
       "    <tr>\n",
       "      <th></th>\n",
       "      <th>count</th>\n",
       "      <th>mean</th>\n",
       "      <th>std</th>\n",
       "      <th>min</th>\n",
       "      <th>25%</th>\n",
       "      <th>50%</th>\n",
       "      <th>75%</th>\n",
       "      <th>max</th>\n",
       "      <th>count</th>\n",
       "      <th>mean</th>\n",
       "      <th>std</th>\n",
       "      <th>min</th>\n",
       "      <th>25%</th>\n",
       "      <th>50%</th>\n",
       "      <th>75%</th>\n",
       "      <th>max</th>\n",
       "    </tr>\n",
       "    <tr>\n",
       "      <th>distance_type</th>\n",
       "      <th></th>\n",
       "      <th></th>\n",
       "      <th></th>\n",
       "      <th></th>\n",
       "      <th></th>\n",
       "      <th></th>\n",
       "      <th></th>\n",
       "      <th></th>\n",
       "      <th></th>\n",
       "      <th></th>\n",
       "      <th></th>\n",
       "      <th></th>\n",
       "      <th></th>\n",
       "      <th></th>\n",
       "      <th></th>\n",
       "      <th></th>\n",
       "    </tr>\n",
       "  </thead>\n",
       "  <tbody>\n",
       "    <tr>\n",
       "      <th>linear</th>\n",
       "      <td>15068.0</td>\n",
       "      <td>507.000465</td>\n",
       "      <td>673.063314</td>\n",
       "      <td>0.0</td>\n",
       "      <td>80.0</td>\n",
       "      <td>280.0</td>\n",
       "      <td>688.25</td>\n",
       "      <td>17903.0</td>\n",
       "      <td>15068.0</td>\n",
       "      <td>2208.099814</td>\n",
       "      <td>4481.021592</td>\n",
       "      <td>0.0</td>\n",
       "      <td>20.0</td>\n",
       "      <td>620.0</td>\n",
       "      <td>2644.0</td>\n",
       "      <td>102700.0</td>\n",
       "    </tr>\n",
       "    <tr>\n",
       "      <th>road</th>\n",
       "      <td>20323.0</td>\n",
       "      <td>503.039463</td>\n",
       "      <td>646.025791</td>\n",
       "      <td>0.0</td>\n",
       "      <td>77.0</td>\n",
       "      <td>271.0</td>\n",
       "      <td>694.00</td>\n",
       "      <td>14819.0</td>\n",
       "      <td>20323.0</td>\n",
       "      <td>2258.791566</td>\n",
       "      <td>4538.706041</td>\n",
       "      <td>0.0</td>\n",
       "      <td>19.0</td>\n",
       "      <td>599.0</td>\n",
       "      <td>2691.0</td>\n",
       "      <td>87818.0</td>\n",
       "    </tr>\n",
       "  </tbody>\n",
       "</table>\n",
       "</div>"
      ],
      "text/plain": [
       "              duration                                                    \\\n",
       "                 count        mean         std  min   25%    50%     75%   \n",
       "distance_type                                                              \n",
       "linear         15068.0  507.000465  673.063314  0.0  80.0  280.0  688.25   \n",
       "road           20323.0  503.039463  646.025791  0.0  77.0  271.0  694.00   \n",
       "\n",
       "                       distance                                              \\\n",
       "                   max    count         mean          std  min   25%    50%   \n",
       "distance_type                                                                 \n",
       "linear         17903.0  15068.0  2208.099814  4481.021592  0.0  20.0  620.0   \n",
       "road           14819.0  20323.0  2258.791566  4538.706041  0.0  19.0  599.0   \n",
       "\n",
       "                                 \n",
       "                  75%       max  \n",
       "distance_type                    \n",
       "linear         2644.0  102700.0  \n",
       "road           2691.0   87818.0  "
      ]
     },
     "execution_count": 17,
     "metadata": {},
     "output_type": "execute_result"
    }
   ],
   "source": [
    "df_volantis = df.loc[df.city_id == 'volantis']\n",
    "df_volantis.groupby(['distance_type']).describe() "
   ]
  },
  {
   "cell_type": "code",
   "execution_count": 46,
   "metadata": {},
   "outputs": [
    {
     "name": "stdout",
     "output_type": "stream",
     "text": [
      "Duration: 0.7812619829326017 %\n",
      "Distance: 2.244197861743824 %\n"
     ]
    }
   ],
   "source": [
    "relations(df_volantis)"
   ]
  },
  {
   "cell_type": "code",
   "execution_count": 18,
   "metadata": {},
   "outputs": [
    {
     "data": {
      "text/html": [
       "<div>\n",
       "<style scoped>\n",
       "    .dataframe tbody tr th:only-of-type {\n",
       "        vertical-align: middle;\n",
       "    }\n",
       "\n",
       "    .dataframe tbody tr th {\n",
       "        vertical-align: top;\n",
       "    }\n",
       "\n",
       "    .dataframe thead tr th {\n",
       "        text-align: left;\n",
       "    }\n",
       "\n",
       "    .dataframe thead tr:last-of-type th {\n",
       "        text-align: right;\n",
       "    }\n",
       "</style>\n",
       "<table border=\"1\" class=\"dataframe\">\n",
       "  <thead>\n",
       "    <tr>\n",
       "      <th></th>\n",
       "      <th colspan=\"8\" halign=\"left\">duration</th>\n",
       "      <th colspan=\"8\" halign=\"left\">distance</th>\n",
       "    </tr>\n",
       "    <tr>\n",
       "      <th></th>\n",
       "      <th>count</th>\n",
       "      <th>mean</th>\n",
       "      <th>std</th>\n",
       "      <th>min</th>\n",
       "      <th>25%</th>\n",
       "      <th>50%</th>\n",
       "      <th>75%</th>\n",
       "      <th>max</th>\n",
       "      <th>count</th>\n",
       "      <th>mean</th>\n",
       "      <th>std</th>\n",
       "      <th>min</th>\n",
       "      <th>25%</th>\n",
       "      <th>50%</th>\n",
       "      <th>75%</th>\n",
       "      <th>max</th>\n",
       "    </tr>\n",
       "    <tr>\n",
       "      <th>distance_type</th>\n",
       "      <th></th>\n",
       "      <th></th>\n",
       "      <th></th>\n",
       "      <th></th>\n",
       "      <th></th>\n",
       "      <th></th>\n",
       "      <th></th>\n",
       "      <th></th>\n",
       "      <th></th>\n",
       "      <th></th>\n",
       "      <th></th>\n",
       "      <th></th>\n",
       "      <th></th>\n",
       "      <th></th>\n",
       "      <th></th>\n",
       "      <th></th>\n",
       "    </tr>\n",
       "  </thead>\n",
       "  <tbody>\n",
       "    <tr>\n",
       "      <th>linear</th>\n",
       "      <td>6820.0</td>\n",
       "      <td>589.539150</td>\n",
       "      <td>603.303012</td>\n",
       "      <td>0.0</td>\n",
       "      <td>79.0</td>\n",
       "      <td>462.0</td>\n",
       "      <td>890.0</td>\n",
       "      <td>7215.0</td>\n",
       "      <td>6820.0</td>\n",
       "      <td>3214.636070</td>\n",
       "      <td>18030.466360</td>\n",
       "      <td>0.0</td>\n",
       "      <td>23.0</td>\n",
       "      <td>1373.0</td>\n",
       "      <td>3407.25</td>\n",
       "      <td>892112.0</td>\n",
       "    </tr>\n",
       "    <tr>\n",
       "      <th>road</th>\n",
       "      <td>8985.0</td>\n",
       "      <td>597.019366</td>\n",
       "      <td>636.693272</td>\n",
       "      <td>0.0</td>\n",
       "      <td>73.0</td>\n",
       "      <td>444.0</td>\n",
       "      <td>893.0</td>\n",
       "      <td>9842.0</td>\n",
       "      <td>8985.0</td>\n",
       "      <td>3332.217919</td>\n",
       "      <td>21847.612032</td>\n",
       "      <td>0.0</td>\n",
       "      <td>21.0</td>\n",
       "      <td>1384.0</td>\n",
       "      <td>3473.00</td>\n",
       "      <td>1218089.0</td>\n",
       "    </tr>\n",
       "  </tbody>\n",
       "</table>\n",
       "</div>"
      ],
      "text/plain": [
       "              duration                                                   \\\n",
       "                 count        mean         std  min   25%    50%    75%   \n",
       "distance_type                                                             \n",
       "linear          6820.0  589.539150  603.303012  0.0  79.0  462.0  890.0   \n",
       "road            8985.0  597.019366  636.693272  0.0  73.0  444.0  893.0   \n",
       "\n",
       "                      distance                                                \\\n",
       "                  max    count         mean           std  min   25%     50%   \n",
       "distance_type                                                                  \n",
       "linear         7215.0   6820.0  3214.636070  18030.466360  0.0  23.0  1373.0   \n",
       "road           9842.0   8985.0  3332.217919  21847.612032  0.0  21.0  1384.0   \n",
       "\n",
       "                                   \n",
       "                   75%        max  \n",
       "distance_type                      \n",
       "linear         3407.25   892112.0  \n",
       "road           3473.00  1218089.0  "
      ]
     },
     "execution_count": 18,
     "metadata": {},
     "output_type": "execute_result"
    }
   ],
   "source": [
    "df_bravos = df.loc[df.city_id == 'bravos']\n",
    "df_bravos.groupby(['distance_type']).describe() "
   ]
  },
  {
   "cell_type": "code",
   "execution_count": 47,
   "metadata": {},
   "outputs": [
    {
     "name": "stdout",
     "output_type": "stream",
     "text": [
      "Duration: 1.2529268697334395 %\n",
      "Distance: 3.528636218853043 %\n"
     ]
    }
   ],
   "source": [
    "relations(df_bravos)"
   ]
  },
  {
   "cell_type": "markdown",
   "metadata": {},
   "source": [
    "## Conclusion"
   ]
  },
  {
   "cell_type": "markdown",
   "metadata": {},
   "source": [
    "Something we see is that the lower quantity of data, the higher the difference between Linear/Road values.\n",
    "To get to a further conclusion I would need more data. Also the price of the service, both mine and the GPS query, would be require to get the point where we are achieving the quantity."
   ]
  },
  {
   "cell_type": "code",
   "execution_count": 51,
   "metadata": {},
   "outputs": [
    {
     "data": {
      "text/plain": [
       "Timestamp('2016-10-03 13:18:39.634999990')"
      ]
     },
     "execution_count": 51,
     "metadata": {},
     "output_type": "execute_result"
    }
   ],
   "source": [
    "df.started_at[2016]\n",
    "\n"
   ]
  },
  {
   "cell_type": "code",
   "execution_count": null,
   "metadata": {},
   "outputs": [],
   "source": []
  }
 ],
 "metadata": {
  "kernelspec": {
   "display_name": "Python 3",
   "language": "python",
   "name": "python3"
  },
  "language_info": {
   "codemirror_mode": {
    "name": "ipython",
    "version": 3
   },
   "file_extension": ".py",
   "mimetype": "text/x-python",
   "name": "python",
   "nbconvert_exporter": "python",
   "pygments_lexer": "ipython3",
   "version": "3.8.2"
  }
 },
 "nbformat": 4,
 "nbformat_minor": 4
}
