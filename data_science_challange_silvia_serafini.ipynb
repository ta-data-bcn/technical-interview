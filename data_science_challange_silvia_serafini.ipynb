{
 "cells": [
  {
   "cell_type": "markdown",
   "metadata": {},
   "source": [
    "# Part 1 Experiment design"
   ]
  },
  {
   "cell_type": "markdown",
   "metadata": {},
   "source": [
    "AirBnB management have asked the Data Science team to analyse the impact of the professional photography service in order to determine whether or not they should continue funding the service.\n",
    "Provide full details about how you will run experiments to assess the impact of this service on both hosts and guests. How will you ensure that the experiments are valid and not biased?"
   ]
  },
  {
   "cell_type": "markdown",
   "metadata": {},
   "source": [
    "## 1.1 How I would run the experiment"
   ]
  },
  {
   "cell_type": "markdown",
   "metadata": {},
   "source": [
    "I would run several A/B tests using t-test and p-value evaluation. https://en.wikipedia.org/wiki/A/B_testing\n",
    "  \n",
    "I would consider a sample of size 100 properties of witch 50 would be my test (ads with professional pictures) and 50 my control samples (ads with host phone pictures). I would divide by 2 the time I have to run the experiment, and I would swap the test and control samples.\n",
    "\n",
    "In the exercise text is not specified the time and resources I have to run the experiments. Therefore I will mark with * the high priority KPI. The other metrics are optional.\n",
    "\n",
    "***variables and marketing KPI to evaluate the `host` and `guest` impact:***    \n",
    "  \n",
    "    1.Booking conversion rate *  [host, guest]  \n",
    "    2.Occupancy rate * [host]  \n",
    "    3.Web traffic or Click Through Rate (CTR) * [host]  \n",
    "    4.returning visitors [host, guest]  \n",
    "    5.unique visitors [host, guest]  \n",
    "    6.host avg reveniew [host]  \n",
    "    7.number of messages sent to host [host, guest]  \n",
    "    8.Average Time on Page[host, guest]  \n",
    "    9.sentiment analysis of the reviews [host, guest]: I expect that a guest is more satisfied if he has selected the booking represented by professional and more realistic pictures.    \n",
    "\n",
    "***Performance data by time***\n",
    "I would propose 90 days time period.  \n",
    "\n",
    "***Performance data by region****\n",
    "I would run different experiments with Samples coming from different kind of locations: different states, urban and country areas.   \n",
    "\n",
    "***Performance data by type of booking****\n",
    "I would run different experiments considering only luxury or cheap booking. I expect that a guest is more willing to spend money on a luxury property if it is represented by professional pictures.  \n",
    "\n",
    "\n",
    "sources:https://www.airbnb.co.uk/help/article/2500/how-do-i-track-my-hosting-performance?_set_bev_on_new_domain=1586578155_NDQwZmIxYjMyNjdj\n",
    "https://www.klipfolio.com/resources/kpi-examples/digital-marketing\n",
    "\n",
    "(*)I would run these experiments only if I had enough time and resources"
   ]
  },
  {
   "cell_type": "markdown",
   "metadata": {},
   "source": [
    "## 1.2 How I would ensure that the experiments are valid and not biased"
   ]
  },
  {
   "cell_type": "markdown",
   "metadata": {},
   "source": [
    "bias is the fact that information is not correct because of the method used in collecting or presenting it.\n",
    "In A/B testing experiment, bias could happen in 3 moments: Pre-trial, during-trial and after trial.\n",
    "  \n",
    "***Pre-Trial Bias ***\n",
    "     \n",
    "Selection bias: If I am not running a specific experiment I should make sure that both test and control samples of properties and host I am including are homogeneus (both come from different geographical areas and from different types (cheap, normal, luxury)) \n",
    "\n",
    "Channeling bias:I must make sure that all the ads pictures from test sample are professional pictures and all the control sample are pictures taken by host.\n",
    "\n",
    "***Bias during trial***\n",
    "  \n",
    "Chronology bias: I should monitor the same time period for test and control samples. I could monitor just the working days in order to avoid the holydays bias on my outcome.  \n",
    "\n",
    "Recall bias: my data source (airBnB website) and metrics should be all objective.  \n",
    "\n",
    "Transfer bias: I should make sure that the hosts will continue their activity during all the experiment period.  \n",
    "\n",
    "Exposure Misclassification: frequency of errors should be approximately the same in the groups being compared   \n",
    "\n",
    "Outcome Misclassification: all subjects should be correctly classified with respect to outcome. I should clarely and objectively define the two classes (professional and host pictures) in order to avoid misclassification errors.\n",
    "\n",
    "Performance Bias: if possible, I should run more tests in order to consider separately the different geographical areas, guests types, properties types.  I should make sure that the result is not affected by unpleasant guest experience due to longer waiting time due to the loading of high resolution professional pictures.\n",
    "\n",
    "***Bias after trial***\n",
    "  \n",
    "Citation Bias: I should not consider the benefits as more relevant than the neutral or negative outcames.\n",
    "  \n",
    "Confounding: I should be careful that the results I obtain are not influenced by other factors(like particular  holidays, the strategic position of the property ) that picture quality."
   ]
  },
  {
   "cell_type": "markdown",
   "metadata": {},
   "source": [
    "source: https://www.ncbi.nlm.nih.gov/pmc/articles/PMC2917255/"
   ]
  },
  {
   "cell_type": "markdown",
   "metadata": {},
   "source": [
    "# Part 2  Result analysis"
   ]
  },
  {
   "cell_type": "code",
   "execution_count": 279,
   "metadata": {},
   "outputs": [],
   "source": [
    "import pandas as pd\n",
    "import numpy as np\n",
    "%matplotlib inline\n",
    "from scipy import stats\n",
    "import matplotlib.pyplot as plt\n",
    "import seaborn as sns\n",
    "import datetime\n",
    "import re"
   ]
  },
  {
   "cell_type": "code",
   "execution_count": 280,
   "metadata": {},
   "outputs": [],
   "source": [
    "data=pd.read_json('./data/intervals_challenge.json',lines=True)"
   ]
  },
  {
   "cell_type": "markdown",
   "metadata": {},
   "source": [
    "## 2.1 Exploring the database"
   ]
  },
  {
   "cell_type": "markdown",
   "metadata": {},
   "source": [
    "The database incledes the following columns:\n",
    "\n",
    "type: can be going_to_pickup, waiting_for_rider or driving_to_destination.\n",
    "trip_id: uniquely identifies the trip.\n",
    "duration: how long the interval last, in seconds.\n",
    "distance: how far the vehicle moved in this interval, in meters.\n",
    "city_id: either bravos, pentos and volantis.\n",
    "started_at: when the interval started, UTC Time.\n",
    "vehicle_id: uniquely identifies the vehicle.\n"
   ]
  },
  {
   "cell_type": "code",
   "execution_count": 281,
   "metadata": {},
   "outputs": [
    {
     "data": {
      "text/plain": [
       "Index(['duration', 'distance', 'started_at', 'trip_id', 'vehicle_id',\n",
       "       'city_id', 'type'],\n",
       "      dtype='object')"
      ]
     },
     "execution_count": 281,
     "metadata": {},
     "output_type": "execute_result"
    }
   ],
   "source": [
    "data.columns"
   ]
  },
  {
   "cell_type": "code",
   "execution_count": 282,
   "metadata": {},
   "outputs": [
    {
     "data": {
      "text/html": [
       "<div>\n",
       "<style scoped>\n",
       "    .dataframe tbody tr th:only-of-type {\n",
       "        vertical-align: middle;\n",
       "    }\n",
       "\n",
       "    .dataframe tbody tr th {\n",
       "        vertical-align: top;\n",
       "    }\n",
       "\n",
       "    .dataframe thead th {\n",
       "        text-align: right;\n",
       "    }\n",
       "</style>\n",
       "<table border=\"1\" class=\"dataframe\">\n",
       "  <thead>\n",
       "    <tr style=\"text-align: right;\">\n",
       "      <th></th>\n",
       "      <th>duration</th>\n",
       "      <th>distance</th>\n",
       "      <th>started_at</th>\n",
       "      <th>trip_id</th>\n",
       "      <th>vehicle_id</th>\n",
       "      <th>city_id</th>\n",
       "      <th>type</th>\n",
       "    </tr>\n",
       "  </thead>\n",
       "  <tbody>\n",
       "    <tr>\n",
       "      <th>0</th>\n",
       "      <td>857</td>\n",
       "      <td>5384</td>\n",
       "      <td>2016-10-03 13:00:00.286999941</td>\n",
       "      <td>c00cee6963e0dc66e50e271239426914</td>\n",
       "      <td>52d38cf1a3240d5cbdcf730f2d9a47d6</td>\n",
       "      <td>pentos</td>\n",
       "      <td>driving_to_destination</td>\n",
       "    </tr>\n",
       "    <tr>\n",
       "      <th>1</th>\n",
       "      <td>245</td>\n",
       "      <td>1248</td>\n",
       "      <td>2016-10-03 13:00:00.852999926</td>\n",
       "      <td>427425e1f4318ca2461168bdd6e4fcbd</td>\n",
       "      <td>8336b28f24c3e7a1e3d582073b164895</td>\n",
       "      <td>volantis</td>\n",
       "      <td>going_to_pickup</td>\n",
       "    </tr>\n",
       "    <tr>\n",
       "      <th>2</th>\n",
       "      <td>1249</td>\n",
       "      <td>5847</td>\n",
       "      <td>2016-10-03 13:00:01.670000076</td>\n",
       "      <td>757867f6d7c00ef92a65bfaa3895943f</td>\n",
       "      <td>8885c59374cc539163e83f01ed59fd16</td>\n",
       "      <td>pentos</td>\n",
       "      <td>driving_to_destination</td>\n",
       "    </tr>\n",
       "    <tr>\n",
       "      <th>3</th>\n",
       "      <td>471</td>\n",
       "      <td>2585</td>\n",
       "      <td>2016-10-03 13:00:01.841000080</td>\n",
       "      <td>d09d1301d361f7359d0d936557d10f89</td>\n",
       "      <td>81b63920454f70b6755a494e3b28b3a7</td>\n",
       "      <td>bravos</td>\n",
       "      <td>going_to_pickup</td>\n",
       "    </tr>\n",
       "    <tr>\n",
       "      <th>4</th>\n",
       "      <td>182</td>\n",
       "      <td>743</td>\n",
       "      <td>2016-10-03 13:00:01.970000029</td>\n",
       "      <td>00f20a701f0ec2519353ef3ffaf75068</td>\n",
       "      <td>b73030977cbad61c9db55418909864fa</td>\n",
       "      <td>pentos</td>\n",
       "      <td>going_to_pickup</td>\n",
       "    </tr>\n",
       "  </tbody>\n",
       "</table>\n",
       "</div>"
      ],
      "text/plain": [
       "  duration distance                    started_at  \\\n",
       "0      857     5384 2016-10-03 13:00:00.286999941   \n",
       "1      245     1248 2016-10-03 13:00:00.852999926   \n",
       "2     1249     5847 2016-10-03 13:00:01.670000076   \n",
       "3      471     2585 2016-10-03 13:00:01.841000080   \n",
       "4      182      743 2016-10-03 13:00:01.970000029   \n",
       "\n",
       "                            trip_id                        vehicle_id  \\\n",
       "0  c00cee6963e0dc66e50e271239426914  52d38cf1a3240d5cbdcf730f2d9a47d6   \n",
       "1  427425e1f4318ca2461168bdd6e4fcbd  8336b28f24c3e7a1e3d582073b164895   \n",
       "2  757867f6d7c00ef92a65bfaa3895943f  8885c59374cc539163e83f01ed59fd16   \n",
       "3  d09d1301d361f7359d0d936557d10f89  81b63920454f70b6755a494e3b28b3a7   \n",
       "4  00f20a701f0ec2519353ef3ffaf75068  b73030977cbad61c9db55418909864fa   \n",
       "\n",
       "    city_id                    type  \n",
       "0    pentos  driving_to_destination  \n",
       "1  volantis         going_to_pickup  \n",
       "2    pentos  driving_to_destination  \n",
       "3    bravos         going_to_pickup  \n",
       "4    pentos         going_to_pickup  "
      ]
     },
     "execution_count": 282,
     "metadata": {},
     "output_type": "execute_result"
    }
   ],
   "source": [
    "data.head()"
   ]
  },
  {
   "cell_type": "code",
   "execution_count": 283,
   "metadata": {},
   "outputs": [
    {
     "data": {
      "text/plain": [
       "duration              object\n",
       "distance              object\n",
       "started_at    datetime64[ns]\n",
       "trip_id               object\n",
       "vehicle_id            object\n",
       "city_id               object\n",
       "type                  object\n",
       "dtype: object"
      ]
     },
     "execution_count": 283,
     "metadata": {},
     "output_type": "execute_result"
    }
   ],
   "source": [
    "#data types\n",
    "data.dtypes"
   ]
  },
  {
   "cell_type": "code",
   "execution_count": 284,
   "metadata": {},
   "outputs": [
    {
     "data": {
      "text/plain": [
       "duration      0\n",
       "distance      0\n",
       "started_at    0\n",
       "trip_id       0\n",
       "vehicle_id    0\n",
       "city_id       0\n",
       "type          0\n",
       "dtype: int64"
      ]
     },
     "execution_count": 284,
     "metadata": {},
     "output_type": "execute_result"
    }
   ],
   "source": [
    "#null values\n",
    "data.isnull().sum()"
   ]
  },
  {
   "cell_type": "markdown",
   "metadata": {},
   "source": [
    "## 2.2 Database Cleaning"
   ]
  },
  {
   "cell_type": "markdown",
   "metadata": {},
   "source": [
    "In order to perform an A/B test, and gain more information, I need to:  \n",
    "1.check the unique values of categorical columns  \n",
    "2.perform some engineering operations to the columns of the database:  \n",
    "    -`duration` and `distance` should be of type integer\n",
    "    -`started_at` can be split in year-month-day-hour"
   ]
  },
  {
   "cell_type": "code",
   "execution_count": 285,
   "metadata": {},
   "outputs": [
    {
     "data": {
      "text/plain": [
       "going_to_pickup           58510\n",
       "waiting_for_rider         53746\n",
       "driving_to_destination    52914\n",
       "Name: type, dtype: int64"
      ]
     },
     "execution_count": 285,
     "metadata": {},
     "output_type": "execute_result"
    }
   ],
   "source": [
    "#column type\n",
    "data['type'].value_counts()\n"
   ]
  },
  {
   "cell_type": "markdown",
   "metadata": {},
   "source": [
    "I have different numbers for the 3 labels. This means that I don't have complete sequence going-to-pickup-waiting-for-rider-driving-to-destination. In this case I should keep just the 'going_to_pickup' and 'driving to destination' data and treat them as separate data."
   ]
  },
  {
   "cell_type": "code",
   "execution_count": 286,
   "metadata": {},
   "outputs": [
    {
     "data": {
      "text/plain": [
       "pentos      113684\n",
       "volantis     35611\n",
       "bravos       15875\n",
       "Name: city_id, dtype: int64"
      ]
     },
     "execution_count": 286,
     "metadata": {},
     "output_type": "execute_result"
    }
   ],
   "source": [
    "#column city_id\n",
    "data['city_id'].value_counts()"
   ]
  },
  {
   "cell_type": "markdown",
   "metadata": {},
   "source": [
    "Most of the dataset comes from Pentos rides. Bravo is the least represented."
   ]
  },
  {
   "cell_type": "code",
   "execution_count": 287,
   "metadata": {},
   "outputs": [
    {
     "data": {
      "text/html": [
       "<div>\n",
       "<style scoped>\n",
       "    .dataframe tbody tr th:only-of-type {\n",
       "        vertical-align: middle;\n",
       "    }\n",
       "\n",
       "    .dataframe tbody tr th {\n",
       "        vertical-align: top;\n",
       "    }\n",
       "\n",
       "    .dataframe thead th {\n",
       "        text-align: right;\n",
       "    }\n",
       "</style>\n",
       "<table border=\"1\" class=\"dataframe\">\n",
       "  <thead>\n",
       "    <tr style=\"text-align: right;\">\n",
       "      <th></th>\n",
       "      <th>duration</th>\n",
       "      <th>distance</th>\n",
       "      <th>started_at</th>\n",
       "      <th>trip_id</th>\n",
       "      <th>vehicle_id</th>\n",
       "      <th>city_id</th>\n",
       "      <th>type</th>\n",
       "      <th>started_at_year</th>\n",
       "      <th>started_at_month</th>\n",
       "      <th>started_at_day</th>\n",
       "      <th>started_at_hour</th>\n",
       "    </tr>\n",
       "  </thead>\n",
       "  <tbody>\n",
       "    <tr>\n",
       "      <th>0</th>\n",
       "      <td>857</td>\n",
       "      <td>5384</td>\n",
       "      <td>2016-10-03 13:00:00.286999941</td>\n",
       "      <td>c00cee6963e0dc66e50e271239426914</td>\n",
       "      <td>52d38cf1a3240d5cbdcf730f2d9a47d6</td>\n",
       "      <td>pentos</td>\n",
       "      <td>driving_to_destination</td>\n",
       "      <td>2016</td>\n",
       "      <td>10</td>\n",
       "      <td>3</td>\n",
       "      <td>13</td>\n",
       "    </tr>\n",
       "    <tr>\n",
       "      <th>1</th>\n",
       "      <td>245</td>\n",
       "      <td>1248</td>\n",
       "      <td>2016-10-03 13:00:00.852999926</td>\n",
       "      <td>427425e1f4318ca2461168bdd6e4fcbd</td>\n",
       "      <td>8336b28f24c3e7a1e3d582073b164895</td>\n",
       "      <td>volantis</td>\n",
       "      <td>going_to_pickup</td>\n",
       "      <td>2016</td>\n",
       "      <td>10</td>\n",
       "      <td>3</td>\n",
       "      <td>13</td>\n",
       "    </tr>\n",
       "    <tr>\n",
       "      <th>2</th>\n",
       "      <td>1249</td>\n",
       "      <td>5847</td>\n",
       "      <td>2016-10-03 13:00:01.670000076</td>\n",
       "      <td>757867f6d7c00ef92a65bfaa3895943f</td>\n",
       "      <td>8885c59374cc539163e83f01ed59fd16</td>\n",
       "      <td>pentos</td>\n",
       "      <td>driving_to_destination</td>\n",
       "      <td>2016</td>\n",
       "      <td>10</td>\n",
       "      <td>3</td>\n",
       "      <td>13</td>\n",
       "    </tr>\n",
       "    <tr>\n",
       "      <th>3</th>\n",
       "      <td>471</td>\n",
       "      <td>2585</td>\n",
       "      <td>2016-10-03 13:00:01.841000080</td>\n",
       "      <td>d09d1301d361f7359d0d936557d10f89</td>\n",
       "      <td>81b63920454f70b6755a494e3b28b3a7</td>\n",
       "      <td>bravos</td>\n",
       "      <td>going_to_pickup</td>\n",
       "      <td>2016</td>\n",
       "      <td>10</td>\n",
       "      <td>3</td>\n",
       "      <td>13</td>\n",
       "    </tr>\n",
       "    <tr>\n",
       "      <th>4</th>\n",
       "      <td>182</td>\n",
       "      <td>743</td>\n",
       "      <td>2016-10-03 13:00:01.970000029</td>\n",
       "      <td>00f20a701f0ec2519353ef3ffaf75068</td>\n",
       "      <td>b73030977cbad61c9db55418909864fa</td>\n",
       "      <td>pentos</td>\n",
       "      <td>going_to_pickup</td>\n",
       "      <td>2016</td>\n",
       "      <td>10</td>\n",
       "      <td>3</td>\n",
       "      <td>13</td>\n",
       "    </tr>\n",
       "  </tbody>\n",
       "</table>\n",
       "</div>"
      ],
      "text/plain": [
       "  duration distance                    started_at  \\\n",
       "0      857     5384 2016-10-03 13:00:00.286999941   \n",
       "1      245     1248 2016-10-03 13:00:00.852999926   \n",
       "2     1249     5847 2016-10-03 13:00:01.670000076   \n",
       "3      471     2585 2016-10-03 13:00:01.841000080   \n",
       "4      182      743 2016-10-03 13:00:01.970000029   \n",
       "\n",
       "                            trip_id                        vehicle_id  \\\n",
       "0  c00cee6963e0dc66e50e271239426914  52d38cf1a3240d5cbdcf730f2d9a47d6   \n",
       "1  427425e1f4318ca2461168bdd6e4fcbd  8336b28f24c3e7a1e3d582073b164895   \n",
       "2  757867f6d7c00ef92a65bfaa3895943f  8885c59374cc539163e83f01ed59fd16   \n",
       "3  d09d1301d361f7359d0d936557d10f89  81b63920454f70b6755a494e3b28b3a7   \n",
       "4  00f20a701f0ec2519353ef3ffaf75068  b73030977cbad61c9db55418909864fa   \n",
       "\n",
       "    city_id                    type  started_at_year  started_at_month  \\\n",
       "0    pentos  driving_to_destination             2016                10   \n",
       "1  volantis         going_to_pickup             2016                10   \n",
       "2    pentos  driving_to_destination             2016                10   \n",
       "3    bravos         going_to_pickup             2016                10   \n",
       "4    pentos         going_to_pickup             2016                10   \n",
       "\n",
       "   started_at_day  started_at_hour  \n",
       "0               3               13  \n",
       "1               3               13  \n",
       "2               3               13  \n",
       "3               3               13  \n",
       "4               3               13  "
      ]
     },
     "execution_count": 287,
     "metadata": {},
     "output_type": "execute_result"
    }
   ],
   "source": [
    "#splitting column started_at in year-month-day-hour\n",
    "def extract_date(df,col):\n",
    "    df[col+'_year']=df[col].apply(lambda x : x.year)\n",
    "    df[col+'_month']=df[col].apply(lambda x : x.month)\n",
    "    df[col+'_day']=df[col].apply(lambda x : x.day)\n",
    "    df[col+'_hour']=df[col].apply(lambda x : x.hour)\n",
    "extract_date(data,'started_at') \n",
    "data.head()"
   ]
  },
  {
   "cell_type": "code",
   "execution_count": 288,
   "metadata": {},
   "outputs": [
    {
     "data": {
      "text/plain": [
       "array([2016])"
      ]
     },
     "execution_count": 288,
     "metadata": {},
     "output_type": "execute_result"
    }
   ],
   "source": [
    "data['started_at_year'].unique()"
   ]
  },
  {
   "cell_type": "code",
   "execution_count": 289,
   "metadata": {},
   "outputs": [
    {
     "data": {
      "text/plain": [
       "array([10])"
      ]
     },
     "execution_count": 289,
     "metadata": {},
     "output_type": "execute_result"
    }
   ],
   "source": [
    "data['started_at_month'].unique()"
   ]
  },
  {
   "cell_type": "code",
   "execution_count": 290,
   "metadata": {},
   "outputs": [
    {
     "data": {
      "text/plain": [
       "array([3, 4])"
      ]
     },
     "execution_count": 290,
     "metadata": {},
     "output_type": "execute_result"
    }
   ],
   "source": [
    "data['started_at_day'].unique()"
   ]
  },
  {
   "cell_type": "code",
   "execution_count": 291,
   "metadata": {},
   "outputs": [
    {
     "data": {
      "text/plain": [
       "<matplotlib.axes._subplots.AxesSubplot at 0x1215c1320>"
      ]
     },
     "execution_count": 291,
     "metadata": {},
     "output_type": "execute_result"
    },
    {
     "data": {
      "image/png": "[encoded data removed]",
      "text/plain": [
       "<Figure size 432x288 with 1 Axes>"
      ]
     },
     "metadata": {},
     "output_type": "display_data"
    }
   ],
   "source": [
    "df = data.sort_values(['started_at_hour'])\n",
    "data.groupby(['started_at_hour']).agg({'started_at_hour':'count'}).plot.bar()"
   ]
  },
  {
   "cell_type": "markdown",
   "metadata": {},
   "source": [
    "We can see that the database contains only data from of 3-4 of October 2016. Most of the rides are day-rides:(13-20)"
   ]
  },
  {
   "cell_type": "code",
   "execution_count": 292,
   "metadata": {},
   "outputs": [
    {
     "data": {
      "text/plain": [
       "duration                    object\n",
       "distance                     int64\n",
       "started_at          datetime64[ns]\n",
       "trip_id                     object\n",
       "vehicle_id                  object\n",
       "city_id                     object\n",
       "type                        object\n",
       "started_at_year              int64\n",
       "started_at_month             int64\n",
       "started_at_day               int64\n",
       "started_at_hour              int64\n",
       "dtype: object"
      ]
     },
     "execution_count": 292,
     "metadata": {},
     "output_type": "execute_result"
    }
   ],
   "source": [
    "#column distance: to int type\n",
    "filter1=pd.to_numeric(data['distance'], errors='coerce').isnull()\n",
    "df=data[~filter1]\n",
    "df = df.astype({\"distance\": int})\n",
    "df.dtypes"
   ]
  },
  {
   "cell_type": "code",
   "execution_count": 293,
   "metadata": {},
   "outputs": [
    {
     "data": {
      "text/plain": [
       "duration                     int64\n",
       "distance                     int64\n",
       "started_at          datetime64[ns]\n",
       "trip_id                     object\n",
       "vehicle_id                  object\n",
       "city_id                     object\n",
       "type                        object\n",
       "started_at_year              int64\n",
       "started_at_month             int64\n",
       "started_at_day               int64\n",
       "started_at_hour              int64\n",
       "dtype: object"
      ]
     },
     "execution_count": 293,
     "metadata": {},
     "output_type": "execute_result"
    }
   ],
   "source": [
    "#column duration: to int type\n",
    "filter1=pd.to_numeric(df['duration'], errors='coerce').isnull()\n",
    "df_clean=df[~filter1]\n",
    "df_clean = df_clean.astype({\"duration\": int})\n",
    "df_clean.dtypes"
   ]
  },
  {
   "cell_type": "code",
   "execution_count": 294,
   "metadata": {},
   "outputs": [
    {
     "data": {
      "text/html": [
       "<div>\n",
       "<style scoped>\n",
       "    .dataframe tbody tr th:only-of-type {\n",
       "        vertical-align: middle;\n",
       "    }\n",
       "\n",
       "    .dataframe tbody tr th {\n",
       "        vertical-align: top;\n",
       "    }\n",
       "\n",
       "    .dataframe thead th {\n",
       "        text-align: right;\n",
       "    }\n",
       "</style>\n",
       "<table border=\"1\" class=\"dataframe\">\n",
       "  <thead>\n",
       "    <tr style=\"text-align: right;\">\n",
       "      <th></th>\n",
       "      <th>duration</th>\n",
       "      <th>distance</th>\n",
       "      <th>started_at_year</th>\n",
       "      <th>started_at_month</th>\n",
       "      <th>started_at_day</th>\n",
       "      <th>started_at_hour</th>\n",
       "    </tr>\n",
       "  </thead>\n",
       "  <tbody>\n",
       "    <tr>\n",
       "      <th>count</th>\n",
       "      <td>164013.000000</td>\n",
       "      <td>1.640130e+05</td>\n",
       "      <td>164013.0</td>\n",
       "      <td>164013.0</td>\n",
       "      <td>164013.000000</td>\n",
       "      <td>164013.000000</td>\n",
       "    </tr>\n",
       "    <tr>\n",
       "      <th>mean</th>\n",
       "      <td>432.959534</td>\n",
       "      <td>1.944164e+03</td>\n",
       "      <td>2016.0</td>\n",
       "      <td>10.0</td>\n",
       "      <td>3.548847</td>\n",
       "      <td>15.135331</td>\n",
       "    </tr>\n",
       "    <tr>\n",
       "      <th>std</th>\n",
       "      <td>559.097970</td>\n",
       "      <td>7.230917e+03</td>\n",
       "      <td>0.0</td>\n",
       "      <td>0.0</td>\n",
       "      <td>0.497610</td>\n",
       "      <td>5.599166</td>\n",
       "    </tr>\n",
       "    <tr>\n",
       "      <th>min</th>\n",
       "      <td>0.000000</td>\n",
       "      <td>0.000000e+00</td>\n",
       "      <td>2016.0</td>\n",
       "      <td>10.0</td>\n",
       "      <td>3.000000</td>\n",
       "      <td>0.000000</td>\n",
       "    </tr>\n",
       "    <tr>\n",
       "      <th>25%</th>\n",
       "      <td>55.000000</td>\n",
       "      <td>1.900000e+01</td>\n",
       "      <td>2016.0</td>\n",
       "      <td>10.0</td>\n",
       "      <td>3.000000</td>\n",
       "      <td>13.000000</td>\n",
       "    </tr>\n",
       "    <tr>\n",
       "      <th>50%</th>\n",
       "      <td>246.000000</td>\n",
       "      <td>6.080000e+02</td>\n",
       "      <td>2016.0</td>\n",
       "      <td>10.0</td>\n",
       "      <td>4.000000</td>\n",
       "      <td>16.000000</td>\n",
       "    </tr>\n",
       "    <tr>\n",
       "      <th>75%</th>\n",
       "      <td>616.000000</td>\n",
       "      <td>2.349000e+03</td>\n",
       "      <td>2016.0</td>\n",
       "      <td>10.0</td>\n",
       "      <td>4.000000</td>\n",
       "      <td>19.000000</td>\n",
       "    </tr>\n",
       "    <tr>\n",
       "      <th>max</th>\n",
       "      <td>48654.000000</td>\n",
       "      <td>1.218089e+06</td>\n",
       "      <td>2016.0</td>\n",
       "      <td>10.0</td>\n",
       "      <td>4.000000</td>\n",
       "      <td>23.000000</td>\n",
       "    </tr>\n",
       "  </tbody>\n",
       "</table>\n",
       "</div>"
      ],
      "text/plain": [
       "            duration      distance  started_at_year  started_at_month  \\\n",
       "count  164013.000000  1.640130e+05         164013.0          164013.0   \n",
       "mean      432.959534  1.944164e+03           2016.0              10.0   \n",
       "std       559.097970  7.230917e+03              0.0               0.0   \n",
       "min         0.000000  0.000000e+00           2016.0              10.0   \n",
       "25%        55.000000  1.900000e+01           2016.0              10.0   \n",
       "50%       246.000000  6.080000e+02           2016.0              10.0   \n",
       "75%       616.000000  2.349000e+03           2016.0              10.0   \n",
       "max     48654.000000  1.218089e+06           2016.0              10.0   \n",
       "\n",
       "       started_at_day  started_at_hour  \n",
       "count   164013.000000    164013.000000  \n",
       "mean         3.548847        15.135331  \n",
       "std          0.497610         5.599166  \n",
       "min          3.000000         0.000000  \n",
       "25%          3.000000        13.000000  \n",
       "50%          4.000000        16.000000  \n",
       "75%          4.000000        19.000000  \n",
       "max          4.000000        23.000000  "
      ]
     },
     "execution_count": 294,
     "metadata": {},
     "output_type": "execute_result"
    }
   ],
   "source": [
    "#check for outliars in numerical columns\n",
    "df_clean._get_numeric_data().describe()"
   ]
  },
  {
   "cell_type": "markdown",
   "metadata": {},
   "source": [
    "I can see I have some 0 values in the columns duration and distance. I will drop this rows since I can't use them for the test."
   ]
  },
  {
   "cell_type": "code",
   "execution_count": 302,
   "metadata": {},
   "outputs": [],
   "source": [
    "#reomve the very short duration and distances.\n",
    "def remove_outliers(col,df):\n",
    "    q_low = df[col].quantile(0.05)\n",
    "    q_hi  = df[col].quantile(0.98)\n",
    "\n",
    "    df_filtered = df[(df[col] < q_hi) & (df[col] > q_low)]\n",
    "    return df_filtered\n",
    "\n",
    "df_clean_new= remove_outliers('duration',df_clean)\n",
    "df_clean_new= remove_outliers('distance',df_clean_new)"
   ]
  },
  {
   "cell_type": "code",
   "execution_count": 296,
   "metadata": {},
   "outputs": [
    {
     "data": {
      "text/html": [
       "<div>\n",
       "<style scoped>\n",
       "    .dataframe tbody tr th:only-of-type {\n",
       "        vertical-align: middle;\n",
       "    }\n",
       "\n",
       "    .dataframe tbody tr th {\n",
       "        vertical-align: top;\n",
       "    }\n",
       "\n",
       "    .dataframe thead th {\n",
       "        text-align: right;\n",
       "    }\n",
       "</style>\n",
       "<table border=\"1\" class=\"dataframe\">\n",
       "  <thead>\n",
       "    <tr style=\"text-align: right;\">\n",
       "      <th></th>\n",
       "      <th>duration</th>\n",
       "      <th>distance</th>\n",
       "      <th>started_at_year</th>\n",
       "      <th>started_at_month</th>\n",
       "      <th>started_at_day</th>\n",
       "      <th>started_at_hour</th>\n",
       "    </tr>\n",
       "  </thead>\n",
       "  <tbody>\n",
       "    <tr>\n",
       "      <th>count</th>\n",
       "      <td>136551.000000</td>\n",
       "      <td>136551.000000</td>\n",
       "      <td>136551.0</td>\n",
       "      <td>136551.0</td>\n",
       "      <td>136551.000000</td>\n",
       "      <td>136551.000000</td>\n",
       "    </tr>\n",
       "    <tr>\n",
       "      <th>mean</th>\n",
       "      <td>420.644177</td>\n",
       "      <td>1602.901392</td>\n",
       "      <td>2016.0</td>\n",
       "      <td>10.0</td>\n",
       "      <td>3.548630</td>\n",
       "      <td>15.175451</td>\n",
       "    </tr>\n",
       "    <tr>\n",
       "      <th>std</th>\n",
       "      <td>401.001335</td>\n",
       "      <td>1999.050894</td>\n",
       "      <td>0.0</td>\n",
       "      <td>0.0</td>\n",
       "      <td>0.497631</td>\n",
       "      <td>5.556204</td>\n",
       "    </tr>\n",
       "    <tr>\n",
       "      <th>min</th>\n",
       "      <td>7.000000</td>\n",
       "      <td>1.000000</td>\n",
       "      <td>2016.0</td>\n",
       "      <td>10.0</td>\n",
       "      <td>3.000000</td>\n",
       "      <td>0.000000</td>\n",
       "    </tr>\n",
       "    <tr>\n",
       "      <th>25%</th>\n",
       "      <td>113.000000</td>\n",
       "      <td>76.000000</td>\n",
       "      <td>2016.0</td>\n",
       "      <td>10.0</td>\n",
       "      <td>3.000000</td>\n",
       "      <td>13.000000</td>\n",
       "    </tr>\n",
       "    <tr>\n",
       "      <th>50%</th>\n",
       "      <td>289.000000</td>\n",
       "      <td>788.000000</td>\n",
       "      <td>2016.0</td>\n",
       "      <td>10.0</td>\n",
       "      <td>4.000000</td>\n",
       "      <td>16.000000</td>\n",
       "    </tr>\n",
       "    <tr>\n",
       "      <th>75%</th>\n",
       "      <td>624.000000</td>\n",
       "      <td>2400.000000</td>\n",
       "      <td>2016.0</td>\n",
       "      <td>10.0</td>\n",
       "      <td>4.000000</td>\n",
       "      <td>19.000000</td>\n",
       "    </tr>\n",
       "    <tr>\n",
       "      <th>max</th>\n",
       "      <td>1952.000000</td>\n",
       "      <td>9701.000000</td>\n",
       "      <td>2016.0</td>\n",
       "      <td>10.0</td>\n",
       "      <td>4.000000</td>\n",
       "      <td>23.000000</td>\n",
       "    </tr>\n",
       "  </tbody>\n",
       "</table>\n",
       "</div>"
      ],
      "text/plain": [
       "            duration       distance  started_at_year  started_at_month  \\\n",
       "count  136551.000000  136551.000000         136551.0          136551.0   \n",
       "mean      420.644177    1602.901392           2016.0              10.0   \n",
       "std       401.001335    1999.050894              0.0               0.0   \n",
       "min         7.000000       1.000000           2016.0              10.0   \n",
       "25%       113.000000      76.000000           2016.0              10.0   \n",
       "50%       289.000000     788.000000           2016.0              10.0   \n",
       "75%       624.000000    2400.000000           2016.0              10.0   \n",
       "max      1952.000000    9701.000000           2016.0              10.0   \n",
       "\n",
       "       started_at_day  started_at_hour  \n",
       "count   136551.000000    136551.000000  \n",
       "mean         3.548630        15.175451  \n",
       "std          0.497631         5.556204  \n",
       "min          3.000000         0.000000  \n",
       "25%          3.000000        13.000000  \n",
       "50%          4.000000        16.000000  \n",
       "75%          4.000000        19.000000  \n",
       "max          4.000000        23.000000  "
      ]
     },
     "execution_count": 296,
     "metadata": {},
     "output_type": "execute_result"
    }
   ],
   "source": [
    "df_clean_new.describe()"
   ]
  },
  {
   "cell_type": "code",
   "execution_count": 310,
   "metadata": {},
   "outputs": [],
   "source": [
    "#Building of linear or road label column\n",
    "#Trips whose trip_id starts with digits 0-8 were assigned using road distance.\n",
    "#Trips whose trip_id starts with digits 9-f were assigned using linear distance.\n",
    "def label(x):\n",
    "    if bool(re.match(r'^[0-8]', x)):\n",
    "        return 'road'\n",
    "    else:\n",
    "        return 'linear'\n",
    "df_clean_new['distance_measure']=df_clean_new['trip_id'].apply(label)"
   ]
  },
  {
   "cell_type": "code",
   "execution_count": 311,
   "metadata": {},
   "outputs": [
    {
     "data": {
      "text/plain": [
       "road      29492\n",
       "linear    22579\n",
       "Name: distance_measure, dtype: int64"
      ]
     },
     "execution_count": 311,
     "metadata": {},
     "output_type": "execute_result"
    }
   ],
   "source": [
    "df_clean_new['distance_measure'].value_counts()"
   ]
  },
  {
   "cell_type": "code",
   "execution_count": 220,
   "metadata": {},
   "outputs": [
    {
     "data": {
      "text/plain": [
       "(136551, 12)"
      ]
     },
     "execution_count": 220,
     "metadata": {},
     "output_type": "execute_result"
    }
   ],
   "source": [
    "#column trip_id\n",
    "df_clean_new.shape"
   ]
  },
  {
   "cell_type": "code",
   "execution_count": 221,
   "metadata": {},
   "outputs": [
    {
     "data": {
      "text/plain": [
       "57059"
      ]
     },
     "execution_count": 221,
     "metadata": {},
     "output_type": "execute_result"
    }
   ],
   "source": [
    "len(set(df_clean_new.trip_id))"
   ]
  },
  {
   "cell_type": "code",
   "execution_count": 222,
   "metadata": {},
   "outputs": [
    {
     "data": {
      "text/plain": [
       "afacd04e18402f482e950ecc17c9f998    9\n",
       "b7e65508b9cf020062b8870ae5617cb6    6\n",
       "a2a052d17a8860bd8ffef0c571c13e8a    4\n",
       "a341068b7a90ffb908688f21a94abe7e    4\n",
       "743a311734bddd5692e81885255f5473    4\n",
       "                                   ..\n",
       "327b972d54d4d74aedd1330524e7ffec    1\n",
       "f1894f01ba00170e93616684d53ebe90    1\n",
       "2894e4fc0be802e4d699ef374ee9f9db    1\n",
       "1ba78b69b7fc69297253d1bc714507a2    1\n",
       "781f156339f121b61818433f64078529    1\n",
       "Name: trip_id, Length: 57059, dtype: int64"
      ]
     },
     "execution_count": 222,
     "metadata": {},
     "output_type": "execute_result"
    }
   ],
   "source": [
    "df_clean_new['trip_id'].value_counts()\n"
   ]
  },
  {
   "cell_type": "code",
   "execution_count": 223,
   "metadata": {},
   "outputs": [
    {
     "data": {
      "text/html": [
       "<div>\n",
       "<style scoped>\n",
       "    .dataframe tbody tr th:only-of-type {\n",
       "        vertical-align: middle;\n",
       "    }\n",
       "\n",
       "    .dataframe tbody tr th {\n",
       "        vertical-align: top;\n",
       "    }\n",
       "\n",
       "    .dataframe thead th {\n",
       "        text-align: right;\n",
       "    }\n",
       "</style>\n",
       "<table border=\"1\" class=\"dataframe\">\n",
       "  <thead>\n",
       "    <tr style=\"text-align: right;\">\n",
       "      <th></th>\n",
       "      <th>duration</th>\n",
       "      <th>distance</th>\n",
       "      <th>started_at</th>\n",
       "      <th>trip_id</th>\n",
       "      <th>vehicle_id</th>\n",
       "      <th>city_id</th>\n",
       "      <th>type</th>\n",
       "      <th>started_at_year</th>\n",
       "      <th>started_at_month</th>\n",
       "      <th>started_at_day</th>\n",
       "      <th>started_at_hour</th>\n",
       "      <th>distance_measure</th>\n",
       "    </tr>\n",
       "  </thead>\n",
       "  <tbody>\n",
       "    <tr>\n",
       "      <th>35907</th>\n",
       "      <td>1667</td>\n",
       "      <td>1676</td>\n",
       "      <td>2016-10-03 18:44:06.885999918</td>\n",
       "      <td>4a5efe91a247f520f7f49e2c094e8169</td>\n",
       "      <td>436e925e0516db113cacfb5ae17e64d3</td>\n",
       "      <td>pentos</td>\n",
       "      <td>going_to_pickup</td>\n",
       "      <td>2016</td>\n",
       "      <td>10</td>\n",
       "      <td>3</td>\n",
       "      <td>18</td>\n",
       "      <td>road</td>\n",
       "    </tr>\n",
       "    <tr>\n",
       "      <th>39026</th>\n",
       "      <td>702</td>\n",
       "      <td>2538</td>\n",
       "      <td>2016-10-03 19:12:06.815999985</td>\n",
       "      <td>4a5efe91a247f520f7f49e2c094e8169</td>\n",
       "      <td>71df25b923a210471218f8eb2a668f07</td>\n",
       "      <td>pentos</td>\n",
       "      <td>going_to_pickup</td>\n",
       "      <td>2016</td>\n",
       "      <td>10</td>\n",
       "      <td>3</td>\n",
       "      <td>19</td>\n",
       "      <td>road</td>\n",
       "    </tr>\n",
       "    <tr>\n",
       "      <th>40456</th>\n",
       "      <td>58</td>\n",
       "      <td>13</td>\n",
       "      <td>2016-10-03 19:23:49.026999950</td>\n",
       "      <td>4a5efe91a247f520f7f49e2c094e8169</td>\n",
       "      <td>71df25b923a210471218f8eb2a668f07</td>\n",
       "      <td>pentos</td>\n",
       "      <td>waiting_for_rider</td>\n",
       "      <td>2016</td>\n",
       "      <td>10</td>\n",
       "      <td>3</td>\n",
       "      <td>19</td>\n",
       "      <td>road</td>\n",
       "    </tr>\n",
       "    <tr>\n",
       "      <th>40553</th>\n",
       "      <td>1499</td>\n",
       "      <td>5584</td>\n",
       "      <td>2016-10-03 19:24:47.075999975</td>\n",
       "      <td>4a5efe91a247f520f7f49e2c094e8169</td>\n",
       "      <td>71df25b923a210471218f8eb2a668f07</td>\n",
       "      <td>pentos</td>\n",
       "      <td>driving_to_destination</td>\n",
       "      <td>2016</td>\n",
       "      <td>10</td>\n",
       "      <td>3</td>\n",
       "      <td>19</td>\n",
       "      <td>road</td>\n",
       "    </tr>\n",
       "  </tbody>\n",
       "</table>\n",
       "</div>"
      ],
      "text/plain": [
       "       duration  distance                    started_at  \\\n",
       "35907      1667      1676 2016-10-03 18:44:06.885999918   \n",
       "39026       702      2538 2016-10-03 19:12:06.815999985   \n",
       "40456        58        13 2016-10-03 19:23:49.026999950   \n",
       "40553      1499      5584 2016-10-03 19:24:47.075999975   \n",
       "\n",
       "                                trip_id                        vehicle_id  \\\n",
       "35907  4a5efe91a247f520f7f49e2c094e8169  436e925e0516db113cacfb5ae17e64d3   \n",
       "39026  4a5efe91a247f520f7f49e2c094e8169  71df25b923a210471218f8eb2a668f07   \n",
       "40456  4a5efe91a247f520f7f49e2c094e8169  71df25b923a210471218f8eb2a668f07   \n",
       "40553  4a5efe91a247f520f7f49e2c094e8169  71df25b923a210471218f8eb2a668f07   \n",
       "\n",
       "      city_id                    type  started_at_year  started_at_month  \\\n",
       "35907  pentos         going_to_pickup             2016                10   \n",
       "39026  pentos         going_to_pickup             2016                10   \n",
       "40456  pentos       waiting_for_rider             2016                10   \n",
       "40553  pentos  driving_to_destination             2016                10   \n",
       "\n",
       "       started_at_day  started_at_hour distance_measure  \n",
       "35907               3               18             road  \n",
       "39026               3               19             road  \n",
       "40456               3               19             road  \n",
       "40553               3               19             road  "
      ]
     },
     "execution_count": 223,
     "metadata": {},
     "output_type": "execute_result"
    }
   ],
   "source": [
    "df_clean_new[df_clean_new['trip_id']=='4a5efe91a247f520f7f49e2c094e8169']"
   ]
  },
  {
   "cell_type": "markdown",
   "metadata": {},
   "source": [
    "We have multiple entries with the same trip_id. It seems that there are some fake going_to_pickup, where probably the passenger was not found."
   ]
  },
  {
   "cell_type": "markdown",
   "metadata": {},
   "source": [
    "# 3 Challange"
   ]
  },
  {
   "cell_type": "markdown",
   "metadata": {},
   "source": [
    "1.Should the company move towards road distance? What's the max price it would make sense to pay per query? (make all the assumptions you need, and make them explicit)"
   ]
  },
  {
   "cell_type": "markdown",
   "metadata": {},
   "source": [
    "'linear': haversine distance between the pickup point and each of the available vehicles  \n",
    "  \n",
    "'road': query to an external real time maps API that not only has roads, but also knows realtime traffic information."
   ]
  },
  {
   "cell_type": "markdown",
   "metadata": {},
   "source": [
    "## 3.1 Global check (all city and time included)"
   ]
  },
  {
   "cell_type": "markdown",
   "metadata": {},
   "source": [
    "The company should move towards road distance if this assignation method makes reaching the destination significantly faster than the assignation with linear distance, so the taxi can perform more rides.  \n",
    "To prove this I should run a One-sided hypothesis test\\* on the variable speed (distance/duration) of\n",
    "**going_to_pickup** rows. ***I would like to run the test using the h_speed=haversine_distance/duration, but I don't have the information of the haversine_distance from the passenger for the taxis using 'road' assignation method*** This way I could really compare the performance of the pick-ups. Higher pickup speed does not necessary mean faster pickup.  \n",
    "(Using speed=distance/duration I could have the case of a close haversine_distance-wise taxi that to reach the passenger has to make a long loop with a high speed, when I could have another taxi that is less haversine_distance-wise close and slower but faster to reach the passenger.) Due to the lack of this data I will use speed =(distance/duration).\n",
    "   \n",
    "**Null hypothesis $H_0$**: avg durance is $the$ $same$ for road and linear distance assignations  \n",
    "  \n",
    "**Alternative hypothesis $H_1$**:avg speed is $smaller$ for road distance assignation\n",
    "\n",
    "*One-sided alternative hypothesis (a.k.a. directional hypothesis) used to determine whether the population average differs from the hypothesized value in a specific direction (smaller but not larger than)\n",
    " "
   ]
  },
  {
   "cell_type": "code",
   "execution_count": 313,
   "metadata": {},
   "outputs": [],
   "source": [
    "df_clean_new['speed']=df_clean_new['distance']/df_clean_new['duration']"
   ]
  },
  {
   "cell_type": "code",
   "execution_count": 305,
   "metadata": {},
   "outputs": [],
   "source": [
    "filter2=df_clean_new.type=='going_to_pickup'\n",
    "df_clean_new=df_clean_new[filter2]"
   ]
  },
  {
   "cell_type": "code",
   "execution_count": 314,
   "metadata": {},
   "outputs": [
    {
     "data": {
      "text/plain": [
       "'--> Null(H0) hypotesis rejected'"
      ]
     },
     "execution_count": 314,
     "metadata": {},
     "output_type": "execute_result"
    }
   ],
   "source": [
    "#A and B group\n",
    "\n",
    "filter3=df_clean_new['distance_measure']=='road'\n",
    "road=df_clean_new[filter3].speed\n",
    "linear=df_clean_new[~filter3].speed\n",
    "\n",
    "#t test\n",
    "res=stats.ttest_ind(road, linear)\n",
    "\n",
    "checkPValue = lambda p,threshold=0.05: \"--> Null(H0) hypotesis rejected\" if p < threshold else \"--> We cannot reject the null hypotesis\"\n",
    "\n",
    "checkPValue(res[1]/2)"
   ]
  },
  {
   "cell_type": "code",
   "execution_count": 315,
   "metadata": {},
   "outputs": [
    {
     "name": "stdout",
     "output_type": "stream",
     "text": [
      "pvalue= 0.03427553251639847\n"
     ]
    }
   ],
   "source": [
    "print('pvalue=',res[1]/2)"
   ]
  },
  {
   "cell_type": "markdown",
   "metadata": {},
   "source": [
    "According to the test **the p-value is larger than 5%**, the odds are quicker rides are globally statistically relevant for the cities. The pickup avg speed with 'road' pickup assignement method is significatively smaller than  the 'linear' method of pickup assignement speed. This happens only if I remove the outliers (very short durations annd distances) If I run the same test not removing the oultiers, I can't reject the null hypothesis."
   ]
  },
  {
   "cell_type": "code",
   "execution_count": 228,
   "metadata": {},
   "outputs": [
    {
     "data": {
      "text/plain": [
       "[Text(0, 0.5, 'speed [m/s]'), Text(0.5, 0, 'hour')]"
      ]
     },
     "execution_count": 228,
     "metadata": {},
     "output_type": "execute_result"
    },
    {
     "data": {
      "image/png": "[encoded data removed]",
      "text/plain": [
       "<Figure size 1080x720 with 1 Axes>"
      ]
     },
     "metadata": {},
     "output_type": "display_data"
    }
   ],
   "source": [
    "plt.figure(figsize=(15,10))\n",
    "fig=sns.lineplot(x='started_at_hour', y='speed', hue='distance_measure', data=df_clean_new)\n",
    "plt.title('global_speed_check')\n",
    "fig.set(xlabel='hour', ylabel='speed [m/s]')"
   ]
  },
  {
   "cell_type": "markdown",
   "metadata": {},
   "source": [
    "The graph confirms the test outcome: there is not a general tendency for the avg speed considering the `linear` or the `road` assignation methods."
   ]
  },
  {
   "cell_type": "markdown",
   "metadata": {},
   "source": [
    "## 3.2 Geographical check "
   ]
  },
  {
   "cell_type": "markdown",
   "metadata": {},
   "source": [
    "H1: in the city `<city_name>` the pickups assigned with the api query are significantly faster"
   ]
  },
  {
   "cell_type": "code",
   "execution_count": 316,
   "metadata": {},
   "outputs": [],
   "source": [
    "filter4=df_clean_new['city_id']=='pentos'\n",
    "filter5=df_clean_new['city_id']=='bravos'\n",
    "filter6=df_clean_new['city_id']=='volantis'\n",
    "\n",
    "pentos=df_clean_new[filter4]\n",
    "pentos_road=pento[pento['distance_measure']=='road'].speed\n",
    "pentos_linear=pento[pento['distance_measure']=='linear'].speed\n",
    "\n",
    "bravos=df_clean_new[filter5]\n",
    "bravos_road=bravo[bravo['distance_measure']=='road'].speed\n",
    "bravos_linear=bravo[bravo['distance_measure']=='linear'].speed\n",
    "\n",
    "volantis=df_clean_new[filter6]\n",
    "volantis_road=volantis[volantis['distance_measure']=='road'].speed\n",
    "volantis_linear=volantis[volantis['distance_measure']=='linear'].speed\n"
   ]
  },
  {
   "cell_type": "code",
   "execution_count": 317,
   "metadata": {},
   "outputs": [
    {
     "data": {
      "text/plain": [
       "'--> Null(H0) hypotesis rejected'"
      ]
     },
     "execution_count": 317,
     "metadata": {},
     "output_type": "execute_result"
    }
   ],
   "source": [
    "res=stats.ttest_ind(pentos_road, pentos_linear)\n",
    "checkPValue(res[1]/2)"
   ]
  },
  {
   "cell_type": "code",
   "execution_count": 318,
   "metadata": {},
   "outputs": [
    {
     "name": "stdout",
     "output_type": "stream",
     "text": [
      "pvalue= 0.02708598668212496\n"
     ]
    }
   ],
   "source": [
    "print('pvalue=',res[1]/2)"
   ]
  },
  {
   "cell_type": "code",
   "execution_count": 319,
   "metadata": {},
   "outputs": [
    {
     "data": {
      "text/plain": [
       "'--> We cannot reject the null hypotesis'"
      ]
     },
     "execution_count": 319,
     "metadata": {},
     "output_type": "execute_result"
    }
   ],
   "source": [
    "res1=stats.ttest_ind(bravos_road, bravos_linear)\n",
    "checkPValue(res1[1]/2)"
   ]
  },
  {
   "cell_type": "code",
   "execution_count": 320,
   "metadata": {},
   "outputs": [
    {
     "name": "stdout",
     "output_type": "stream",
     "text": [
      "pvalue= 0.23708122452479613\n"
     ]
    }
   ],
   "source": [
    "print('pvalue=',res1[1]/2)"
   ]
  },
  {
   "cell_type": "code",
   "execution_count": 321,
   "metadata": {},
   "outputs": [
    {
     "data": {
      "text/plain": [
       "'--> We cannot reject the null hypotesis'"
      ]
     },
     "execution_count": 321,
     "metadata": {},
     "output_type": "execute_result"
    }
   ],
   "source": [
    "res2=stats.ttest_ind(volantis_road, volantis_linear)\n",
    "checkPValue(res2[1]/2)"
   ]
  },
  {
   "cell_type": "code",
   "execution_count": 322,
   "metadata": {},
   "outputs": [
    {
     "name": "stdout",
     "output_type": "stream",
     "text": [
      "pvalue= 0.362688821182742\n"
     ]
    }
   ],
   "source": [
    "print('pvalue=',res2[1]/2)"
   ]
  },
  {
   "cell_type": "markdown",
   "metadata": {},
   "source": [
    "According to the test **the p-value is larger than 5%**, the odds of quicker rides with road method assignment are due to chance in bravos and volantis, while are statistically significant in pentos."
   ]
  },
  {
   "cell_type": "code",
   "execution_count": 236,
   "metadata": {},
   "outputs": [
    {
     "data": {
      "text/plain": [
       "[Text(0, 0.5, 'avg_speed [m/s]'), Text(0.5, 0, 'hour')]"
      ]
     },
     "execution_count": 236,
     "metadata": {},
     "output_type": "execute_result"
    },
    {
     "data": {
      "image/png": "[encoded data removed]",
      "text/plain": [
       "<Figure size 432x288 with 1 Axes>"
      ]
     },
     "metadata": {},
     "output_type": "display_data"
    }
   ],
   "source": [
    "#df_clean_new.groupby('city_id').agg({'speed':'mean'}).plot.bar()\n",
    "plt.figure(figsize=(6,4))\n",
    "ax = sns.barplot(x=\"city_id\", y=\"speed\", hue=\"distance_measure\", data=df_clean_new)\n",
    "plt.title('geographical_check')\n",
    "ax.set(xlabel='hour', ylabel='avg_speed [m/s]')"
   ]
  },
  {
   "cell_type": "markdown",
   "metadata": {},
   "source": [
    "From the graph I can confirm that only pentos has a significantly better avg_speed using 'road' assignatin method."
   ]
  },
  {
   "cell_type": "code",
   "execution_count": 237,
   "metadata": {},
   "outputs": [
    {
     "data": {
      "text/html": [
       "<div>\n",
       "<style scoped>\n",
       "    .dataframe tbody tr th:only-of-type {\n",
       "        vertical-align: middle;\n",
       "    }\n",
       "\n",
       "    .dataframe tbody tr th {\n",
       "        vertical-align: top;\n",
       "    }\n",
       "\n",
       "    .dataframe thead th {\n",
       "        text-align: right;\n",
       "    }\n",
       "</style>\n",
       "<table border=\"1\" class=\"dataframe\">\n",
       "  <thead>\n",
       "    <tr style=\"text-align: right;\">\n",
       "      <th></th>\n",
       "      <th>avg_speed</th>\n",
       "      <th>duration</th>\n",
       "    </tr>\n",
       "    <tr>\n",
       "      <th>distance_measure</th>\n",
       "      <th></th>\n",
       "      <th></th>\n",
       "    </tr>\n",
       "  </thead>\n",
       "  <tbody>\n",
       "    <tr>\n",
       "      <th>linear</th>\n",
       "      <td>6.152283</td>\n",
       "      <td>554.339647</td>\n",
       "    </tr>\n",
       "    <tr>\n",
       "      <th>road</th>\n",
       "      <td>6.410114</td>\n",
       "      <td>550.843461</td>\n",
       "    </tr>\n",
       "  </tbody>\n",
       "</table>\n",
       "</div>"
      ],
      "text/plain": [
       "                  avg_speed    duration\n",
       "distance_measure                       \n",
       "linear             6.152283  554.339647\n",
       "road               6.410114  550.843461"
      ]
     },
     "execution_count": 237,
     "metadata": {},
     "output_type": "execute_result"
    }
   ],
   "source": [
    "#bravos\n",
    "prova=df_clean_new[filter5]\n",
    "prova[['speed','distance_measure','duration']].groupby('distance_measure').agg(avg_speed=('speed','mean'), duration=('duration','mean'))"
   ]
  },
  {
   "cell_type": "code",
   "execution_count": 238,
   "metadata": {},
   "outputs": [
    {
     "data": {
      "text/html": [
       "<div>\n",
       "<style scoped>\n",
       "    .dataframe tbody tr th:only-of-type {\n",
       "        vertical-align: middle;\n",
       "    }\n",
       "\n",
       "    .dataframe tbody tr th {\n",
       "        vertical-align: top;\n",
       "    }\n",
       "\n",
       "    .dataframe thead th {\n",
       "        text-align: right;\n",
       "    }\n",
       "</style>\n",
       "<table border=\"1\" class=\"dataframe\">\n",
       "  <thead>\n",
       "    <tr style=\"text-align: right;\">\n",
       "      <th></th>\n",
       "      <th>avg_speed</th>\n",
       "      <th>duration</th>\n",
       "    </tr>\n",
       "    <tr>\n",
       "      <th>distance_measure</th>\n",
       "      <th></th>\n",
       "      <th></th>\n",
       "    </tr>\n",
       "  </thead>\n",
       "  <tbody>\n",
       "    <tr>\n",
       "      <th>linear</th>\n",
       "      <td>3.041004</td>\n",
       "      <td>256.494224</td>\n",
       "    </tr>\n",
       "    <tr>\n",
       "      <th>road</th>\n",
       "      <td>3.240876</td>\n",
       "      <td>256.668416</td>\n",
       "    </tr>\n",
       "  </tbody>\n",
       "</table>\n",
       "</div>"
      ],
      "text/plain": [
       "                  avg_speed    duration\n",
       "distance_measure                       \n",
       "linear             3.041004  256.494224\n",
       "road               3.240876  256.668416"
      ]
     },
     "execution_count": 238,
     "metadata": {},
     "output_type": "execute_result"
    }
   ],
   "source": [
    "#pentos\n",
    "prova2=df_clean_new[filter4]\n",
    "prova2[['speed','distance_measure','duration']].groupby('distance_measure').agg(avg_speed=('speed','mean'), duration=('duration','mean'))"
   ]
  },
  {
   "cell_type": "markdown",
   "metadata": {},
   "source": [
    "## 3.3 Rush hours check [13-->20]"
   ]
  },
  {
   "cell_type": "markdown",
   "metadata": {},
   "source": [
    "H1: during the rush hour the pickups assigned with the api query are significantly faster"
   ]
  },
  {
   "cell_type": "code",
   "execution_count": 239,
   "metadata": {},
   "outputs": [],
   "source": [
    "filter7 = (df_clean_new['started_at_hour']>=13) & (df_clean_new['started_at_hour']<=20)\n",
    "df_rush=df_clean_new[filter7]\n"
   ]
  },
  {
   "cell_type": "code",
   "execution_count": 240,
   "metadata": {},
   "outputs": [],
   "source": [
    "filter4=df_rush['city_id']=='pentos'\n",
    "filter5=df_rush['city_id']=='bravos'\n",
    "filter6=df_rush['city_id']=='volantis'\n",
    "\n",
    "pentos=df_rush[filter4]\n",
    "pentos_road=pentos[pentos['distance_measure']=='road'].speed\n",
    "pentos_linear=pentos[pentos['distance_measure']=='linear'].speed\n",
    "\n",
    "bravos=df_rush[filter5]\n",
    "bravos_road=bravos[bravos['distance_measure']=='road'].speed\n",
    "bravos_linear=bravos[bravos['distance_measure']=='linear'].speed\n",
    "\n",
    "volantis=df_rush[filter6]\n",
    "volantis_road=volantis[volantis['distance_measure']=='road'].speed\n",
    "volantis_linear=volantis[volantis['distance_measure']=='linear'].speed\n"
   ]
  },
  {
   "cell_type": "code",
   "execution_count": 241,
   "metadata": {},
   "outputs": [
    {
     "data": {
      "text/plain": [
       "'--> Null(H0) hypotesis rejected'"
      ]
     },
     "execution_count": 241,
     "metadata": {},
     "output_type": "execute_result"
    }
   ],
   "source": [
    "res=stats.ttest_ind(pento_road, pento_linear)\n",
    "checkPValue(res[1]/2)"
   ]
  },
  {
   "cell_type": "code",
   "execution_count": 242,
   "metadata": {},
   "outputs": [
    {
     "data": {
      "text/plain": [
       "'--> We cannot reject the null hypotesis'"
      ]
     },
     "execution_count": 242,
     "metadata": {},
     "output_type": "execute_result"
    }
   ],
   "source": [
    "res=stats.ttest_ind(bravo_road, bravo_linear)\n",
    "checkPValue(res[1]/2)"
   ]
  },
  {
   "cell_type": "code",
   "execution_count": 243,
   "metadata": {},
   "outputs": [
    {
     "data": {
      "text/plain": [
       "'--> We cannot reject the null hypotesis'"
      ]
     },
     "execution_count": 243,
     "metadata": {},
     "output_type": "execute_result"
    }
   ],
   "source": [
    "res=stats.ttest_ind(volantis_road, volantis_linear)\n",
    "checkPValue(res[1]/2)"
   ]
  },
  {
   "cell_type": "markdown",
   "metadata": {},
   "source": [
    "According to the test **the p-value is larger than 5%**, the odds of quicker rides with road method assignment are due to chance in bravos and volantis, while are statistically significant in pentos, even during the rush hours."
   ]
  },
  {
   "cell_type": "markdown",
   "metadata": {},
   "source": [
    "## 3.4 max price it would make sense to pay per query "
   ]
  },
  {
   "cell_type": "markdown",
   "metadata": {},
   "source": [
    "Avg duration time for a ride with 'road' pickup is ~ 814+294+100= 1208 second, while with linear methos is 1211. The avg difference is 3 seconds, not relevant enough to justify a payment per query."
   ]
  },
  {
   "cell_type": "code",
   "execution_count": 266,
   "metadata": {},
   "outputs": [
    {
     "data": {
      "text/html": [
       "<div>\n",
       "<style scoped>\n",
       "    .dataframe tbody tr th:only-of-type {\n",
       "        vertical-align: middle;\n",
       "    }\n",
       "\n",
       "    .dataframe tbody tr th {\n",
       "        vertical-align: top;\n",
       "    }\n",
       "\n",
       "    .dataframe thead th {\n",
       "        text-align: right;\n",
       "    }\n",
       "</style>\n",
       "<table border=\"1\" class=\"dataframe\">\n",
       "  <thead>\n",
       "    <tr style=\"text-align: right;\">\n",
       "      <th></th>\n",
       "      <th>duration</th>\n",
       "    </tr>\n",
       "    <tr>\n",
       "      <th>type</th>\n",
       "      <th></th>\n",
       "    </tr>\n",
       "  </thead>\n",
       "  <tbody>\n",
       "    <tr>\n",
       "      <th>driving_to_destination</th>\n",
       "      <td>814.867148</td>\n",
       "    </tr>\n",
       "    <tr>\n",
       "      <th>going_to_pickup</th>\n",
       "      <td>294.073515</td>\n",
       "    </tr>\n",
       "    <tr>\n",
       "      <th>waiting_for_rider</th>\n",
       "      <td>100.752941</td>\n",
       "    </tr>\n",
       "  </tbody>\n",
       "</table>\n",
       "</div>"
      ],
      "text/plain": [
       "                          duration\n",
       "type                              \n",
       "driving_to_destination  814.867148\n",
       "going_to_pickup         294.073515\n",
       "waiting_for_rider       100.752941"
      ]
     },
     "execution_count": 266,
     "metadata": {},
     "output_type": "execute_result"
    }
   ],
   "source": [
    "filter3=df_clean_new['distance_measure']=='road'\n",
    "df_clean_new[filter3].groupby('type').agg({'duration':'mean'})"
   ]
  },
  {
   "cell_type": "code",
   "execution_count": 267,
   "metadata": {},
   "outputs": [
    {
     "data": {
      "text/html": [
       "<div>\n",
       "<style scoped>\n",
       "    .dataframe tbody tr th:only-of-type {\n",
       "        vertical-align: middle;\n",
       "    }\n",
       "\n",
       "    .dataframe tbody tr th {\n",
       "        vertical-align: top;\n",
       "    }\n",
       "\n",
       "    .dataframe thead th {\n",
       "        text-align: right;\n",
       "    }\n",
       "</style>\n",
       "<table border=\"1\" class=\"dataframe\">\n",
       "  <thead>\n",
       "    <tr style=\"text-align: right;\">\n",
       "      <th></th>\n",
       "      <th>duration</th>\n",
       "    </tr>\n",
       "    <tr>\n",
       "      <th>type</th>\n",
       "      <th></th>\n",
       "    </tr>\n",
       "  </thead>\n",
       "  <tbody>\n",
       "    <tr>\n",
       "      <th>driving_to_destination</th>\n",
       "      <td>815.931260</td>\n",
       "    </tr>\n",
       "    <tr>\n",
       "      <th>going_to_pickup</th>\n",
       "      <td>295.725517</td>\n",
       "    </tr>\n",
       "    <tr>\n",
       "      <th>waiting_for_rider</th>\n",
       "      <td>101.768373</td>\n",
       "    </tr>\n",
       "  </tbody>\n",
       "</table>\n",
       "</div>"
      ],
      "text/plain": [
       "                          duration\n",
       "type                              \n",
       "driving_to_destination  815.931260\n",
       "going_to_pickup         295.725517\n",
       "waiting_for_rider       101.768373"
      ]
     },
     "execution_count": 267,
     "metadata": {},
     "output_type": "execute_result"
    }
   ],
   "source": [
    "df_clean_new[~filter3].groupby('type').agg({'duration':'mean'})"
   ]
  },
  {
   "cell_type": "code",
   "execution_count": 277,
   "metadata": {},
   "outputs": [
    {
     "data": {
      "text/html": [
       "<div>\n",
       "<style scoped>\n",
       "    .dataframe tbody tr th:only-of-type {\n",
       "        vertical-align: middle;\n",
       "    }\n",
       "\n",
       "    .dataframe tbody tr th {\n",
       "        vertical-align: top;\n",
       "    }\n",
       "\n",
       "    .dataframe thead th {\n",
       "        text-align: right;\n",
       "    }\n",
       "</style>\n",
       "<table border=\"1\" class=\"dataframe\">\n",
       "  <thead>\n",
       "    <tr style=\"text-align: right;\">\n",
       "      <th></th>\n",
       "      <th>distance</th>\n",
       "    </tr>\n",
       "    <tr>\n",
       "      <th>city_id</th>\n",
       "      <th></th>\n",
       "    </tr>\n",
       "  </thead>\n",
       "  <tbody>\n",
       "    <tr>\n",
       "      <th>bravos</th>\n",
       "      <td>1779.971781</td>\n",
       "    </tr>\n",
       "    <tr>\n",
       "      <th>pentos</th>\n",
       "      <td>712.513932</td>\n",
       "    </tr>\n",
       "    <tr>\n",
       "      <th>volantis</th>\n",
       "      <td>832.011837</td>\n",
       "    </tr>\n",
       "  </tbody>\n",
       "</table>\n",
       "</div>"
      ],
      "text/plain": [
       "             distance\n",
       "city_id              \n",
       "bravos    1779.971781\n",
       "pentos     712.513932\n",
       "volantis   832.011837"
      ]
     },
     "execution_count": 277,
     "metadata": {},
     "output_type": "execute_result"
    }
   ],
   "source": [
    "#avg pickup distance for the 3 cities\n",
    "df_clean_new[['duration','city_id','distance']].groupby('city_id').agg({'distance':'mean'})"
   ]
  },
  {
   "cell_type": "markdown",
   "metadata": {},
   "source": [
    "pentos has the smallest avg pickup distance."
   ]
  },
  {
   "cell_type": "markdown",
   "metadata": {},
   "source": [
    "# Answers"
   ]
  },
  {
   "cell_type": "markdown",
   "metadata": {},
   "source": [
    "`1.Should the company move towards road distance? What's the max price it would make sense to pay per query? (make all the assumptions you need, and make them explicit)`\n",
    "\n",
    "- I would not recommend the company to move towards road distance globally, since the cost does not have a relevant ROI, even though I would run a second experiment with the 'haversine_speed' as test variable (see answer 2). Could be profitable in cities with variable traffic and small pickup distances, but we should run more experiments in cities with these characteristics to tell it.\n",
    "- Another reason is that I csn see many pickup requests where the passenger didn't show up. In all these cases the company would waste the money spent for the api query.\n",
    "- The avg difference for a complete sequence (taxi using 'road'- taxi using 'linear') is 3 seconds, not relevant enough to justify a payment per query.\n"
   ]
  },
  {
   "cell_type": "markdown",
   "metadata": {},
   "source": [
    "`2.How would you improve the experimental design? Would you collect any additional data?`\n",
    "\n",
    "- I would collect more data (1 month time span), since 2 days are not enough to get a good hypothesis test result. In fact the outcome might be influenced by bias o some events happening in those days.\n",
    "\n",
    "- ***I would collect the information about the 'linear' distance (haversine_distance from the passenger)*** also for the taxi with the road pickup assignement method, in order to calculate the 'haversine_speed'= haversine_distance/duration, and  run the A/B test using this variable.\n",
    "  \n",
    "- In order to minimize the bias, I would divide the time available in 2 spans, and swap the two groups after the first span.\n",
    "\n",
    "- Marketing topic: I would evaluate if the  predicted arrival time (of the taxi) is more precise using the road method. This would mean that I could predict exactly the time it takes for the pickup operation and for travelling to the destination  (becouse I am weighting the distance with the traffic situation) and use this as claim to gain consumers' reliability."
   ]
  },
  {
   "cell_type": "code",
   "execution_count": null,
   "metadata": {},
   "outputs": [],
   "source": []
  }
 ],
 "metadata": {
  "kernelspec": {
   "display_name": "Python 3",
   "language": "python",
   "name": "python3"
  },
  "language_info": {
   "codemirror_mode": {
    "name": "ipython",
    "version": 3
   },
   "file_extension": ".py",
   "mimetype": "text/x-python",
   "name": "python",
   "nbconvert_exporter": "python",
   "pygments_lexer": "ipython3",
   "version": "3.6.2"
  }
 },
 "nbformat": 4,
 "nbformat_minor": 2
}
