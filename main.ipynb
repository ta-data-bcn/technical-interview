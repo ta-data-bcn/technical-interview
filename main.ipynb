{
 "cells": [
  {
   "cell_type": "markdown",
   "metadata": {},
   "source": [
    "## Part 1\n",
    "\n",
    "### Challenge:\n",
    "As AirBnB's webpage announces a raise on this elements, we should check on number of reservations and increase of night price.\n",
    "\n",
    "#### Samples:\n",
    "The best option would be to perform an A/B test on flats of similar characteristics, but that correspond to the mean of the market.\n",
    "\n",
    "#### Metrics:\n",
    "- Conversion rates (number of reservations).\n",
    "- Click rates.\n",
    "- Night price.\n",
    "\n",
    "#### Hypothesis:\n",
    "- The professional photo increments the views of the rental flat.\n",
    "- Therefore, the user rents it more often.\n",
    "- And can rise its price, as there's more demand\n",
    "\n",
    "#### Period:\n",
    "It should last at least 1 week, and 1 month would be ideal to see if weekends affect the metrics."
   ]
  },
  {
   "cell_type": "markdown",
   "metadata": {},
   "source": [
    "## Part 2"
   ]
  },
  {
   "cell_type": "markdown",
   "metadata": {},
   "source": [
    "The designed experiment is very simple. For a period of 5 days, all trips in 3 cities (Bravos, Pentos and Volantis) have been randomly assigned using linear or road distance:\n",
    "\n",
    "- Trips whose trip_id starts with digits 0-8 were assigned using road distance.\n",
    "- Trips whose trip_id starts with digits 9-f were assigned using linear distance.\n",
    "\n",
    "Data description\n",
    "The collected data is available in this link. Each object represent a vehicle_interval that contains the following attributes:\n",
    "\n",
    "- duration: how long the interval last, in seconds.\n",
    "- distance: how far the vehicle moved in this interval, in meters.\n",
    "- started_at: when the interval started, UTC Time.\n",
    "- trip_id: uniquely identifies the trip.\n",
    "- vehicle_id: uniquely identifies the vehicle.\n",
    "- rider_id: uniquely identifies the rider. (Not found in the data)\n",
    "- city_id: either bravos, pentos and volantis.\n",
    "- type: can be going_to_pickup, waiting_for_rider or driving_to_destination.\n"
   ]
  },
  {
   "cell_type": "markdown",
   "metadata": {},
   "source": [
    "## Challenge\n",
    "Try to answer the following questions:\n",
    "\n",
    "- Should the company move towards road distance? What's the max price it would make sense to pay per query? (make all the assumptions you need, and make them explicit)\n",
    "- How would you improve the experimental design? Would you collect any additional data?"
   ]
  },
  {
   "cell_type": "code",
   "execution_count": 1,
   "metadata": {},
   "outputs": [],
   "source": [
    "import numpy as np, pandas as pd\n",
    "from scipy import stats\n",
    "from matplotlib import pyplot as plt\n",
    "import datetime"
   ]
  },
  {
   "cell_type": "code",
   "execution_count": 2,
   "metadata": {},
   "outputs": [
    {
     "data": {
      "text/html": [
       "<div>\n",
       "<style scoped>\n",
       "    .dataframe tbody tr th:only-of-type {\n",
       "        vertical-align: middle;\n",
       "    }\n",
       "\n",
       "    .dataframe tbody tr th {\n",
       "        vertical-align: top;\n",
       "    }\n",
       "\n",
       "    .dataframe thead th {\n",
       "        text-align: right;\n",
       "    }\n",
       "</style>\n",
       "<table border=\"1\" class=\"dataframe\">\n",
       "  <thead>\n",
       "    <tr style=\"text-align: right;\">\n",
       "      <th></th>\n",
       "      <th>duration</th>\n",
       "      <th>distance</th>\n",
       "      <th>started_at</th>\n",
       "      <th>trip_id</th>\n",
       "      <th>vehicle_id</th>\n",
       "      <th>city_id</th>\n",
       "      <th>type</th>\n",
       "    </tr>\n",
       "  </thead>\n",
       "  <tbody>\n",
       "    <tr>\n",
       "      <td>0</td>\n",
       "      <td>857</td>\n",
       "      <td>5384</td>\n",
       "      <td>2016-10-03 13:00:00.286999941</td>\n",
       "      <td>c00cee6963e0dc66e50e271239426914</td>\n",
       "      <td>52d38cf1a3240d5cbdcf730f2d9a47d6</td>\n",
       "      <td>pentos</td>\n",
       "      <td>driving_to_destination</td>\n",
       "    </tr>\n",
       "    <tr>\n",
       "      <td>1</td>\n",
       "      <td>245</td>\n",
       "      <td>1248</td>\n",
       "      <td>2016-10-03 13:00:00.852999926</td>\n",
       "      <td>427425e1f4318ca2461168bdd6e4fcbd</td>\n",
       "      <td>8336b28f24c3e7a1e3d582073b164895</td>\n",
       "      <td>volantis</td>\n",
       "      <td>going_to_pickup</td>\n",
       "    </tr>\n",
       "    <tr>\n",
       "      <td>2</td>\n",
       "      <td>1249</td>\n",
       "      <td>5847</td>\n",
       "      <td>2016-10-03 13:00:01.670000076</td>\n",
       "      <td>757867f6d7c00ef92a65bfaa3895943f</td>\n",
       "      <td>8885c59374cc539163e83f01ed59fd16</td>\n",
       "      <td>pentos</td>\n",
       "      <td>driving_to_destination</td>\n",
       "    </tr>\n",
       "    <tr>\n",
       "      <td>3</td>\n",
       "      <td>471</td>\n",
       "      <td>2585</td>\n",
       "      <td>2016-10-03 13:00:01.841000080</td>\n",
       "      <td>d09d1301d361f7359d0d936557d10f89</td>\n",
       "      <td>81b63920454f70b6755a494e3b28b3a7</td>\n",
       "      <td>bravos</td>\n",
       "      <td>going_to_pickup</td>\n",
       "    </tr>\n",
       "    <tr>\n",
       "      <td>4</td>\n",
       "      <td>182</td>\n",
       "      <td>743</td>\n",
       "      <td>2016-10-03 13:00:01.970000029</td>\n",
       "      <td>00f20a701f0ec2519353ef3ffaf75068</td>\n",
       "      <td>b73030977cbad61c9db55418909864fa</td>\n",
       "      <td>pentos</td>\n",
       "      <td>going_to_pickup</td>\n",
       "    </tr>\n",
       "  </tbody>\n",
       "</table>\n",
       "</div>"
      ],
      "text/plain": [
       "  duration distance                    started_at  \\\n",
       "0      857     5384 2016-10-03 13:00:00.286999941   \n",
       "1      245     1248 2016-10-03 13:00:00.852999926   \n",
       "2     1249     5847 2016-10-03 13:00:01.670000076   \n",
       "3      471     2585 2016-10-03 13:00:01.841000080   \n",
       "4      182      743 2016-10-03 13:00:01.970000029   \n",
       "\n",
       "                            trip_id                        vehicle_id  \\\n",
       "0  c00cee6963e0dc66e50e271239426914  52d38cf1a3240d5cbdcf730f2d9a47d6   \n",
       "1  427425e1f4318ca2461168bdd6e4fcbd  8336b28f24c3e7a1e3d582073b164895   \n",
       "2  757867f6d7c00ef92a65bfaa3895943f  8885c59374cc539163e83f01ed59fd16   \n",
       "3  d09d1301d361f7359d0d936557d10f89  81b63920454f70b6755a494e3b28b3a7   \n",
       "4  00f20a701f0ec2519353ef3ffaf75068  b73030977cbad61c9db55418909864fa   \n",
       "\n",
       "    city_id                    type  \n",
       "0    pentos  driving_to_destination  \n",
       "1  volantis         going_to_pickup  \n",
       "2    pentos  driving_to_destination  \n",
       "3    bravos         going_to_pickup  \n",
       "4    pentos         going_to_pickup  "
      ]
     },
     "execution_count": 2,
     "metadata": {},
     "output_type": "execute_result"
    }
   ],
   "source": [
    "data = pd.read_json('data/intervals_challenge.json', lines=True)\n",
    "original_data = pd.read_json('data/intervals_challenge.json', lines=True)\n",
    "data.head()"
   ]
  },
  {
   "cell_type": "code",
   "execution_count": 3,
   "metadata": {
    "scrolled": true
   },
   "outputs": [
    {
     "name": "stdout",
     "output_type": "stream",
     "text": [
      "<class 'pandas.core.frame.DataFrame'>\n",
      "RangeIndex: 165170 entries, 0 to 165169\n",
      "Data columns (total 7 columns):\n",
      "duration      165170 non-null object\n",
      "distance      165170 non-null object\n",
      "started_at    165170 non-null datetime64[ns]\n",
      "trip_id       165170 non-null object\n",
      "vehicle_id    165170 non-null object\n",
      "city_id       165170 non-null object\n",
      "type          165170 non-null object\n",
      "dtypes: datetime64[ns](1), object(6)\n",
      "memory usage: 8.8+ MB\n"
     ]
    }
   ],
   "source": [
    "data.info()"
   ]
  },
  {
   "cell_type": "code",
   "execution_count": 4,
   "metadata": {},
   "outputs": [
    {
     "data": {
      "text/plain": [
       "(165170, 7)"
      ]
     },
     "execution_count": 4,
     "metadata": {},
     "output_type": "execute_result"
    }
   ],
   "source": [
    "data.shape"
   ]
  },
  {
   "cell_type": "markdown",
   "metadata": {},
   "source": [
    "#### Because we only need the trips to pickup we can already sort it out:"
   ]
  },
  {
   "cell_type": "code",
   "execution_count": 5,
   "metadata": {
    "scrolled": false
   },
   "outputs": [
    {
     "data": {
      "text/plain": [
       "going_to_pickup           58510\n",
       "waiting_for_rider         53746\n",
       "driving_to_destination    52914\n",
       "Name: type, dtype: int64"
      ]
     },
     "execution_count": 5,
     "metadata": {},
     "output_type": "execute_result"
    }
   ],
   "source": [
    "data.type.value_counts()"
   ]
  },
  {
   "cell_type": "code",
   "execution_count": 6,
   "metadata": {},
   "outputs": [],
   "source": [
    "data_pickup = data[data.type == 'going_to_pickup'].copy()"
   ]
  },
  {
   "cell_type": "code",
   "execution_count": 7,
   "metadata": {},
   "outputs": [
    {
     "data": {
      "text/html": [
       "<div>\n",
       "<style scoped>\n",
       "    .dataframe tbody tr th:only-of-type {\n",
       "        vertical-align: middle;\n",
       "    }\n",
       "\n",
       "    .dataframe tbody tr th {\n",
       "        vertical-align: top;\n",
       "    }\n",
       "\n",
       "    .dataframe thead th {\n",
       "        text-align: right;\n",
       "    }\n",
       "</style>\n",
       "<table border=\"1\" class=\"dataframe\">\n",
       "  <thead>\n",
       "    <tr style=\"text-align: right;\">\n",
       "      <th></th>\n",
       "      <th>duration</th>\n",
       "      <th>distance</th>\n",
       "      <th>started_at</th>\n",
       "      <th>trip_id</th>\n",
       "      <th>vehicle_id</th>\n",
       "      <th>city_id</th>\n",
       "      <th>type</th>\n",
       "    </tr>\n",
       "  </thead>\n",
       "  <tbody>\n",
       "    <tr>\n",
       "      <td>1</td>\n",
       "      <td>245</td>\n",
       "      <td>1248</td>\n",
       "      <td>2016-10-03 13:00:00.852999926</td>\n",
       "      <td>427425e1f4318ca2461168bdd6e4fcbd</td>\n",
       "      <td>8336b28f24c3e7a1e3d582073b164895</td>\n",
       "      <td>volantis</td>\n",
       "      <td>going_to_pickup</td>\n",
       "    </tr>\n",
       "    <tr>\n",
       "      <td>3</td>\n",
       "      <td>471</td>\n",
       "      <td>2585</td>\n",
       "      <td>2016-10-03 13:00:01.841000080</td>\n",
       "      <td>d09d1301d361f7359d0d936557d10f89</td>\n",
       "      <td>81b63920454f70b6755a494e3b28b3a7</td>\n",
       "      <td>bravos</td>\n",
       "      <td>going_to_pickup</td>\n",
       "    </tr>\n",
       "    <tr>\n",
       "      <td>4</td>\n",
       "      <td>182</td>\n",
       "      <td>743</td>\n",
       "      <td>2016-10-03 13:00:01.970000029</td>\n",
       "      <td>00f20a701f0ec2519353ef3ffaf75068</td>\n",
       "      <td>b73030977cbad61c9db55418909864fa</td>\n",
       "      <td>pentos</td>\n",
       "      <td>going_to_pickup</td>\n",
       "    </tr>\n",
       "    <tr>\n",
       "      <td>5</td>\n",
       "      <td>599</td>\n",
       "      <td>1351</td>\n",
       "      <td>2016-10-03 13:00:02.154000044</td>\n",
       "      <td>158e7bc8d42e1d8c94767b00c8f89568</td>\n",
       "      <td>126e868fb282852c2fa95d88878686bf</td>\n",
       "      <td>volantis</td>\n",
       "      <td>going_to_pickup</td>\n",
       "    </tr>\n",
       "    <tr>\n",
       "      <td>9</td>\n",
       "      <td>1525</td>\n",
       "      <td>2674</td>\n",
       "      <td>2016-10-03 13:00:05.637000084</td>\n",
       "      <td>d3e6e8fb50c02d66feca2c60830c4fcc</td>\n",
       "      <td>b0906e917dc5cc0bcba190fd80079a74</td>\n",
       "      <td>bravos</td>\n",
       "      <td>going_to_pickup</td>\n",
       "    </tr>\n",
       "  </tbody>\n",
       "</table>\n",
       "</div>"
      ],
      "text/plain": [
       "  duration distance                    started_at  \\\n",
       "1      245     1248 2016-10-03 13:00:00.852999926   \n",
       "3      471     2585 2016-10-03 13:00:01.841000080   \n",
       "4      182      743 2016-10-03 13:00:01.970000029   \n",
       "5      599     1351 2016-10-03 13:00:02.154000044   \n",
       "9     1525     2674 2016-10-03 13:00:05.637000084   \n",
       "\n",
       "                            trip_id                        vehicle_id  \\\n",
       "1  427425e1f4318ca2461168bdd6e4fcbd  8336b28f24c3e7a1e3d582073b164895   \n",
       "3  d09d1301d361f7359d0d936557d10f89  81b63920454f70b6755a494e3b28b3a7   \n",
       "4  00f20a701f0ec2519353ef3ffaf75068  b73030977cbad61c9db55418909864fa   \n",
       "5  158e7bc8d42e1d8c94767b00c8f89568  126e868fb282852c2fa95d88878686bf   \n",
       "9  d3e6e8fb50c02d66feca2c60830c4fcc  b0906e917dc5cc0bcba190fd80079a74   \n",
       "\n",
       "    city_id             type  \n",
       "1  volantis  going_to_pickup  \n",
       "3    bravos  going_to_pickup  \n",
       "4    pentos  going_to_pickup  \n",
       "5  volantis  going_to_pickup  \n",
       "9    bravos  going_to_pickup  "
      ]
     },
     "execution_count": 7,
     "metadata": {},
     "output_type": "execute_result"
    }
   ],
   "source": [
    "data_pickup.head()"
   ]
  },
  {
   "cell_type": "markdown",
   "metadata": {},
   "source": [
    "We want to compare linear from road trips, so we should make the visualization easier than the rule we have of 'trip_id starts with 0-8 or 9-f'."
   ]
  },
  {
   "cell_type": "markdown",
   "metadata": {},
   "source": [
    "#### Define a function to sort linear from road trips"
   ]
  },
  {
   "cell_type": "code",
   "execution_count": 8,
   "metadata": {},
   "outputs": [],
   "source": [
    "def find_type(value):\n",
    "    test = [str(i) for i in range(0,9)]\n",
    "    if value.startswith(tuple(test)):\n",
    "        return \"road\"\n",
    "    else:\n",
    "        return \"linear\"\n",
    "    \n",
    "data_pickup[\"trip_type\"] = data_pickup[\"trip_id\"].apply(find_type)"
   ]
  },
  {
   "cell_type": "code",
   "execution_count": 9,
   "metadata": {
    "scrolled": true
   },
   "outputs": [
    {
     "data": {
      "text/html": [
       "<div>\n",
       "<style scoped>\n",
       "    .dataframe tbody tr th:only-of-type {\n",
       "        vertical-align: middle;\n",
       "    }\n",
       "\n",
       "    .dataframe tbody tr th {\n",
       "        vertical-align: top;\n",
       "    }\n",
       "\n",
       "    .dataframe thead th {\n",
       "        text-align: right;\n",
       "    }\n",
       "</style>\n",
       "<table border=\"1\" class=\"dataframe\">\n",
       "  <thead>\n",
       "    <tr style=\"text-align: right;\">\n",
       "      <th></th>\n",
       "      <th>duration</th>\n",
       "      <th>distance</th>\n",
       "      <th>started_at</th>\n",
       "      <th>trip_id</th>\n",
       "      <th>vehicle_id</th>\n",
       "      <th>city_id</th>\n",
       "      <th>type</th>\n",
       "      <th>trip_type</th>\n",
       "    </tr>\n",
       "  </thead>\n",
       "  <tbody>\n",
       "    <tr>\n",
       "      <td>1</td>\n",
       "      <td>245</td>\n",
       "      <td>1248</td>\n",
       "      <td>2016-10-03 13:00:00.852999926</td>\n",
       "      <td>427425e1f4318ca2461168bdd6e4fcbd</td>\n",
       "      <td>8336b28f24c3e7a1e3d582073b164895</td>\n",
       "      <td>volantis</td>\n",
       "      <td>going_to_pickup</td>\n",
       "      <td>road</td>\n",
       "    </tr>\n",
       "    <tr>\n",
       "      <td>3</td>\n",
       "      <td>471</td>\n",
       "      <td>2585</td>\n",
       "      <td>2016-10-03 13:00:01.841000080</td>\n",
       "      <td>d09d1301d361f7359d0d936557d10f89</td>\n",
       "      <td>81b63920454f70b6755a494e3b28b3a7</td>\n",
       "      <td>bravos</td>\n",
       "      <td>going_to_pickup</td>\n",
       "      <td>linear</td>\n",
       "    </tr>\n",
       "  </tbody>\n",
       "</table>\n",
       "</div>"
      ],
      "text/plain": [
       "  duration distance                    started_at  \\\n",
       "1      245     1248 2016-10-03 13:00:00.852999926   \n",
       "3      471     2585 2016-10-03 13:00:01.841000080   \n",
       "\n",
       "                            trip_id                        vehicle_id  \\\n",
       "1  427425e1f4318ca2461168bdd6e4fcbd  8336b28f24c3e7a1e3d582073b164895   \n",
       "3  d09d1301d361f7359d0d936557d10f89  81b63920454f70b6755a494e3b28b3a7   \n",
       "\n",
       "    city_id             type trip_type  \n",
       "1  volantis  going_to_pickup      road  \n",
       "3    bravos  going_to_pickup    linear  "
      ]
     },
     "execution_count": 9,
     "metadata": {},
     "output_type": "execute_result"
    }
   ],
   "source": [
    "data_pickup.head(2)"
   ]
  },
  {
   "cell_type": "code",
   "execution_count": 10,
   "metadata": {},
   "outputs": [
    {
     "data": {
      "text/plain": [
       "road      33171\n",
       "linear    25339\n",
       "Name: trip_type, dtype: int64"
      ]
     },
     "execution_count": 10,
     "metadata": {},
     "output_type": "execute_result"
    }
   ],
   "source": [
    "data_pickup.trip_type.value_counts()"
   ]
  },
  {
   "cell_type": "markdown",
   "metadata": {},
   "source": [
    "We can observe the road trips are more common than linear trips."
   ]
  },
  {
   "cell_type": "markdown",
   "metadata": {},
   "source": [
    "As we are working with only one type of trip and we have sorted both road/linear, we can drop trip_id and type columns.\n",
    "We will check if we can drop other columns in the future."
   ]
  },
  {
   "cell_type": "code",
   "execution_count": 11,
   "metadata": {},
   "outputs": [],
   "source": [
    "data_pickup.drop(columns= ['trip_id', 'type'], inplace = True)"
   ]
  },
  {
   "cell_type": "code",
   "execution_count": 12,
   "metadata": {},
   "outputs": [
    {
     "data": {
      "text/html": [
       "<div>\n",
       "<style scoped>\n",
       "    .dataframe tbody tr th:only-of-type {\n",
       "        vertical-align: middle;\n",
       "    }\n",
       "\n",
       "    .dataframe tbody tr th {\n",
       "        vertical-align: top;\n",
       "    }\n",
       "\n",
       "    .dataframe thead th {\n",
       "        text-align: right;\n",
       "    }\n",
       "</style>\n",
       "<table border=\"1\" class=\"dataframe\">\n",
       "  <thead>\n",
       "    <tr style=\"text-align: right;\">\n",
       "      <th></th>\n",
       "      <th>duration</th>\n",
       "      <th>distance</th>\n",
       "      <th>started_at</th>\n",
       "      <th>vehicle_id</th>\n",
       "      <th>city_id</th>\n",
       "      <th>trip_type</th>\n",
       "    </tr>\n",
       "  </thead>\n",
       "  <tbody>\n",
       "    <tr>\n",
       "      <td>1</td>\n",
       "      <td>245</td>\n",
       "      <td>1248</td>\n",
       "      <td>2016-10-03 13:00:00.852999926</td>\n",
       "      <td>8336b28f24c3e7a1e3d582073b164895</td>\n",
       "      <td>volantis</td>\n",
       "      <td>road</td>\n",
       "    </tr>\n",
       "    <tr>\n",
       "      <td>3</td>\n",
       "      <td>471</td>\n",
       "      <td>2585</td>\n",
       "      <td>2016-10-03 13:00:01.841000080</td>\n",
       "      <td>81b63920454f70b6755a494e3b28b3a7</td>\n",
       "      <td>bravos</td>\n",
       "      <td>linear</td>\n",
       "    </tr>\n",
       "  </tbody>\n",
       "</table>\n",
       "</div>"
      ],
      "text/plain": [
       "  duration distance                    started_at  \\\n",
       "1      245     1248 2016-10-03 13:00:00.852999926   \n",
       "3      471     2585 2016-10-03 13:00:01.841000080   \n",
       "\n",
       "                         vehicle_id   city_id trip_type  \n",
       "1  8336b28f24c3e7a1e3d582073b164895  volantis      road  \n",
       "3  81b63920454f70b6755a494e3b28b3a7    bravos    linear  "
      ]
     },
     "execution_count": 12,
     "metadata": {},
     "output_type": "execute_result"
    }
   ],
   "source": [
    "data_pickup.head(2)"
   ]
  },
  {
   "cell_type": "markdown",
   "metadata": {},
   "source": [
    "We need to clean duration and distance columns of null.\n",
    "We will also drop registers equal to 0, as they don't apport reliable data to the analysis."
   ]
  },
  {
   "cell_type": "code",
   "execution_count": 13,
   "metadata": {},
   "outputs": [
    {
     "name": "stdout",
     "output_type": "stream",
     "text": [
      "<class 'pandas.core.frame.DataFrame'>\n",
      "Int64Index: 58510 entries, 1 to 165169\n",
      "Data columns (total 6 columns):\n",
      "duration      58510 non-null object\n",
      "distance      58510 non-null object\n",
      "started_at    58510 non-null datetime64[ns]\n",
      "vehicle_id    58510 non-null object\n",
      "city_id       58510 non-null object\n",
      "trip_type     58510 non-null object\n",
      "dtypes: datetime64[ns](1), object(5)\n",
      "memory usage: 3.1+ MB\n"
     ]
    }
   ],
   "source": [
    "data_pickup.info()"
   ]
  },
  {
   "cell_type": "code",
   "execution_count": 14,
   "metadata": {},
   "outputs": [
    {
     "data": {
      "text/html": [
       "<div>\n",
       "<style scoped>\n",
       "    .dataframe tbody tr th:only-of-type {\n",
       "        vertical-align: middle;\n",
       "    }\n",
       "\n",
       "    .dataframe tbody tr th {\n",
       "        vertical-align: top;\n",
       "    }\n",
       "\n",
       "    .dataframe thead th {\n",
       "        text-align: right;\n",
       "    }\n",
       "</style>\n",
       "<table border=\"1\" class=\"dataframe\">\n",
       "  <thead>\n",
       "    <tr style=\"text-align: right;\">\n",
       "      <th></th>\n",
       "      <th>duration</th>\n",
       "      <th>distance</th>\n",
       "      <th>started_at</th>\n",
       "      <th>vehicle_id</th>\n",
       "      <th>city_id</th>\n",
       "      <th>trip_type</th>\n",
       "    </tr>\n",
       "  </thead>\n",
       "  <tbody>\n",
       "    <tr>\n",
       "      <td>157043</td>\n",
       "      <td>0</td>\n",
       "      <td>0</td>\n",
       "      <td>2016-10-04 19:35:10.690000057</td>\n",
       "      <td>fe144f071ddf727c159cb81424473bc5</td>\n",
       "      <td>pentos</td>\n",
       "      <td>linear</td>\n",
       "    </tr>\n",
       "    <tr>\n",
       "      <td>156585</td>\n",
       "      <td>0</td>\n",
       "      <td>32</td>\n",
       "      <td>2016-10-04 19:31:56.186000109</td>\n",
       "      <td>37eeff2c2d3196680f9eeee4551884f3</td>\n",
       "      <td>volantis</td>\n",
       "      <td>linear</td>\n",
       "    </tr>\n",
       "    <tr>\n",
       "      <td>16378</td>\n",
       "      <td>0</td>\n",
       "      <td>543</td>\n",
       "      <td>2016-10-03 15:42:15.974999905</td>\n",
       "      <td>985f05a4c0e147abf311780b03dd3bf3</td>\n",
       "      <td>pentos</td>\n",
       "      <td>road</td>\n",
       "    </tr>\n",
       "    <tr>\n",
       "      <td>2801</td>\n",
       "      <td>0</td>\n",
       "      <td>34</td>\n",
       "      <td>2016-10-03 13:26:27.805999994</td>\n",
       "      <td>d77bd910c0ca199e66086fbb5d2a330c</td>\n",
       "      <td>pentos</td>\n",
       "      <td>road</td>\n",
       "    </tr>\n",
       "    <tr>\n",
       "      <td>45238</td>\n",
       "      <td>0</td>\n",
       "      <td>140</td>\n",
       "      <td>2016-10-03 20:03:38.665999889</td>\n",
       "      <td>af849f228883504a1d6b1b289f32fa8c</td>\n",
       "      <td>pentos</td>\n",
       "      <td>road</td>\n",
       "    </tr>\n",
       "    <tr>\n",
       "      <td>...</td>\n",
       "      <td>...</td>\n",
       "      <td>...</td>\n",
       "      <td>...</td>\n",
       "      <td>...</td>\n",
       "      <td>...</td>\n",
       "      <td>...</td>\n",
       "    </tr>\n",
       "    <tr>\n",
       "      <td>164555</td>\n",
       "      <td>NA</td>\n",
       "      <td>NA</td>\n",
       "      <td>2016-10-04 20:29:17.187999964</td>\n",
       "      <td>83211681343d5497dffecc7c380de1e3</td>\n",
       "      <td>pentos</td>\n",
       "      <td>linear</td>\n",
       "    </tr>\n",
       "    <tr>\n",
       "      <td>164553</td>\n",
       "      <td>NA</td>\n",
       "      <td>NA</td>\n",
       "      <td>2016-10-04 20:29:15.637000084</td>\n",
       "      <td>29d9800ccc54b1b80e4d86f4fcc9d508</td>\n",
       "      <td>pentos</td>\n",
       "      <td>linear</td>\n",
       "    </tr>\n",
       "    <tr>\n",
       "      <td>164552</td>\n",
       "      <td>NA</td>\n",
       "      <td>NA</td>\n",
       "      <td>2016-10-04 20:29:14.178999901</td>\n",
       "      <td>fc7018b877aff3a2c5a50fc37c95480b</td>\n",
       "      <td>pentos</td>\n",
       "      <td>road</td>\n",
       "    </tr>\n",
       "    <tr>\n",
       "      <td>164599</td>\n",
       "      <td>NA</td>\n",
       "      <td>NA</td>\n",
       "      <td>2016-10-04 20:29:36.647000074</td>\n",
       "      <td>d07b7c02cf576ccab551824f03f492f7</td>\n",
       "      <td>pentos</td>\n",
       "      <td>linear</td>\n",
       "    </tr>\n",
       "    <tr>\n",
       "      <td>165169</td>\n",
       "      <td>NA</td>\n",
       "      <td>NA</td>\n",
       "      <td>2016-10-04 20:36:20.473999977</td>\n",
       "      <td>27b7111eb7046e253c9896eee617b02e</td>\n",
       "      <td>volantis</td>\n",
       "      <td>road</td>\n",
       "    </tr>\n",
       "  </tbody>\n",
       "</table>\n",
       "<p>58510 rows × 6 columns</p>\n",
       "</div>"
      ],
      "text/plain": [
       "       duration distance                    started_at  \\\n",
       "157043        0        0 2016-10-04 19:35:10.690000057   \n",
       "156585        0       32 2016-10-04 19:31:56.186000109   \n",
       "16378         0      543 2016-10-03 15:42:15.974999905   \n",
       "2801          0       34 2016-10-03 13:26:27.805999994   \n",
       "45238         0      140 2016-10-03 20:03:38.665999889   \n",
       "...         ...      ...                           ...   \n",
       "164555       NA       NA 2016-10-04 20:29:17.187999964   \n",
       "164553       NA       NA 2016-10-04 20:29:15.637000084   \n",
       "164552       NA       NA 2016-10-04 20:29:14.178999901   \n",
       "164599       NA       NA 2016-10-04 20:29:36.647000074   \n",
       "165169       NA       NA 2016-10-04 20:36:20.473999977   \n",
       "\n",
       "                              vehicle_id   city_id trip_type  \n",
       "157043  fe144f071ddf727c159cb81424473bc5    pentos    linear  \n",
       "156585  37eeff2c2d3196680f9eeee4551884f3  volantis    linear  \n",
       "16378   985f05a4c0e147abf311780b03dd3bf3    pentos      road  \n",
       "2801    d77bd910c0ca199e66086fbb5d2a330c    pentos      road  \n",
       "45238   af849f228883504a1d6b1b289f32fa8c    pentos      road  \n",
       "...                                  ...       ...       ...  \n",
       "164555  83211681343d5497dffecc7c380de1e3    pentos    linear  \n",
       "164553  29d9800ccc54b1b80e4d86f4fcc9d508    pentos    linear  \n",
       "164552  fc7018b877aff3a2c5a50fc37c95480b    pentos      road  \n",
       "164599  d07b7c02cf576ccab551824f03f492f7    pentos    linear  \n",
       "165169  27b7111eb7046e253c9896eee617b02e  volantis      road  \n",
       "\n",
       "[58510 rows x 6 columns]"
      ]
     },
     "execution_count": 14,
     "metadata": {},
     "output_type": "execute_result"
    }
   ],
   "source": [
    "# Because duration and distance are mixed int and str arrays, we need to find out which values are not numbers before cleaning.\n",
    "data_pickup.duration = data_pickup.duration.astype('str')\n",
    "data_pickup.sort_values(by = 'duration')"
   ]
  },
  {
   "cell_type": "code",
   "execution_count": 15,
   "metadata": {},
   "outputs": [
    {
     "name": "stdout",
     "output_type": "stream",
     "text": [
      "duration NA:  299\n",
      "duration 0:  0\n",
      "distance NA:  299\n",
      "distance 0:  1421\n"
     ]
    }
   ],
   "source": [
    "print('duration NA: ', data_pickup[data_pickup.duration == 'NA'].duration.count())\n",
    "print('duration 0: ', data_pickup[data_pickup.duration == 0].duration.count())\n",
    "print('distance NA: ', data_pickup[data_pickup.distance == 'NA'].distance.count())\n",
    "print('distance 0: ', data_pickup[data_pickup.distance == 0].distance.count())\n"
   ]
  },
  {
   "cell_type": "code",
   "execution_count": 17,
   "metadata": {},
   "outputs": [],
   "source": [
    "data_pickup.drop(data_pickup[(data_pickup.duration == 'NA') |\n",
    "                             (data_pickup.duration == '0') |\n",
    "                             (data_pickup.distance == 'NA') |\n",
    "                             (data_pickup.distance == '0')].index,\n",
    "                 axis=0, inplace=True)\n",
    "\n",
    "data_pickup.duration = data_pickup.duration.astype('int64')\n",
    "data_pickup.distance = data_pickup.distance.astype('int64')"
   ]
  },
  {
   "cell_type": "code",
   "execution_count": 18,
   "metadata": {},
   "outputs": [
    {
     "data": {
      "text/html": [
       "<div>\n",
       "<style scoped>\n",
       "    .dataframe tbody tr th:only-of-type {\n",
       "        vertical-align: middle;\n",
       "    }\n",
       "\n",
       "    .dataframe tbody tr th {\n",
       "        vertical-align: top;\n",
       "    }\n",
       "\n",
       "    .dataframe thead th {\n",
       "        text-align: right;\n",
       "    }\n",
       "</style>\n",
       "<table border=\"1\" class=\"dataframe\">\n",
       "  <thead>\n",
       "    <tr style=\"text-align: right;\">\n",
       "      <th></th>\n",
       "      <th>duration</th>\n",
       "      <th>distance</th>\n",
       "      <th>started_at</th>\n",
       "      <th>vehicle_id</th>\n",
       "      <th>city_id</th>\n",
       "      <th>trip_type</th>\n",
       "    </tr>\n",
       "  </thead>\n",
       "  <tbody>\n",
       "    <tr>\n",
       "      <td>0</td>\n",
       "      <td>245</td>\n",
       "      <td>1248</td>\n",
       "      <td>2016-10-03 13:00:00.852999926</td>\n",
       "      <td>8336b28f24c3e7a1e3d582073b164895</td>\n",
       "      <td>volantis</td>\n",
       "      <td>road</td>\n",
       "    </tr>\n",
       "    <tr>\n",
       "      <td>1</td>\n",
       "      <td>471</td>\n",
       "      <td>2585</td>\n",
       "      <td>2016-10-03 13:00:01.841000080</td>\n",
       "      <td>81b63920454f70b6755a494e3b28b3a7</td>\n",
       "      <td>bravos</td>\n",
       "      <td>linear</td>\n",
       "    </tr>\n",
       "    <tr>\n",
       "      <td>2</td>\n",
       "      <td>182</td>\n",
       "      <td>743</td>\n",
       "      <td>2016-10-03 13:00:01.970000029</td>\n",
       "      <td>b73030977cbad61c9db55418909864fa</td>\n",
       "      <td>pentos</td>\n",
       "      <td>road</td>\n",
       "    </tr>\n",
       "    <tr>\n",
       "      <td>3</td>\n",
       "      <td>599</td>\n",
       "      <td>1351</td>\n",
       "      <td>2016-10-03 13:00:02.154000044</td>\n",
       "      <td>126e868fb282852c2fa95d88878686bf</td>\n",
       "      <td>volantis</td>\n",
       "      <td>road</td>\n",
       "    </tr>\n",
       "    <tr>\n",
       "      <td>4</td>\n",
       "      <td>1525</td>\n",
       "      <td>2674</td>\n",
       "      <td>2016-10-03 13:00:05.637000084</td>\n",
       "      <td>b0906e917dc5cc0bcba190fd80079a74</td>\n",
       "      <td>bravos</td>\n",
       "      <td>linear</td>\n",
       "    </tr>\n",
       "    <tr>\n",
       "      <td>...</td>\n",
       "      <td>...</td>\n",
       "      <td>...</td>\n",
       "      <td>...</td>\n",
       "      <td>...</td>\n",
       "      <td>...</td>\n",
       "      <td>...</td>\n",
       "    </tr>\n",
       "    <tr>\n",
       "      <td>58184</td>\n",
       "      <td>182</td>\n",
       "      <td>222</td>\n",
       "      <td>2016-10-04 20:33:03.806999922</td>\n",
       "      <td>7a7b7c6ae0671ea05ac039fe4d36874a</td>\n",
       "      <td>volantis</td>\n",
       "      <td>road</td>\n",
       "    </tr>\n",
       "    <tr>\n",
       "      <td>58185</td>\n",
       "      <td>22</td>\n",
       "      <td>0</td>\n",
       "      <td>2016-10-04 20:33:14.130000114</td>\n",
       "      <td>7d4c53b2a53cf9ffdee4d9f9f027be3a</td>\n",
       "      <td>volantis</td>\n",
       "      <td>road</td>\n",
       "    </tr>\n",
       "    <tr>\n",
       "      <td>58186</td>\n",
       "      <td>77</td>\n",
       "      <td>285</td>\n",
       "      <td>2016-10-04 20:33:28.573999882</td>\n",
       "      <td>57aa029c4c246d713ed03a75cc72700a</td>\n",
       "      <td>volantis</td>\n",
       "      <td>road</td>\n",
       "    </tr>\n",
       "    <tr>\n",
       "      <td>58187</td>\n",
       "      <td>17</td>\n",
       "      <td>88</td>\n",
       "      <td>2016-10-04 20:33:49.171999931</td>\n",
       "      <td>05f5cb64e8bfc417e56437e6324d367a</td>\n",
       "      <td>bravos</td>\n",
       "      <td>road</td>\n",
       "    </tr>\n",
       "    <tr>\n",
       "      <td>58188</td>\n",
       "      <td>91</td>\n",
       "      <td>309</td>\n",
       "      <td>2016-10-04 20:34:39.753000021</td>\n",
       "      <td>3e7b615fe0dfdb3b081ee0c9a2d838a8</td>\n",
       "      <td>volantis</td>\n",
       "      <td>linear</td>\n",
       "    </tr>\n",
       "  </tbody>\n",
       "</table>\n",
       "<p>58189 rows × 6 columns</p>\n",
       "</div>"
      ],
      "text/plain": [
       "       duration  distance                    started_at  \\\n",
       "0           245      1248 2016-10-03 13:00:00.852999926   \n",
       "1           471      2585 2016-10-03 13:00:01.841000080   \n",
       "2           182       743 2016-10-03 13:00:01.970000029   \n",
       "3           599      1351 2016-10-03 13:00:02.154000044   \n",
       "4          1525      2674 2016-10-03 13:00:05.637000084   \n",
       "...         ...       ...                           ...   \n",
       "58184       182       222 2016-10-04 20:33:03.806999922   \n",
       "58185        22         0 2016-10-04 20:33:14.130000114   \n",
       "58186        77       285 2016-10-04 20:33:28.573999882   \n",
       "58187        17        88 2016-10-04 20:33:49.171999931   \n",
       "58188        91       309 2016-10-04 20:34:39.753000021   \n",
       "\n",
       "                             vehicle_id   city_id trip_type  \n",
       "0      8336b28f24c3e7a1e3d582073b164895  volantis      road  \n",
       "1      81b63920454f70b6755a494e3b28b3a7    bravos    linear  \n",
       "2      b73030977cbad61c9db55418909864fa    pentos      road  \n",
       "3      126e868fb282852c2fa95d88878686bf  volantis      road  \n",
       "4      b0906e917dc5cc0bcba190fd80079a74    bravos    linear  \n",
       "...                                 ...       ...       ...  \n",
       "58184  7a7b7c6ae0671ea05ac039fe4d36874a  volantis      road  \n",
       "58185  7d4c53b2a53cf9ffdee4d9f9f027be3a  volantis      road  \n",
       "58186  57aa029c4c246d713ed03a75cc72700a  volantis      road  \n",
       "58187  05f5cb64e8bfc417e56437e6324d367a    bravos      road  \n",
       "58188  3e7b615fe0dfdb3b081ee0c9a2d838a8  volantis    linear  \n",
       "\n",
       "[58189 rows x 6 columns]"
      ]
     },
     "execution_count": 18,
     "metadata": {},
     "output_type": "execute_result"
    }
   ],
   "source": [
    "data_pickup.reset_index(drop = True)"
   ]
  },
  {
   "cell_type": "code",
   "execution_count": 19,
   "metadata": {
    "scrolled": true
   },
   "outputs": [
    {
     "data": {
      "text/html": [
       "<div>\n",
       "<style scoped>\n",
       "    .dataframe tbody tr th:only-of-type {\n",
       "        vertical-align: middle;\n",
       "    }\n",
       "\n",
       "    .dataframe tbody tr th {\n",
       "        vertical-align: top;\n",
       "    }\n",
       "\n",
       "    .dataframe thead th {\n",
       "        text-align: right;\n",
       "    }\n",
       "</style>\n",
       "<table border=\"1\" class=\"dataframe\">\n",
       "  <thead>\n",
       "    <tr style=\"text-align: right;\">\n",
       "      <th></th>\n",
       "      <th>duration</th>\n",
       "      <th>distance</th>\n",
       "      <th>started_at</th>\n",
       "      <th>vehicle_id</th>\n",
       "      <th>city_id</th>\n",
       "      <th>trip_type</th>\n",
       "      <th>speed(m/s)</th>\n",
       "    </tr>\n",
       "  </thead>\n",
       "  <tbody>\n",
       "    <tr>\n",
       "      <td>1</td>\n",
       "      <td>245</td>\n",
       "      <td>1248</td>\n",
       "      <td>2016-10-03 13:00:00.852999926</td>\n",
       "      <td>8336b28f24c3e7a1e3d582073b164895</td>\n",
       "      <td>volantis</td>\n",
       "      <td>road</td>\n",
       "      <td>5.09</td>\n",
       "    </tr>\n",
       "    <tr>\n",
       "      <td>3</td>\n",
       "      <td>471</td>\n",
       "      <td>2585</td>\n",
       "      <td>2016-10-03 13:00:01.841000080</td>\n",
       "      <td>81b63920454f70b6755a494e3b28b3a7</td>\n",
       "      <td>bravos</td>\n",
       "      <td>linear</td>\n",
       "      <td>5.49</td>\n",
       "    </tr>\n",
       "  </tbody>\n",
       "</table>\n",
       "</div>"
      ],
      "text/plain": [
       "   duration  distance                    started_at  \\\n",
       "1       245      1248 2016-10-03 13:00:00.852999926   \n",
       "3       471      2585 2016-10-03 13:00:01.841000080   \n",
       "\n",
       "                         vehicle_id   city_id trip_type  speed(m/s)  \n",
       "1  8336b28f24c3e7a1e3d582073b164895  volantis      road        5.09  \n",
       "3  81b63920454f70b6755a494e3b28b3a7    bravos    linear        5.49  "
      ]
     },
     "execution_count": 19,
     "metadata": {},
     "output_type": "execute_result"
    }
   ],
   "source": [
    "# We can create a column that will combine both numerical columns into one:\n",
    "\n",
    "data_pickup['speed(m/s)'] = round(data_pickup.distance / data_pickup.duration, 2)\n",
    "data_pickup.head(2)"
   ]
  },
  {
   "cell_type": "code",
   "execution_count": 20,
   "metadata": {},
   "outputs": [
    {
     "data": {
      "text/html": [
       "<div>\n",
       "<style scoped>\n",
       "    .dataframe tbody tr th:only-of-type {\n",
       "        vertical-align: middle;\n",
       "    }\n",
       "\n",
       "    .dataframe tbody tr th {\n",
       "        vertical-align: top;\n",
       "    }\n",
       "\n",
       "    .dataframe thead th {\n",
       "        text-align: right;\n",
       "    }\n",
       "</style>\n",
       "<table border=\"1\" class=\"dataframe\">\n",
       "  <thead>\n",
       "    <tr style=\"text-align: right;\">\n",
       "      <th></th>\n",
       "      <th>duration</th>\n",
       "      <th>distance</th>\n",
       "      <th>speed(m/s)</th>\n",
       "    </tr>\n",
       "  </thead>\n",
       "  <tbody>\n",
       "    <tr>\n",
       "      <td>count</td>\n",
       "      <td>58189.000000</td>\n",
       "      <td>5.818900e+04</td>\n",
       "      <td>58189.000000</td>\n",
       "    </tr>\n",
       "    <tr>\n",
       "      <td>mean</td>\n",
       "      <td>300.279967</td>\n",
       "      <td>9.847189e+02</td>\n",
       "      <td>26.700932</td>\n",
       "    </tr>\n",
       "    <tr>\n",
       "      <td>std</td>\n",
       "      <td>291.011881</td>\n",
       "      <td>1.046298e+04</td>\n",
       "      <td>3809.443808</td>\n",
       "    </tr>\n",
       "    <tr>\n",
       "      <td>min</td>\n",
       "      <td>1.000000</td>\n",
       "      <td>0.000000e+00</td>\n",
       "      <td>0.000000</td>\n",
       "    </tr>\n",
       "    <tr>\n",
       "      <td>25%</td>\n",
       "      <td>141.000000</td>\n",
       "      <td>3.100000e+02</td>\n",
       "      <td>1.680000</td>\n",
       "    </tr>\n",
       "    <tr>\n",
       "      <td>50%</td>\n",
       "      <td>237.000000</td>\n",
       "      <td>6.320000e+02</td>\n",
       "      <td>2.570000</td>\n",
       "    </tr>\n",
       "    <tr>\n",
       "      <td>75%</td>\n",
       "      <td>371.000000</td>\n",
       "      <td>1.070000e+03</td>\n",
       "      <td>3.620000</td>\n",
       "    </tr>\n",
       "    <tr>\n",
       "      <td>max</td>\n",
       "      <td>9441.000000</td>\n",
       "      <td>1.218089e+06</td>\n",
       "      <td>890705.000000</td>\n",
       "    </tr>\n",
       "  </tbody>\n",
       "</table>\n",
       "</div>"
      ],
      "text/plain": [
       "           duration      distance     speed(m/s)\n",
       "count  58189.000000  5.818900e+04   58189.000000\n",
       "mean     300.279967  9.847189e+02      26.700932\n",
       "std      291.011881  1.046298e+04    3809.443808\n",
       "min        1.000000  0.000000e+00       0.000000\n",
       "25%      141.000000  3.100000e+02       1.680000\n",
       "50%      237.000000  6.320000e+02       2.570000\n",
       "75%      371.000000  1.070000e+03       3.620000\n",
       "max     9441.000000  1.218089e+06  890705.000000"
      ]
     },
     "execution_count": 20,
     "metadata": {},
     "output_type": "execute_result"
    }
   ],
   "source": [
    "data_pickup.describe()"
   ]
  },
  {
   "cell_type": "code",
   "execution_count": 21,
   "metadata": {},
   "outputs": [
    {
     "data": {
      "text/html": [
       "<div>\n",
       "<style scoped>\n",
       "    .dataframe tbody tr th:only-of-type {\n",
       "        vertical-align: middle;\n",
       "    }\n",
       "\n",
       "    .dataframe tbody tr th {\n",
       "        vertical-align: top;\n",
       "    }\n",
       "\n",
       "    .dataframe thead th {\n",
       "        text-align: right;\n",
       "    }\n",
       "</style>\n",
       "<table border=\"1\" class=\"dataframe\">\n",
       "  <thead>\n",
       "    <tr style=\"text-align: right;\">\n",
       "      <th></th>\n",
       "      <th>duration</th>\n",
       "      <th>distance</th>\n",
       "      <th>started_at</th>\n",
       "      <th>vehicle_id</th>\n",
       "      <th>city_id</th>\n",
       "      <th>trip_type</th>\n",
       "      <th>speed(m/s)</th>\n",
       "    </tr>\n",
       "  </thead>\n",
       "  <tbody>\n",
       "    <tr>\n",
       "      <td>42689</td>\n",
       "      <td>1</td>\n",
       "      <td>890705</td>\n",
       "      <td>2016-10-03 19:42:36.312999964</td>\n",
       "      <td>76b5358c1c6e0a088275eb9ee3515506</td>\n",
       "      <td>bravos</td>\n",
       "      <td>linear</td>\n",
       "      <td>890705.00</td>\n",
       "    </tr>\n",
       "    <tr>\n",
       "      <td>33646</td>\n",
       "      <td>6</td>\n",
       "      <td>1137902</td>\n",
       "      <td>2016-10-03 18:22:06.230999947</td>\n",
       "      <td>20cb244cf1f99ff6f8966bd163597fc2</td>\n",
       "      <td>bravos</td>\n",
       "      <td>road</td>\n",
       "      <td>189650.33</td>\n",
       "    </tr>\n",
       "    <tr>\n",
       "      <td>33526</td>\n",
       "      <td>10</td>\n",
       "      <td>1137915</td>\n",
       "      <td>2016-10-03 18:21:12.326999903</td>\n",
       "      <td>20cb244cf1f99ff6f8966bd163597fc2</td>\n",
       "      <td>bravos</td>\n",
       "      <td>road</td>\n",
       "      <td>113791.50</td>\n",
       "    </tr>\n",
       "    <tr>\n",
       "      <td>125609</td>\n",
       "      <td>11</td>\n",
       "      <td>481489</td>\n",
       "      <td>2016-10-04 15:29:23.582999945</td>\n",
       "      <td>49230991f961991ec4ff409a095901e0</td>\n",
       "      <td>bravos</td>\n",
       "      <td>linear</td>\n",
       "      <td>43771.73</td>\n",
       "    </tr>\n",
       "    <tr>\n",
       "      <td>104005</td>\n",
       "      <td>51</td>\n",
       "      <td>502384</td>\n",
       "      <td>2016-10-04 12:25:02.571000099</td>\n",
       "      <td>49230991f961991ec4ff409a095901e0</td>\n",
       "      <td>bravos</td>\n",
       "      <td>linear</td>\n",
       "      <td>9850.67</td>\n",
       "    </tr>\n",
       "    <tr>\n",
       "      <td>37214</td>\n",
       "      <td>199</td>\n",
       "      <td>1218089</td>\n",
       "      <td>2016-10-03 18:56:19.263999939</td>\n",
       "      <td>c43669ba1841e08d62cad05ea6072265</td>\n",
       "      <td>bravos</td>\n",
       "      <td>road</td>\n",
       "      <td>6121.05</td>\n",
       "    </tr>\n",
       "    <tr>\n",
       "      <td>66518</td>\n",
       "      <td>102</td>\n",
       "      <td>374951</td>\n",
       "      <td>2016-10-03 22:57:36.976999998</td>\n",
       "      <td>2bec5bba5cfc7900ea100db9665f4bc3</td>\n",
       "      <td>pentos</td>\n",
       "      <td>road</td>\n",
       "      <td>3675.99</td>\n",
       "    </tr>\n",
       "    <tr>\n",
       "      <td>148994</td>\n",
       "      <td>1</td>\n",
       "      <td>3349</td>\n",
       "      <td>2016-10-04 18:33:07.588000059</td>\n",
       "      <td>3a32846d4db07ec1709a95c574ab5373</td>\n",
       "      <td>pentos</td>\n",
       "      <td>linear</td>\n",
       "      <td>3349.00</td>\n",
       "    </tr>\n",
       "    <tr>\n",
       "      <td>107927</td>\n",
       "      <td>1</td>\n",
       "      <td>3294</td>\n",
       "      <td>2016-10-04 12:59:45.303999901</td>\n",
       "      <td>2c5a51c9719714988762059cb42e9281</td>\n",
       "      <td>pentos</td>\n",
       "      <td>road</td>\n",
       "      <td>3294.00</td>\n",
       "    </tr>\n",
       "    <tr>\n",
       "      <td>39965</td>\n",
       "      <td>5</td>\n",
       "      <td>13786</td>\n",
       "      <td>2016-10-03 19:19:54.680000067</td>\n",
       "      <td>40f783608af850a2b4138d64ed47eec7</td>\n",
       "      <td>pentos</td>\n",
       "      <td>road</td>\n",
       "      <td>2757.20</td>\n",
       "    </tr>\n",
       "  </tbody>\n",
       "</table>\n",
       "</div>"
      ],
      "text/plain": [
       "        duration  distance                    started_at  \\\n",
       "42689          1    890705 2016-10-03 19:42:36.312999964   \n",
       "33646          6   1137902 2016-10-03 18:22:06.230999947   \n",
       "33526         10   1137915 2016-10-03 18:21:12.326999903   \n",
       "125609        11    481489 2016-10-04 15:29:23.582999945   \n",
       "104005        51    502384 2016-10-04 12:25:02.571000099   \n",
       "37214        199   1218089 2016-10-03 18:56:19.263999939   \n",
       "66518        102    374951 2016-10-03 22:57:36.976999998   \n",
       "148994         1      3349 2016-10-04 18:33:07.588000059   \n",
       "107927         1      3294 2016-10-04 12:59:45.303999901   \n",
       "39965          5     13786 2016-10-03 19:19:54.680000067   \n",
       "\n",
       "                              vehicle_id city_id trip_type  speed(m/s)  \n",
       "42689   76b5358c1c6e0a088275eb9ee3515506  bravos    linear   890705.00  \n",
       "33646   20cb244cf1f99ff6f8966bd163597fc2  bravos      road   189650.33  \n",
       "33526   20cb244cf1f99ff6f8966bd163597fc2  bravos      road   113791.50  \n",
       "125609  49230991f961991ec4ff409a095901e0  bravos    linear    43771.73  \n",
       "104005  49230991f961991ec4ff409a095901e0  bravos    linear     9850.67  \n",
       "37214   c43669ba1841e08d62cad05ea6072265  bravos      road     6121.05  \n",
       "66518   2bec5bba5cfc7900ea100db9665f4bc3  pentos      road     3675.99  \n",
       "148994  3a32846d4db07ec1709a95c574ab5373  pentos    linear     3349.00  \n",
       "107927  2c5a51c9719714988762059cb42e9281  pentos      road     3294.00  \n",
       "39965   40f783608af850a2b4138d64ed47eec7  pentos      road     2757.20  "
      ]
     },
     "execution_count": 21,
     "metadata": {},
     "output_type": "execute_result"
    }
   ],
   "source": [
    "# The max speed is 890705 m/s, which looks unlikely. Let's check the top 10 speeds.\n",
    "\n",
    "data_pickup.nlargest(10, 'speed(m/s)')"
   ]
  },
  {
   "cell_type": "code",
   "execution_count": 22,
   "metadata": {},
   "outputs": [
    {
     "data": {
      "text/plain": [
       "565"
      ]
     },
     "execution_count": 22,
     "metadata": {},
     "output_type": "execute_result"
    }
   ],
   "source": [
    "# Knowing that 120km/h (max allowed on roads in Spain) is 33.33 m/s, we can assume any speed above 35 m/s is a bad lecture.\n",
    "\n",
    "len(data_pickup[data_pickup['speed(m/s)'] > 35])"
   ]
  },
  {
   "cell_type": "code",
   "execution_count": 23,
   "metadata": {},
   "outputs": [],
   "source": [
    "# As there are only 565 bad lectures we can drop them too.\n",
    "\n",
    "data_pickup.drop(data_pickup[(data_pickup['speed(m/s)'] > 35)].index,\n",
    "                 axis=0, inplace=True)"
   ]
  },
  {
   "cell_type": "code",
   "execution_count": 24,
   "metadata": {},
   "outputs": [
    {
     "data": {
      "text/plain": [
       "446"
      ]
     },
     "execution_count": 24,
     "metadata": {},
     "output_type": "execute_result"
    }
   ],
   "source": [
    "len(data_pickup[data_pickup['speed(m/s)'] > 14])"
   ]
  },
  {
   "cell_type": "code",
   "execution_count": 25,
   "metadata": {},
   "outputs": [
    {
     "data": {
      "text/html": [
       "<div>\n",
       "<style scoped>\n",
       "    .dataframe tbody tr th:only-of-type {\n",
       "        vertical-align: middle;\n",
       "    }\n",
       "\n",
       "    .dataframe tbody tr th {\n",
       "        vertical-align: top;\n",
       "    }\n",
       "\n",
       "    .dataframe thead th {\n",
       "        text-align: right;\n",
       "    }\n",
       "</style>\n",
       "<table border=\"1\" class=\"dataframe\">\n",
       "  <thead>\n",
       "    <tr style=\"text-align: right;\">\n",
       "      <th></th>\n",
       "      <th></th>\n",
       "      <th>duration_max</th>\n",
       "      <th>distance_max</th>\n",
       "      <th>speed_avg</th>\n",
       "      <th>speed_std</th>\n",
       "    </tr>\n",
       "    <tr>\n",
       "      <th>city_id</th>\n",
       "      <th>trip_type</th>\n",
       "      <th></th>\n",
       "      <th></th>\n",
       "      <th></th>\n",
       "      <th></th>\n",
       "    </tr>\n",
       "  </thead>\n",
       "  <tbody>\n",
       "    <tr>\n",
       "      <td rowspan=\"2\" valign=\"top\">bravos</td>\n",
       "      <td>linear</td>\n",
       "      <td>5201</td>\n",
       "      <td>87403</td>\n",
       "      <td>3.570060</td>\n",
       "      <td>3.523809</td>\n",
       "    </tr>\n",
       "    <tr>\n",
       "      <td>road</td>\n",
       "      <td>4027</td>\n",
       "      <td>46558</td>\n",
       "      <td>3.536778</td>\n",
       "      <td>3.382639</td>\n",
       "    </tr>\n",
       "    <tr>\n",
       "      <td rowspan=\"2\" valign=\"top\">pentos</td>\n",
       "      <td>linear</td>\n",
       "      <td>9441</td>\n",
       "      <td>28442</td>\n",
       "      <td>2.801100</td>\n",
       "      <td>2.158333</td>\n",
       "    </tr>\n",
       "    <tr>\n",
       "      <td>road</td>\n",
       "      <td>7305</td>\n",
       "      <td>45089</td>\n",
       "      <td>2.847261</td>\n",
       "      <td>2.260898</td>\n",
       "    </tr>\n",
       "    <tr>\n",
       "      <td rowspan=\"2\" valign=\"top\">volantis</td>\n",
       "      <td>linear</td>\n",
       "      <td>4887</td>\n",
       "      <td>22396</td>\n",
       "      <td>2.811267</td>\n",
       "      <td>2.595101</td>\n",
       "    </tr>\n",
       "    <tr>\n",
       "      <td>road</td>\n",
       "      <td>4808</td>\n",
       "      <td>65492</td>\n",
       "      <td>2.796896</td>\n",
       "      <td>2.481687</td>\n",
       "    </tr>\n",
       "  </tbody>\n",
       "</table>\n",
       "</div>"
      ],
      "text/plain": [
       "                    duration_max  distance_max  speed_avg  speed_std\n",
       "city_id  trip_type                                                  \n",
       "bravos   linear             5201         87403   3.570060   3.523809\n",
       "         road               4027         46558   3.536778   3.382639\n",
       "pentos   linear             9441         28442   2.801100   2.158333\n",
       "         road               7305         45089   2.847261   2.260898\n",
       "volantis linear             4887         22396   2.811267   2.595101\n",
       "         road               4808         65492   2.796896   2.481687"
      ]
     },
     "execution_count": 25,
     "metadata": {},
     "output_type": "execute_result"
    }
   ],
   "source": [
    "data_pickup.groupby(['city_id', 'trip_type']).agg(duration_max = ('duration', 'max'),\n",
    "                                                  distance_max = ('distance', 'max'),\n",
    "                                                  speed_avg = ('speed(m/s)', 'mean'),\n",
    "                                                  speed_std = ('speed(m/s)', np.std))"
   ]
  },
  {
   "cell_type": "markdown",
   "metadata": {},
   "source": [
    "As we can see, the speed avg and the speed std are very similar when comparing trip_type in the same city.\n",
    "\n",
    "Let's check with statistics. We should use an independent t-test for it."
   ]
  },
  {
   "cell_type": "code",
   "execution_count": 26,
   "metadata": {},
   "outputs": [
    {
     "data": {
      "text/plain": [
       "Ttest_indResult(statistic=1.230979657772506, pvalue=0.2183354970097834)"
      ]
     },
     "execution_count": 26,
     "metadata": {},
     "output_type": "execute_result"
    }
   ],
   "source": [
    "speed_road   = data_pickup[data_pickup.trip_type == 'road']['speed(m/s)']\n",
    "speed_linear = data_pickup[data_pickup.trip_type == 'linear']['speed(m/s)']\n",
    "\n",
    "stats.ttest_ind(speed_road, speed_linear)"
   ]
  },
  {
   "cell_type": "markdown",
   "metadata": {},
   "source": [
    "On global, pvalue is too big to say the values are similar.\n",
    "\n",
    "We can check city by city."
   ]
  },
  {
   "cell_type": "code",
   "execution_count": 27,
   "metadata": {},
   "outputs": [
    {
     "name": "stdout",
     "output_type": "stream",
     "text": [
      "volantis p-value = 0.7554145681139712\n",
      "bravos p-value = 0.7165732132686538\n",
      "pentos p-value = 0.03997881687518233\n"
     ]
    }
   ],
   "source": [
    "def t_test_city(df, city):\n",
    "    speed_road   = df[(df.trip_type == 'road') & (df.city_id == city)]['speed(m/s)']\n",
    "    speed_linear = df[(df.trip_type == 'linear') & (df.city_id == city)]['speed(m/s)']\n",
    "    p_value = stats.ttest_ind(speed_road, speed_linear)[1]\n",
    "    return p_value\n",
    "\n",
    "list_of_citys = data_pickup.city_id.unique()\n",
    "\n",
    "for city in list_of_citys:\n",
    "#     print(city)\n",
    "    print(f'{city} p-value = {t_test_city(data_pickup, city)}')"
   ]
  },
  {
   "cell_type": "markdown",
   "metadata": {},
   "source": [
    "In an ideal world, we would have an alpha level. If not, we can still use the following rough guidelines in deciding whether to support or reject the null hypothesis:\n",
    "\n",
    "- If p > .10 → “not significant”\n",
    "- If p ≤ .10 → “marginally significant”\n",
    "- If p ≤ .05 → “significant”\n",
    "- If p ≤ .01 → “highly significant.”\n",
    "\n",
    "Therefore, only Pentos has a \"marginally significant\" p-value, whereas Volantis and Braavos are not significant."
   ]
  },
  {
   "cell_type": "code",
   "execution_count": 28,
   "metadata": {
    "scrolled": true
   },
   "outputs": [
    {
     "name": "stdout",
     "output_type": "stream",
     "text": [
      "Pentos represents 69.0% of the usage.\n"
     ]
    }
   ],
   "source": [
    "# We need to see what proportion does Pentos represent of the total data:\n",
    "\n",
    "print(f\"Pentos represents {round(data_pickup[data_pickup.city_id == 'pentos'].shape[0]/data_pickup.shape[0], 2)*100}% of the usage.\")"
   ]
  },
  {
   "cell_type": "markdown",
   "metadata": {},
   "source": []
  },
  {
   "cell_type": "markdown",
   "metadata": {},
   "source": [
    "Another factor to be included in the analysis is rush hours, or hours with the most users."
   ]
  },
  {
   "cell_type": "code",
   "execution_count": 29,
   "metadata": {},
   "outputs": [],
   "source": [
    "data_pickup['day'] = [x.date() for x in data_pickup['started_at']]\n",
    "data_pickup['time'] = [x.time() for x in data_pickup['started_at']]"
   ]
  },
  {
   "cell_type": "code",
   "execution_count": 30,
   "metadata": {},
   "outputs": [],
   "source": [
    "# We can now drop the started_at and vehicle_id columns, as we won't be using them anymore:\n",
    "\n",
    "data_pickup.drop(columns = ['started_at', 'vehicle_id'], inplace=True)"
   ]
  },
  {
   "cell_type": "code",
   "execution_count": 31,
   "metadata": {},
   "outputs": [
    {
     "data": {
      "text/html": [
       "<div>\n",
       "<style scoped>\n",
       "    .dataframe tbody tr th:only-of-type {\n",
       "        vertical-align: middle;\n",
       "    }\n",
       "\n",
       "    .dataframe tbody tr th {\n",
       "        vertical-align: top;\n",
       "    }\n",
       "\n",
       "    .dataframe thead th {\n",
       "        text-align: right;\n",
       "    }\n",
       "</style>\n",
       "<table border=\"1\" class=\"dataframe\">\n",
       "  <thead>\n",
       "    <tr style=\"text-align: right;\">\n",
       "      <th></th>\n",
       "      <th>duration</th>\n",
       "      <th>distance</th>\n",
       "      <th>city_id</th>\n",
       "      <th>trip_type</th>\n",
       "      <th>speed(m/s)</th>\n",
       "      <th>day</th>\n",
       "      <th>time</th>\n",
       "    </tr>\n",
       "  </thead>\n",
       "  <tbody>\n",
       "    <tr>\n",
       "      <td>1</td>\n",
       "      <td>245</td>\n",
       "      <td>1248</td>\n",
       "      <td>volantis</td>\n",
       "      <td>road</td>\n",
       "      <td>5.09</td>\n",
       "      <td>2016-10-03</td>\n",
       "      <td>13:00:00.852999</td>\n",
       "    </tr>\n",
       "    <tr>\n",
       "      <td>3</td>\n",
       "      <td>471</td>\n",
       "      <td>2585</td>\n",
       "      <td>bravos</td>\n",
       "      <td>linear</td>\n",
       "      <td>5.49</td>\n",
       "      <td>2016-10-03</td>\n",
       "      <td>13:00:01.841000</td>\n",
       "    </tr>\n",
       "  </tbody>\n",
       "</table>\n",
       "</div>"
      ],
      "text/plain": [
       "   duration  distance   city_id trip_type  speed(m/s)         day  \\\n",
       "1       245      1248  volantis      road        5.09  2016-10-03   \n",
       "3       471      2585    bravos    linear        5.49  2016-10-03   \n",
       "\n",
       "              time  \n",
       "1  13:00:00.852999  \n",
       "3  13:00:01.841000  "
      ]
     },
     "execution_count": 31,
     "metadata": {},
     "output_type": "execute_result"
    }
   ],
   "source": [
    "data_pickup.head(2)"
   ]
  },
  {
   "cell_type": "code",
   "execution_count": 32,
   "metadata": {},
   "outputs": [
    {
     "data": {
      "text/plain": [
       "array([datetime.date(2016, 10, 3), datetime.date(2016, 10, 4)],\n",
       "      dtype=object)"
      ]
     },
     "execution_count": 32,
     "metadata": {},
     "output_type": "execute_result"
    }
   ],
   "source": [
    "data_pickup.day.unique()"
   ]
  },
  {
   "cell_type": "code",
   "execution_count": 33,
   "metadata": {},
   "outputs": [
    {
     "data": {
      "text/plain": [
       "array([datetime.date(2016, 10, 3), datetime.date(2016, 10, 4)],\n",
       "      dtype=object)"
      ]
     },
     "execution_count": 33,
     "metadata": {},
     "output_type": "execute_result"
    }
   ],
   "source": [
    "test = pd.DataFrame()\n",
    "test['day'] = [x.date() for x in original_data['started_at']]\n",
    "test['day'].unique()"
   ]
  },
  {
   "cell_type": "code",
   "execution_count": 48,
   "metadata": {
    "scrolled": false
   },
   "outputs": [
    {
     "data": {
      "image/png": "[encoded data removed]",
      "text/plain": [
       "<Figure size 1440x432 with 2 Axes>"
      ]
     },
     "metadata": {
      "needs_background": "light"
     },
     "output_type": "display_data"
    },
    {
     "data": {
      "text/plain": [
       "<Figure size 432x288 with 0 Axes>"
      ]
     },
     "metadata": {},
     "output_type": "display_data"
    }
   ],
   "source": [
    "fig=plt.figure(figsize = (20,6))\n",
    "ax1 = plt.subplot(121)\n",
    "ax2 = plt.subplot(122, sharey = ax1)\n",
    "\n",
    "\n",
    "ax1.hist(data_pickup[data_pickup.day == datetime.date(2016, 10, 3)].time, bins = 20)\n",
    "ax1.set_title('03/10/2016')\n",
    "\n",
    "ax2.hist(data_pickup[data_pickup.day == datetime.date(2016, 10, 4)].time, bins = 20)\n",
    "ax2.set_title('04/10/2016')\n",
    "\n",
    "plt.show()\n",
    "plt.clf()"
   ]
  },
  {
   "cell_type": "markdown",
   "metadata": {},
   "source": [
    "Because we only have data of 31h, we can't compare day by day evolution.\n",
    "\n",
    "It would be interesting to know which days there are more trips."
   ]
  },
  {
   "cell_type": "markdown",
   "metadata": {},
   "source": [
    "## Answers:\n",
    "\n",
    "- Should the company move towards road distance? What's the max price it would make sense to pay per query? (make all the assumptions you need, and make them explicit)\n",
    "- How would you improve the experimental design? Would you collect any additional data?\n",
    "\n",
    "As the p-value of the t-tests showed, it doesn't seem to be necessary to move towards road distance in all the cities. Pentos is the only city where the implementation would have a real change, and, as it's the city where most of the data was gathered, it's possible that it could be useful. It would be interesting to know the population of every city, or the size of the fleet, to know what this difference is due to.\n",
    "\n",
    "Because we don't have the data for 5 days, we can't make a real valoration of the peaks of work and the price it would make sense to pay according to offer and demand. To make this assessment, we would need to evaluate the data for a month, to be able to pinpoint rush hours.\n",
    "\n",
    "In case we could check on this data, it would be a way to create a variable tariff, with available cars per period and distance to the pickup point. This tariff would also have some variables, as mpl, that are not contemplated in the data available."
   ]
  }
 ],
 "metadata": {
  "kernelspec": {
   "display_name": "Python 3",
   "language": "python",
   "name": "python3"
  },
  "language_info": {
   "codemirror_mode": {
    "name": "ipython",
    "version": 3
   },
   "file_extension": ".py",
   "mimetype": "text/x-python",
   "name": "python",
   "nbconvert_exporter": "python",
   "pygments_lexer": "ipython3",
   "version": "3.7.4"
  }
 },
 "nbformat": 4,
 "nbformat_minor": 2
}
